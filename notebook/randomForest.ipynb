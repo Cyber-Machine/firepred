{
  "cells": [
    {
      "attachments": {},
      "cell_type": "markdown",
      "metadata": {},
      "source": [
        "# Random Forest\n"
      ]
    },
    {
      "cell_type": "code",
      "execution_count": null,
      "metadata": {
        "id": "E49B3N0qiWnn"
      },
      "outputs": [],
      "source": [
        "import pandas as pd\n",
        "import numpy as np"
      ]
    },
    {
      "cell_type": "code",
      "execution_count": null,
      "metadata": {
        "colab": {
          "base_uri": "https://localhost:8080/",
          "height": 206
        },
        "id": "OKV2J-JxijTf",
        "outputId": "f8514c1d-510f-4708-d00a-3bd0aec46383"
      },
      "outputs": [],
      "source": [
        "df = pd.read_csv(\"../data/forest_data.csv\")\n",
        "df.head()"
      ]
    },
    {
      "cell_type": "code",
      "execution_count": null,
      "metadata": {
        "colab": {
          "base_uri": "https://localhost:8080/"
        },
        "id": "G1ikRE0Kinnw",
        "outputId": "fe37e6ef-0ce8-47ba-d245-95e81a974c2f"
      },
      "outputs": [],
      "source": [
        "df.info()"
      ]
    },
    {
      "cell_type": "code",
      "execution_count": null,
      "metadata": {
        "id": "_o79ICO89Bkx"
      },
      "outputs": [],
      "source": [
        "from sklearn.model_selection import train_test_split\n",
        "\n",
        "\n",
        "def data_split(df, target, test_size):\n",
        "    X, Y = df.drop([\"Area\", target], axis=1), df[target]\n",
        "    x_train, x_test, y_train, y_test = train_test_split(\n",
        "        X, Y, random_state=0, test_size=test_size\n",
        "    )\n",
        "    train = pd.concat([x_train, y_train], axis=1)\n",
        "    test = pd.concat([x_test, y_test], axis=1)\n",
        "    print(x_train.shape, x_test.shape)\n",
        "    return x_train, x_test, y_train, y_test"
      ]
    },
    {
      "cell_type": "code",
      "execution_count": null,
      "metadata": {
        "colab": {
          "base_uri": "https://localhost:8080/"
        },
        "id": "i-S2wk9z9I1l",
        "outputId": "ce24ba1d-ff88-42d1-a8a8-36dd1d0fc3c6"
      },
      "outputs": [],
      "source": [
        "x_train, x_test, y_train, y_test = data_split(df, \"Fire Occurrence\", 0.2)"
      ]
    },
    {
      "cell_type": "code",
      "execution_count": null,
      "metadata": {
        "id": "BtJabMpl9M05"
      },
      "outputs": [],
      "source": [
        "from sklearn.ensemble import RandomForestClassifier as rfc\n",
        "from sklearn.model_selection import RandomizedSearchCV\n",
        "\n",
        "best_model = rfc(\n",
        "    max_samples=187, max_leaf_nodes=94, max_features=\"log2\", max_depth=13\n",
        ")\n",
        "num_iter = 15\n",
        "best_model.fit(x_train, y_train)"
      ]
    },
    {
      "cell_type": "code",
      "execution_count": null,
      "metadata": {
        "colab": {
          "base_uri": "https://localhost:8080/"
        },
        "id": "SB7B2ccb9XyJ",
        "outputId": "c874e8ca-cfe7-4c86-cde5-bf967315b6a0"
      },
      "outputs": [],
      "source": [
        "best_model.best_params_"
      ]
    },
    {
      "cell_type": "code",
      "execution_count": null,
      "metadata": {
        "colab": {
          "base_uri": "https://localhost:8080/"
        },
        "id": "A1ThhMCK9mGP",
        "outputId": "7cec13e7-1698-4100-d36c-3268e9eff055"
      },
      "outputs": [],
      "source": [
        "from sklearn.metrics import (\n",
        "    accuracy_score,\n",
        "    classification_report,\n",
        "    confusion_matrix,\n",
        ")\n",
        "\n",
        "train_pred = best_model.predict(x_train)\n",
        "print(\"\\t\\tTRAIN:\\n\")\n",
        "print(f\"Accuracy: {accuracy_score(y_train, train_pred)}\\n\")\n",
        "print(f\"Classification report: \\n {classification_report(y_train, train_pred)}\")\n",
        "train_cm = confusion_matrix(y_train, train_pred)\n",
        "print(f\"Confusion matrix: \\n {confusion_matrix(y_train, train_pred)}\")"
      ]
    },
    {
      "cell_type": "code",
      "execution_count": null,
      "metadata": {
        "colab": {
          "base_uri": "https://localhost:8080/",
          "height": 472
        },
        "id": "7wnmuT3d9siH",
        "outputId": "54c057e1-a311-4b4b-c295-b3d6058a1633"
      },
      "outputs": [],
      "source": [
        "import seaborn as sns\n",
        "import matplotlib.pyplot as plt\n",
        "\n",
        "sns.heatmap(train_cm, annot=True, cmap=\"Blues\", fmt=\"d\")\n",
        "\n",
        "plt.xlabel(\"Predicted Labels\")\n",
        "plt.ylabel(\"True Labels\")\n",
        "plt.title(\"Confusion Matrix\")\n",
        "\n",
        "class_labels = [\"Fire\", \"Non Fire\"]\n",
        "ticks = np.arange(len(class_labels)) + 0.5\n",
        "plt.xticks(ticks, class_labels)\n",
        "plt.yticks(ticks, class_labels)\n",
        "plt.show()"
      ]
    },
    {
      "cell_type": "code",
      "execution_count": null,
      "metadata": {
        "colab": {
          "base_uri": "https://localhost:8080/"
        },
        "id": "swV6BS0N9zGV",
        "outputId": "7acd0f91-7498-43ff-cc6d-277018f0b6b6"
      },
      "outputs": [],
      "source": [
        "test_pred = best_model.predict(x_test)\n",
        "print(\"\\t\\tTEST:\\n\")\n",
        "print(f\"Accuracy: {accuracy_score(y_test, test_pred)}\\n\")\n",
        "print(f\"Classification report: \\n {classification_report(y_test, test_pred)}\")\n",
        "test_cm = confusion_matrix(y_test, test_pred)\n",
        "print(f\"Confusion matrix: \\n {test_cm}\")"
      ]
    },
    {
      "cell_type": "code",
      "execution_count": null,
      "metadata": {
        "colab": {
          "base_uri": "https://localhost:8080/",
          "height": 472
        },
        "id": "LvWbCPq597YS",
        "outputId": "903e8693-760b-4a2e-ecb2-772dae8ddd3b"
      },
      "outputs": [],
      "source": [
        "sns.heatmap(test_cm, annot=True, cmap=\"Blues\", fmt=\"d\")\n",
        "\n",
        "plt.xlabel(\"Predicted Labels\")\n",
        "plt.ylabel(\"True Labels\")\n",
        "plt.title(\"Confusion Matrix\")\n",
        "\n",
        "class_labels = [\"Fire\", \"Non Fire\"]\n",
        "ticks = np.arange(len(class_labels)) + 0.5\n",
        "plt.xticks(ticks, class_labels)\n",
        "plt.yticks(ticks, class_labels)\n",
        "plt.show()"
      ]
    },
    {
      "cell_type": "code",
      "execution_count": null,
      "metadata": {
        "id": "AnDTY4Tf-Dji"
      },
      "outputs": [],
      "source": [
        "import pickle\n",
        "\n",
        "file_name = \"randomForest.pkl\"\n",
        "with open(file_name, \"wb\") as f:\n",
        "    pickle.dump(best_model.best_estimator_, f)"
      ]
    },
    {
      "cell_type": "code",
      "execution_count": null,
      "metadata": {
        "id": "HTSkfHiz-KL3"
      },
      "outputs": [],
      "source": []
    }
  ],
  "metadata": {
    "colab": {
      "provenance": []
    },
    "kernelspec": {
      "display_name": "Python 3",
      "name": "python3"
    },
    "language_info": {
      "codemirror_mode": {
        "name": "ipython",
        "version": 3
      },
      "file_extension": ".py",
      "mimetype": "text/x-python",
      "name": "python",
      "nbconvert_exporter": "python",
      "pygments_lexer": "ipython3",
      "version": "3.9.16"
    }
  },
  "nbformat": 4,
  "nbformat_minor": 0
}

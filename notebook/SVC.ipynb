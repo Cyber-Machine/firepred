{
  "cells": [
    {
      "attachments": {},
      "cell_type": "markdown",
      "metadata": {},
      "source": [
        "# Support Vector Classifier\n"
      ]
    },
    {
      "cell_type": "code",
      "execution_count": 1,
      "metadata": {
        "id": "E49B3N0qiWnn"
      },
      "outputs": [],
      "source": [
        "import pandas as pd\n",
        "import numpy as np"
      ]
    },
    {
      "cell_type": "code",
      "execution_count": 2,
      "metadata": {
        "colab": {
          "base_uri": "https://localhost:8080/",
          "height": 206
        },
        "id": "OKV2J-JxijTf",
        "outputId": "f8514c1d-510f-4708-d00a-3bd0aec46383"
      },
      "outputs": [
        {
          "data": {
            "text/html": [
              "<div>\n",
              "<style scoped>\n",
              "    .dataframe tbody tr th:only-of-type {\n",
              "        vertical-align: middle;\n",
              "    }\n",
              "\n",
              "    .dataframe tbody tr th {\n",
              "        vertical-align: top;\n",
              "    }\n",
              "\n",
              "    .dataframe thead th {\n",
              "        text-align: right;\n",
              "    }\n",
              "</style>\n",
              "<table border=\"1\" class=\"dataframe\">\n",
              "  <thead>\n",
              "    <tr style=\"text-align: right;\">\n",
              "      <th></th>\n",
              "      <th>Area</th>\n",
              "      <th>Oxygen</th>\n",
              "      <th>Temperature</th>\n",
              "      <th>Humidity</th>\n",
              "      <th>Fire Occurrence</th>\n",
              "    </tr>\n",
              "  </thead>\n",
              "  <tbody>\n",
              "    <tr>\n",
              "      <th>0</th>\n",
              "      <td>Kotagiri</td>\n",
              "      <td>5</td>\n",
              "      <td>19</td>\n",
              "      <td>52</td>\n",
              "      <td>1</td>\n",
              "    </tr>\n",
              "    <tr>\n",
              "      <th>1</th>\n",
              "      <td>Ladakh</td>\n",
              "      <td>8</td>\n",
              "      <td>26</td>\n",
              "      <td>59</td>\n",
              "      <td>1</td>\n",
              "    </tr>\n",
              "    <tr>\n",
              "      <th>2</th>\n",
              "      <td>Andaman</td>\n",
              "      <td>6</td>\n",
              "      <td>22</td>\n",
              "      <td>63</td>\n",
              "      <td>0</td>\n",
              "    </tr>\n",
              "    <tr>\n",
              "      <th>3</th>\n",
              "      <td>Jim</td>\n",
              "      <td>9</td>\n",
              "      <td>26</td>\n",
              "      <td>59</td>\n",
              "      <td>1</td>\n",
              "    </tr>\n",
              "    <tr>\n",
              "      <th>4</th>\n",
              "      <td>Silent</td>\n",
              "      <td>8</td>\n",
              "      <td>27</td>\n",
              "      <td>65</td>\n",
              "      <td>1</td>\n",
              "    </tr>\n",
              "  </tbody>\n",
              "</table>\n",
              "</div>"
            ],
            "text/plain": [
              "       Area  Oxygen  Temperature  Humidity  Fire Occurrence\n",
              "0  Kotagiri       5           19        52                1\n",
              "1    Ladakh       8           26        59                1\n",
              "2   Andaman       6           22        63                0\n",
              "3       Jim       9           26        59                1\n",
              "4    Silent       8           27        65                1"
            ]
          },
          "execution_count": 2,
          "metadata": {},
          "output_type": "execute_result"
        }
      ],
      "source": [
        "df = pd.read_csv(\"../data/forest_data.csv\")\n",
        "df.head()"
      ]
    },
    {
      "cell_type": "code",
      "execution_count": 3,
      "metadata": {
        "colab": {
          "base_uri": "https://localhost:8080/"
        },
        "id": "G1ikRE0Kinnw",
        "outputId": "fe37e6ef-0ce8-47ba-d245-95e81a974c2f"
      },
      "outputs": [
        {
          "name": "stdout",
          "output_type": "stream",
          "text": [
            "<class 'pandas.core.frame.DataFrame'>\n",
            "RangeIndex: 5000 entries, 0 to 4999\n",
            "Data columns (total 5 columns):\n",
            " #   Column           Non-Null Count  Dtype \n",
            "---  ------           --------------  ----- \n",
            " 0   Area             5000 non-null   object\n",
            " 1   Oxygen           5000 non-null   int64 \n",
            " 2   Temperature      5000 non-null   int64 \n",
            " 3   Humidity         5000 non-null   int64 \n",
            " 4   Fire Occurrence  5000 non-null   int64 \n",
            "dtypes: int64(4), object(1)\n",
            "memory usage: 195.4+ KB\n"
          ]
        }
      ],
      "source": [
        "df.info()"
      ]
    },
    {
      "cell_type": "code",
      "execution_count": 4,
      "metadata": {
        "id": "_o79ICO89Bkx"
      },
      "outputs": [],
      "source": [
        "from sklearn.model_selection import train_test_split\n",
        "\n",
        "\n",
        "def data_split(df, target, test_size):\n",
        "    X, Y = df.drop([\"Area\", target], axis=1), df[target]\n",
        "    x_train, x_test, y_train, y_test = train_test_split(\n",
        "        X, Y, random_state=0, test_size=test_size\n",
        "    )\n",
        "    train = pd.concat([x_train, y_train], axis=1)\n",
        "    test = pd.concat([x_test, y_test], axis=1)\n",
        "    print(x_train.shape, x_test.shape)\n",
        "    return x_train, x_test, y_train, y_test"
      ]
    },
    {
      "cell_type": "code",
      "execution_count": 5,
      "metadata": {
        "colab": {
          "base_uri": "https://localhost:8080/"
        },
        "id": "i-S2wk9z9I1l",
        "outputId": "ce24ba1d-ff88-42d1-a8a8-36dd1d0fc3c6"
      },
      "outputs": [
        {
          "name": "stdout",
          "output_type": "stream",
          "text": [
            "(4000, 3) (1000, 3)\n"
          ]
        }
      ],
      "source": [
        "x_train, x_test, y_train, y_test = data_split(df, \"Fire Occurrence\", 0.2)"
      ]
    },
    {
      "cell_type": "code",
      "execution_count": 6,
      "metadata": {
        "id": "BtJabMpl9M05"
      },
      "outputs": [],
      "source": [
        "from sklearn.svm import SVC\n",
        "from sklearn.model_selection import GridSearchCV\n",
        "\n",
        "model = SVC()\n",
        "num_iter = 7\n",
        "grid_values = {\n",
        "    \"C\": np.linspace(0.1, 3, num=num_iter),\n",
        "    \"gamma\": np.linspace(0, 3, num=num_iter),\n",
        "    \"shrinking\": [True, False],\n",
        "    \"probability\": [True, False],\n",
        "}"
      ]
    },
    {
      "cell_type": "code",
      "execution_count": 7,
      "metadata": {
        "colab": {
          "base_uri": "https://localhost:8080/"
        },
        "id": "B_CKQ5rm9T1j",
        "outputId": "c8b67ab6-a194-44ec-a32c-42e87ce422ec"
      },
      "outputs": [],
      "source": [
        "best_model = GridSearchCV(model, param_grid=grid_values, cv=3, scoring=\"recall\")\n",
        "hyperparameter_tuning = best_model.fit(x_train, y_train)"
      ]
    },
    {
      "cell_type": "code",
      "execution_count": 8,
      "metadata": {
        "colab": {
          "base_uri": "https://localhost:8080/"
        },
        "id": "SB7B2ccb9XyJ",
        "outputId": "c874e8ca-cfe7-4c86-cde5-bf967315b6a0"
      },
      "outputs": [
        {
          "data": {
            "text/plain": [
              "{'C': 0.1, 'gamma': 3.0, 'probability': True, 'shrinking': True}"
            ]
          },
          "execution_count": 8,
          "metadata": {},
          "output_type": "execute_result"
        }
      ],
      "source": [
        "best_model.best_params_"
      ]
    },
    {
      "cell_type": "code",
      "execution_count": 9,
      "metadata": {
        "colab": {
          "base_uri": "https://localhost:8080/"
        },
        "id": "A1ThhMCK9mGP",
        "outputId": "7cec13e7-1698-4100-d36c-3268e9eff055"
      },
      "outputs": [
        {
          "name": "stdout",
          "output_type": "stream",
          "text": [
            "\t\tTRAIN:\n",
            "\n",
            "Accuracy: 0.82575\n",
            "\n",
            "Classification report: \n",
            "               precision    recall  f1-score   support\n",
            "\n",
            "           0       0.90      0.75      0.82      2089\n",
            "           1       0.77      0.91      0.83      1911\n",
            "\n",
            "    accuracy                           0.83      4000\n",
            "   macro avg       0.84      0.83      0.83      4000\n",
            "weighted avg       0.84      0.83      0.83      4000\n",
            "\n",
            "Confusion matrix: \n",
            " [[1559  530]\n",
            " [ 167 1744]]\n"
          ]
        }
      ],
      "source": [
        "from sklearn.metrics import (\n",
        "    accuracy_score,\n",
        "    classification_report,\n",
        "    confusion_matrix,\n",
        ")\n",
        "\n",
        "train_pred = best_model.predict(x_train)\n",
        "print(\"\\t\\tTRAIN:\\n\")\n",
        "print(f\"Accuracy: {accuracy_score(y_train, train_pred)}\\n\")\n",
        "print(f\"Classification report: \\n {classification_report(y_train, train_pred)}\")\n",
        "train_cm = confusion_matrix(y_train, train_pred)\n",
        "print(f\"Confusion matrix: \\n {confusion_matrix(y_train, train_pred)}\")"
      ]
    },
    {
      "cell_type": "code",
      "execution_count": 10,
      "metadata": {
        "colab": {
          "base_uri": "https://localhost:8080/",
          "height": 472
        },
        "id": "7wnmuT3d9siH",
        "outputId": "54c057e1-a311-4b4b-c295-b3d6058a1633"
      },
      "outputs": [
        {
          "data": {
            "image/png": "[encoded data removed]",
            "text/plain": [
              "<Figure size 640x480 with 2 Axes>"
            ]
          },
          "metadata": {},
          "output_type": "display_data"
        }
      ],
      "source": [
        "import seaborn as sns\n",
        "import matplotlib.pyplot as plt\n",
        "\n",
        "sns.heatmap(train_cm, annot=True, cmap=\"Blues\", fmt=\"d\")\n",
        "\n",
        "plt.xlabel(\"Predicted Labels\")\n",
        "plt.ylabel(\"True Labels\")\n",
        "plt.title(\"Confusion Matrix\")\n",
        "\n",
        "class_labels = [\"Fire\", \"Non Fire\"]\n",
        "ticks = np.arange(len(class_labels)) + 0.5\n",
        "plt.xticks(ticks, class_labels)\n",
        "plt.yticks(ticks, class_labels)\n",
        "plt.show()"
      ]
    },
    {
      "cell_type": "code",
      "execution_count": 11,
      "metadata": {
        "colab": {
          "base_uri": "https://localhost:8080/"
        },
        "id": "swV6BS0N9zGV",
        "outputId": "7acd0f91-7498-43ff-cc6d-277018f0b6b6"
      },
      "outputs": [
        {
          "name": "stdout",
          "output_type": "stream",
          "text": [
            "\t\tTEST:\n",
            "\n",
            "Accuracy: 0.808\n",
            "\n",
            "Classification report: \n",
            "               precision    recall  f1-score   support\n",
            "\n",
            "           0       0.88      0.72      0.79       509\n",
            "           1       0.76      0.90      0.82       491\n",
            "\n",
            "    accuracy                           0.81      1000\n",
            "   macro avg       0.82      0.81      0.81      1000\n",
            "weighted avg       0.82      0.81      0.81      1000\n",
            "\n",
            "Confusion matrix: \n",
            " [[367 142]\n",
            " [ 50 441]]\n"
          ]
        }
      ],
      "source": [
        "test_pred = best_model.predict(x_test)\n",
        "print(\"\\t\\tTEST:\\n\")\n",
        "print(f\"Accuracy: {accuracy_score(y_test, test_pred)}\\n\")\n",
        "print(f\"Classification report: \\n {classification_report(y_test, test_pred)}\")\n",
        "test_cm = confusion_matrix(y_test, test_pred)\n",
        "print(f\"Confusion matrix: \\n {test_cm}\")"
      ]
    },
    {
      "cell_type": "code",
      "execution_count": 12,
      "metadata": {
        "colab": {
          "base_uri": "https://localhost:8080/",
          "height": 472
        },
        "id": "LvWbCPq597YS",
        "outputId": "903e8693-760b-4a2e-ecb2-772dae8ddd3b"
      },
      "outputs": [
        {
          "data": {
            "image/png": "[encoded data removed]",
            "text/plain": [
              "<Figure size 640x480 with 2 Axes>"
            ]
          },
          "metadata": {},
          "output_type": "display_data"
        }
      ],
      "source": [
        "sns.heatmap(test_cm, annot=True, cmap=\"Blues\", fmt=\"d\")\n",
        "\n",
        "plt.xlabel(\"Predicted Labels\")\n",
        "plt.ylabel(\"True Labels\")\n",
        "plt.title(\"Confusion Matrix\")\n",
        "\n",
        "class_labels = [\"Fire\", \"Non Fire\"]\n",
        "ticks = np.arange(len(class_labels)) + 0.5\n",
        "plt.xticks(ticks, class_labels)\n",
        "plt.yticks(ticks, class_labels)\n",
        "plt.show()"
      ]
    },
    {
      "cell_type": "code",
      "execution_count": 13,
      "metadata": {
        "id": "AnDTY4Tf-Dji"
      },
      "outputs": [],
      "source": [
        "import pickle\n",
        "\n",
        "file_name = \"svc.pkl\"\n",
        "with open(file_name, \"wb\") as f:\n",
        "    pickle.dump(best_model.best_estimator_, f)"
      ]
    },
    {
      "cell_type": "code",
      "execution_count": null,
      "metadata": {
        "id": "HTSkfHiz-KL3"
      },
      "outputs": [],
      "source": []
    }
  ],
  "metadata": {
    "colab": {
      "provenance": []
    },
    "kernelspec": {
      "display_name": "Python 3",
      "name": "python3"
    },
    "language_info": {
      "codemirror_mode": {
        "name": "ipython",
        "version": 3
      },
      "file_extension": ".py",
      "mimetype": "text/x-python",
      "name": "python",
      "nbconvert_exporter": "python",
      "pygments_lexer": "ipython3",
      "version": "3.9.16"
    }
  },
  "nbformat": 4,
  "nbformat_minor": 0
}

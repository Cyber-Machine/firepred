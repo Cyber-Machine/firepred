{
  "cells": [
    {
      "attachments": {},
      "cell_type": "markdown",
      "metadata": {},
      "source": [
        "# LightGBM\n"
      ]
    },
    {
      "cell_type": "code",
      "execution_count": 12,
      "metadata": {
        "id": "E49B3N0qiWnn"
      },
      "outputs": [],
      "source": [
        "import pandas as pd\n",
        "import numpy as np"
      ]
    },
    {
      "cell_type": "code",
      "execution_count": 13,
      "metadata": {
        "colab": {
          "base_uri": "https://localhost:8080/",
          "height": 206
        },
        "id": "OKV2J-JxijTf",
        "outputId": "f8514c1d-510f-4708-d00a-3bd0aec46383"
      },
      "outputs": [
        {
          "data": {
            "text/html": [
              "<div>\n",
              "<style scoped>\n",
              "    .dataframe tbody tr th:only-of-type {\n",
              "        vertical-align: middle;\n",
              "    }\n",
              "\n",
              "    .dataframe tbody tr th {\n",
              "        vertical-align: top;\n",
              "    }\n",
              "\n",
              "    .dataframe thead th {\n",
              "        text-align: right;\n",
              "    }\n",
              "</style>\n",
              "<table border=\"1\" class=\"dataframe\">\n",
              "  <thead>\n",
              "    <tr style=\"text-align: right;\">\n",
              "      <th></th>\n",
              "      <th>Area</th>\n",
              "      <th>Oxygen</th>\n",
              "      <th>Temperature</th>\n",
              "      <th>Humidity</th>\n",
              "      <th>Fire Occurrence</th>\n",
              "    </tr>\n",
              "  </thead>\n",
              "  <tbody>\n",
              "    <tr>\n",
              "      <th>0</th>\n",
              "      <td>Kotagiri</td>\n",
              "      <td>5</td>\n",
              "      <td>19</td>\n",
              "      <td>52</td>\n",
              "      <td>1</td>\n",
              "    </tr>\n",
              "    <tr>\n",
              "      <th>1</th>\n",
              "      <td>Ladakh</td>\n",
              "      <td>8</td>\n",
              "      <td>26</td>\n",
              "      <td>59</td>\n",
              "      <td>1</td>\n",
              "    </tr>\n",
              "    <tr>\n",
              "      <th>2</th>\n",
              "      <td>Andaman</td>\n",
              "      <td>6</td>\n",
              "      <td>22</td>\n",
              "      <td>63</td>\n",
              "      <td>0</td>\n",
              "    </tr>\n",
              "    <tr>\n",
              "      <th>3</th>\n",
              "      <td>Jim</td>\n",
              "      <td>9</td>\n",
              "      <td>26</td>\n",
              "      <td>59</td>\n",
              "      <td>1</td>\n",
              "    </tr>\n",
              "    <tr>\n",
              "      <th>4</th>\n",
              "      <td>Silent</td>\n",
              "      <td>8</td>\n",
              "      <td>27</td>\n",
              "      <td>65</td>\n",
              "      <td>1</td>\n",
              "    </tr>\n",
              "  </tbody>\n",
              "</table>\n",
              "</div>"
            ],
            "text/plain": [
              "       Area  Oxygen  Temperature  Humidity  Fire Occurrence\n",
              "0  Kotagiri       5           19        52                1\n",
              "1    Ladakh       8           26        59                1\n",
              "2   Andaman       6           22        63                0\n",
              "3       Jim       9           26        59                1\n",
              "4    Silent       8           27        65                1"
            ]
          },
          "execution_count": 13,
          "metadata": {},
          "output_type": "execute_result"
        }
      ],
      "source": [
        "df = pd.read_csv(\"../data/forest_data.csv\")\n",
        "df.head()"
      ]
    },
    {
      "cell_type": "code",
      "execution_count": 14,
      "metadata": {
        "colab": {
          "base_uri": "https://localhost:8080/"
        },
        "id": "G1ikRE0Kinnw",
        "outputId": "fe37e6ef-0ce8-47ba-d245-95e81a974c2f"
      },
      "outputs": [
        {
          "name": "stdout",
          "output_type": "stream",
          "text": [
            "<class 'pandas.core.frame.DataFrame'>\n",
            "RangeIndex: 5000 entries, 0 to 4999\n",
            "Data columns (total 5 columns):\n",
            " #   Column           Non-Null Count  Dtype \n",
            "---  ------           --------------  ----- \n",
            " 0   Area             5000 non-null   object\n",
            " 1   Oxygen           5000 non-null   int64 \n",
            " 2   Temperature      5000 non-null   int64 \n",
            " 3   Humidity         5000 non-null   int64 \n",
            " 4   Fire Occurrence  5000 non-null   int64 \n",
            "dtypes: int64(4), object(1)\n",
            "memory usage: 195.4+ KB\n"
          ]
        }
      ],
      "source": [
        "df.info()"
      ]
    },
    {
      "cell_type": "code",
      "execution_count": 15,
      "metadata": {
        "id": "_o79ICO89Bkx"
      },
      "outputs": [],
      "source": [
        "from sklearn.model_selection import train_test_split\n",
        "from sklearn.metrics import roc_auc_score\n",
        "\n",
        "\n",
        "def data_split(df, target):\n",
        "    X, Y = df.drop([\"Area\", target], axis=1), df[target]\n",
        "    return X, Y"
      ]
    },
    {
      "cell_type": "code",
      "execution_count": 16,
      "metadata": {
        "colab": {
          "base_uri": "https://localhost:8080/"
        },
        "id": "i-S2wk9z9I1l",
        "outputId": "ce24ba1d-ff88-42d1-a8a8-36dd1d0fc3c6"
      },
      "outputs": [],
      "source": [
        "x_full, y_full = data_split(df, \"Fire Occurrence\")"
      ]
    },
    {
      "cell_type": "code",
      "execution_count": 17,
      "metadata": {
        "id": "BtJabMpl9M05"
      },
      "outputs": [],
      "source": [
        "import lightgbm as lgb\n",
        "from lightgbm import LGBMClassifier\n",
        "from sklearn.model_selection import StratifiedKFold"
      ]
    },
    {
      "cell_type": "code",
      "execution_count": 18,
      "metadata": {},
      "outputs": [],
      "source": [
        "skf = StratifiedKFold(n_splits=5, shuffle=True, random_state=42)"
      ]
    },
    {
      "cell_type": "code",
      "execution_count": 19,
      "metadata": {
        "colab": {
          "base_uri": "https://localhost:8080/"
        },
        "id": "B_CKQ5rm9T1j",
        "outputId": "c8b67ab6-a194-44ec-a32c-42e87ce422ec"
      },
      "outputs": [
        {
          "name": "stderr",
          "output_type": "stream",
          "text": [
            "[I 2023-07-02 18:22:16,699] A new study created in memory with name: no-name-4c6512b7-6ffe-45dd-ade5-3270f1501949\n"
          ]
        },
        {
          "name": "stdout",
          "output_type": "stream",
          "text": [
            "[LightGBM] [Warning] lambda_l1 is set=1.9465709867642835e-06, reg_alpha=0.0 will be ignored. Current value: lambda_l1=1.9465709867642835e-06\n",
            "[LightGBM] [Warning] feature_fraction is set=0.42209024971843867, colsample_bytree=1.0 will be ignored. Current value: feature_fraction=0.42209024971843867\n",
            "[LightGBM] [Warning] bagging_freq is set=3, subsample_freq=0 will be ignored. Current value: bagging_freq=3\n",
            "[LightGBM] [Warning] lambda_l2 is set=0.00021449028245709332, reg_lambda=0.0 will be ignored. Current value: lambda_l2=0.00021449028245709332\n",
            "[LightGBM] [Warning] bagging_fraction is set=0.46816852376658924, subsample=1.0 will be ignored. Current value: bagging_fraction=0.46816852376658924\n",
            "[LightGBM] [Warning] lambda_l1 is set=1.9465709867642835e-06, reg_alpha=0.0 will be ignored. Current value: lambda_l1=1.9465709867642835e-06\n",
            "[LightGBM] [Warning] feature_fraction is set=0.42209024971843867, colsample_bytree=1.0 will be ignored. Current value: feature_fraction=0.42209024971843867\n",
            "[LightGBM] [Warning] bagging_freq is set=3, subsample_freq=0 will be ignored. Current value: bagging_freq=3\n",
            "[LightGBM] [Warning] lambda_l2 is set=0.00021449028245709332, reg_lambda=0.0 will be ignored. Current value: lambda_l2=0.00021449028245709332\n",
            "[LightGBM] [Warning] bagging_fraction is set=0.46816852376658924, subsample=1.0 will be ignored. Current value: bagging_fraction=0.46816852376658924\n",
            "[LightGBM] [Warning] lambda_l1 is set=1.9465709867642835e-06, reg_alpha=0.0 will be ignored. Current value: lambda_l1=1.9465709867642835e-06\n",
            "[LightGBM] [Warning] feature_fraction is set=0.42209024971843867, colsample_bytree=1.0 will be ignored. Current value: feature_fraction=0.42209024971843867\n",
            "[LightGBM] [Warning] bagging_freq is set=3, subsample_freq=0 will be ignored. Current value: bagging_freq=3\n",
            "[LightGBM] [Warning] lambda_l2 is set=0.00021449028245709332, reg_lambda=0.0 will be ignored. Current value: lambda_l2=0.00021449028245709332\n",
            "[LightGBM] [Warning] bagging_fraction is set=0.46816852376658924, subsample=1.0 will be ignored. Current value: bagging_fraction=0.46816852376658924\n",
            "[LightGBM] [Warning] lambda_l1 is set=1.9465709867642835e-06, reg_alpha=0.0 will be ignored. Current value: lambda_l1=1.9465709867642835e-06\n",
            "[LightGBM] [Warning] feature_fraction is set=0.42209024971843867, colsample_bytree=1.0 will be ignored. Current value: feature_fraction=0.42209024971843867\n",
            "[LightGBM] [Warning] bagging_freq is set=3, subsample_freq=0 will be ignored. Current value: bagging_freq=3\n",
            "[LightGBM] [Warning] lambda_l2 is set=0.00021449028245709332, reg_lambda=0.0 will be ignored. Current value: lambda_l2=0.00021449028245709332\n",
            "[LightGBM] [Warning] bagging_fraction is set=0.46816852376658924, subsample=1.0 will be ignored. Current value: bagging_fraction=0.46816852376658924\n",
            "[LightGBM] [Warning] lambda_l1 is set=1.9465709867642835e-06, reg_alpha=0.0 will be ignored. Current value: lambda_l1=1.9465709867642835e-06\n",
            "[LightGBM] [Warning] feature_fraction is set=0.42209024971843867, colsample_bytree=1.0 will be ignored. Current value: feature_fraction=0.42209024971843867\n",
            "[LightGBM] [Warning] bagging_freq is set=3, subsample_freq=0 will be ignored. Current value: bagging_freq=3\n",
            "[LightGBM] [Warning] lambda_l2 is set=0.00021449028245709332, reg_lambda=0.0 will be ignored. Current value: lambda_l2=0.00021449028245709332\n",
            "[LightGBM] [Warning] bagging_fraction is set=0.46816852376658924, subsample=1.0 will be ignored. Current value: bagging_fraction=0.46816852376658924\n"
          ]
        },
        {
          "name": "stderr",
          "output_type": "stream",
          "text": [
            "[I 2023-07-02 18:22:17,322] Trial 0 finished with value: 0.8342147435897437 and parameters: {'lambda_l1': 1.9465709867642835e-06, 'lambda_l2': 0.00021449028245709332, 'num_leaves': 243, 'feature_fraction': 0.42209024971843867, 'bagging_fraction': 0.46816852376658924, 'bagging_freq': 3, 'min_child_samples': 82}. Best is trial 0 with value: 0.8342147435897437.\n"
          ]
        },
        {
          "name": "stdout",
          "output_type": "stream",
          "text": [
            "[LightGBM] [Warning] lambda_l1 is set=0.6263855226508094, reg_alpha=0.0 will be ignored. Current value: lambda_l1=0.6263855226508094\n",
            "[LightGBM] [Warning] feature_fraction is set=0.7974638716891038, colsample_bytree=1.0 will be ignored. Current value: feature_fraction=0.7974638716891038\n",
            "[LightGBM] [Warning] bagging_freq is set=2, subsample_freq=0 will be ignored. Current value: bagging_freq=2\n",
            "[LightGBM] [Warning] lambda_l2 is set=0.0323041573056555, reg_lambda=0.0 will be ignored. Current value: lambda_l2=0.0323041573056555\n",
            "[LightGBM] [Warning] bagging_fraction is set=0.9825763147852533, subsample=1.0 will be ignored. Current value: bagging_fraction=0.9825763147852533\n",
            "[LightGBM] [Warning] lambda_l1 is set=0.6263855226508094, reg_alpha=0.0 will be ignored. Current value: lambda_l1=0.6263855226508094\n",
            "[LightGBM] [Warning] feature_fraction is set=0.7974638716891038, colsample_bytree=1.0 will be ignored. Current value: feature_fraction=0.7974638716891038\n",
            "[LightGBM] [Warning] bagging_freq is set=2, subsample_freq=0 will be ignored. Current value: bagging_freq=2\n",
            "[LightGBM] [Warning] lambda_l2 is set=0.0323041573056555, reg_lambda=0.0 will be ignored. Current value: lambda_l2=0.0323041573056555\n",
            "[LightGBM] [Warning] bagging_fraction is set=0.9825763147852533, subsample=1.0 will be ignored. Current value: bagging_fraction=0.9825763147852533\n",
            "[LightGBM] [Warning] lambda_l1 is set=0.6263855226508094, reg_alpha=0.0 will be ignored. Current value: lambda_l1=0.6263855226508094\n",
            "[LightGBM] [Warning] feature_fraction is set=0.7974638716891038, colsample_bytree=1.0 will be ignored. Current value: feature_fraction=0.7974638716891038\n",
            "[LightGBM] [Warning] bagging_freq is set=2, subsample_freq=0 will be ignored. Current value: bagging_freq=2\n",
            "[LightGBM] [Warning] lambda_l2 is set=0.0323041573056555, reg_lambda=0.0 will be ignored. Current value: lambda_l2=0.0323041573056555\n",
            "[LightGBM] [Warning] bagging_fraction is set=0.9825763147852533, subsample=1.0 will be ignored. Current value: bagging_fraction=0.9825763147852533\n"
          ]
        },
        {
          "name": "stderr",
          "output_type": "stream",
          "text": [
            "[I 2023-07-02 18:22:17,693] Trial 1 finished with value: 0.828125 and parameters: {'lambda_l1': 0.6263855226508094, 'lambda_l2': 0.0323041573056555, 'num_leaves': 249, 'feature_fraction': 0.7974638716891038, 'bagging_fraction': 0.9825763147852533, 'bagging_freq': 2, 'min_child_samples': 62}. Best is trial 0 with value: 0.8342147435897437.\n"
          ]
        },
        {
          "name": "stdout",
          "output_type": "stream",
          "text": [
            "[LightGBM] [Warning] lambda_l1 is set=0.6263855226508094, reg_alpha=0.0 will be ignored. Current value: lambda_l1=0.6263855226508094\n",
            "[LightGBM] [Warning] feature_fraction is set=0.7974638716891038, colsample_bytree=1.0 will be ignored. Current value: feature_fraction=0.7974638716891038\n",
            "[LightGBM] [Warning] bagging_freq is set=2, subsample_freq=0 will be ignored. Current value: bagging_freq=2\n",
            "[LightGBM] [Warning] lambda_l2 is set=0.0323041573056555, reg_lambda=0.0 will be ignored. Current value: lambda_l2=0.0323041573056555\n",
            "[LightGBM] [Warning] bagging_fraction is set=0.9825763147852533, subsample=1.0 will be ignored. Current value: bagging_fraction=0.9825763147852533\n",
            "[LightGBM] [Warning] lambda_l1 is set=0.6263855226508094, reg_alpha=0.0 will be ignored. Current value: lambda_l1=0.6263855226508094\n",
            "[LightGBM] [Warning] feature_fraction is set=0.7974638716891038, colsample_bytree=1.0 will be ignored. Current value: feature_fraction=0.7974638716891038\n",
            "[LightGBM] [Warning] bagging_freq is set=2, subsample_freq=0 will be ignored. Current value: bagging_freq=2\n",
            "[LightGBM] [Warning] lambda_l2 is set=0.0323041573056555, reg_lambda=0.0 will be ignored. Current value: lambda_l2=0.0323041573056555\n",
            "[LightGBM] [Warning] bagging_fraction is set=0.9825763147852533, subsample=1.0 will be ignored. Current value: bagging_fraction=0.9825763147852533\n",
            "[LightGBM] [Warning] lambda_l1 is set=0.09161094136192782, reg_alpha=0.0 will be ignored. Current value: lambda_l1=0.09161094136192782\n",
            "[LightGBM] [Warning] feature_fraction is set=0.7974827135660878, colsample_bytree=1.0 will be ignored. Current value: feature_fraction=0.7974827135660878\n",
            "[LightGBM] [Warning] bagging_freq is set=1, subsample_freq=0 will be ignored. Current value: bagging_freq=1\n",
            "[LightGBM] [Warning] lambda_l2 is set=0.00534993068067263, reg_lambda=0.0 will be ignored. Current value: lambda_l2=0.00534993068067263\n",
            "[LightGBM] [Warning] bagging_fraction is set=0.6189786372332954, subsample=1.0 will be ignored. Current value: bagging_fraction=0.6189786372332954\n",
            "[LightGBM] [Warning] lambda_l1 is set=0.09161094136192782, reg_alpha=0.0 will be ignored. Current value: lambda_l1=0.09161094136192782\n",
            "[LightGBM] [Warning] feature_fraction is set=0.7974827135660878, colsample_bytree=1.0 will be ignored. Current value: feature_fraction=0.7974827135660878\n",
            "[LightGBM] [Warning] bagging_freq is set=1, subsample_freq=0 will be ignored. Current value: bagging_freq=1\n",
            "[LightGBM] [Warning] lambda_l2 is set=0.00534993068067263, reg_lambda=0.0 will be ignored. Current value: lambda_l2=0.00534993068067263\n",
            "[LightGBM] [Warning] bagging_fraction is set=0.6189786372332954, subsample=1.0 will be ignored. Current value: bagging_fraction=0.6189786372332954\n",
            "[LightGBM] [Warning] lambda_l1 is set=0.09161094136192782, reg_alpha=0.0 will be ignored. Current value: lambda_l1=0.09161094136192782\n",
            "[LightGBM] [Warning] feature_fraction is set=0.7974827135660878, colsample_bytree=1.0 will be ignored. Current value: feature_fraction=0.7974827135660878\n",
            "[LightGBM] [Warning] bagging_freq is set=1, subsample_freq=0 will be ignored. Current value: bagging_freq=1\n",
            "[LightGBM] [Warning] lambda_l2 is set=0.00534993068067263, reg_lambda=0.0 will be ignored. Current value: lambda_l2=0.00534993068067263\n",
            "[LightGBM] [Warning] bagging_fraction is set=0.6189786372332954, subsample=1.0 will be ignored. Current value: bagging_fraction=0.6189786372332954\n",
            "[LightGBM] [Warning] lambda_l1 is set=0.09161094136192782, reg_alpha=0.0 will be ignored. Current value: lambda_l1=0.09161094136192782\n",
            "[LightGBM] [Warning] feature_fraction is set=0.7974827135660878, colsample_bytree=1.0 will be ignored. Current value: feature_fraction=0.7974827135660878\n",
            "[LightGBM] [Warning] bagging_freq is set=1, subsample_freq=0 will be ignored. Current value: bagging_freq=1\n",
            "[LightGBM] [Warning] lambda_l2 is set=0.00534993068067263, reg_lambda=0.0 will be ignored. Current value: lambda_l2=0.00534993068067263\n",
            "[LightGBM] [Warning] bagging_fraction is set=0.6189786372332954, subsample=1.0 will be ignored. Current value: bagging_fraction=0.6189786372332954\n"
          ]
        },
        {
          "name": "stderr",
          "output_type": "stream",
          "text": [
            "[I 2023-07-02 18:22:18,119] Trial 2 finished with value: 0.8311698717948719 and parameters: {'lambda_l1': 0.09161094136192782, 'lambda_l2': 0.00534993068067263, 'num_leaves': 23, 'feature_fraction': 0.7974827135660878, 'bagging_fraction': 0.6189786372332954, 'bagging_freq': 1, 'min_child_samples': 63}. Best is trial 0 with value: 0.8342147435897437.\n"
          ]
        },
        {
          "name": "stdout",
          "output_type": "stream",
          "text": [
            "[LightGBM] [Warning] lambda_l1 is set=0.09161094136192782, reg_alpha=0.0 will be ignored. Current value: lambda_l1=0.09161094136192782\n",
            "[LightGBM] [Warning] feature_fraction is set=0.7974827135660878, colsample_bytree=1.0 will be ignored. Current value: feature_fraction=0.7974827135660878\n",
            "[LightGBM] [Warning] bagging_freq is set=1, subsample_freq=0 will be ignored. Current value: bagging_freq=1\n",
            "[LightGBM] [Warning] lambda_l2 is set=0.00534993068067263, reg_lambda=0.0 will be ignored. Current value: lambda_l2=0.00534993068067263\n",
            "[LightGBM] [Warning] bagging_fraction is set=0.6189786372332954, subsample=1.0 will be ignored. Current value: bagging_fraction=0.6189786372332954\n",
            "[LightGBM] [Warning] lambda_l1 is set=0.05736695002379244, reg_alpha=0.0 will be ignored. Current value: lambda_l1=0.05736695002379244\n",
            "[LightGBM] [Warning] feature_fraction is set=0.6734034503681325, colsample_bytree=1.0 will be ignored. Current value: feature_fraction=0.6734034503681325\n",
            "[LightGBM] [Warning] bagging_freq is set=3, subsample_freq=0 will be ignored. Current value: bagging_freq=3\n",
            "[LightGBM] [Warning] lambda_l2 is set=1.7925375152808811, reg_lambda=0.0 will be ignored. Current value: lambda_l2=1.7925375152808811\n",
            "[LightGBM] [Warning] bagging_fraction is set=0.5503866686076773, subsample=1.0 will be ignored. Current value: bagging_fraction=0.5503866686076773\n",
            "[LightGBM] [Warning] lambda_l1 is set=0.05736695002379244, reg_alpha=0.0 will be ignored. Current value: lambda_l1=0.05736695002379244\n",
            "[LightGBM] [Warning] feature_fraction is set=0.6734034503681325, colsample_bytree=1.0 will be ignored. Current value: feature_fraction=0.6734034503681325\n",
            "[LightGBM] [Warning] bagging_freq is set=3, subsample_freq=0 will be ignored. Current value: bagging_freq=3\n",
            "[LightGBM] [Warning] lambda_l2 is set=1.7925375152808811, reg_lambda=0.0 will be ignored. Current value: lambda_l2=1.7925375152808811\n",
            "[LightGBM] [Warning] bagging_fraction is set=0.5503866686076773, subsample=1.0 will be ignored. Current value: bagging_fraction=0.5503866686076773\n",
            "[LightGBM] [Warning] lambda_l1 is set=0.05736695002379244, reg_alpha=0.0 will be ignored. Current value: lambda_l1=0.05736695002379244\n",
            "[LightGBM] [Warning] feature_fraction is set=0.6734034503681325, colsample_bytree=1.0 will be ignored. Current value: feature_fraction=0.6734034503681325\n",
            "[LightGBM] [Warning] bagging_freq is set=3, subsample_freq=0 will be ignored. Current value: bagging_freq=3\n",
            "[LightGBM] [Warning] lambda_l2 is set=1.7925375152808811, reg_lambda=0.0 will be ignored. Current value: lambda_l2=1.7925375152808811\n",
            "[LightGBM] [Warning] bagging_fraction is set=0.5503866686076773, subsample=1.0 will be ignored. Current value: bagging_fraction=0.5503866686076773\n"
          ]
        },
        {
          "name": "stderr",
          "output_type": "stream",
          "text": [
            "[I 2023-07-02 18:22:18,433] Trial 3 finished with value: 0.8307692307692308 and parameters: {'lambda_l1': 0.05736695002379244, 'lambda_l2': 1.7925375152808811, 'num_leaves': 116, 'feature_fraction': 0.6734034503681325, 'bagging_fraction': 0.5503866686076773, 'bagging_freq': 3, 'min_child_samples': 70}. Best is trial 0 with value: 0.8342147435897437.\n"
          ]
        },
        {
          "name": "stdout",
          "output_type": "stream",
          "text": [
            "[LightGBM] [Warning] lambda_l1 is set=0.05736695002379244, reg_alpha=0.0 will be ignored. Current value: lambda_l1=0.05736695002379244\n",
            "[LightGBM] [Warning] feature_fraction is set=0.6734034503681325, colsample_bytree=1.0 will be ignored. Current value: feature_fraction=0.6734034503681325\n",
            "[LightGBM] [Warning] bagging_freq is set=3, subsample_freq=0 will be ignored. Current value: bagging_freq=3\n",
            "[LightGBM] [Warning] lambda_l2 is set=1.7925375152808811, reg_lambda=0.0 will be ignored. Current value: lambda_l2=1.7925375152808811\n",
            "[LightGBM] [Warning] bagging_fraction is set=0.5503866686076773, subsample=1.0 will be ignored. Current value: bagging_fraction=0.5503866686076773\n",
            "[LightGBM] [Warning] lambda_l1 is set=0.05736695002379244, reg_alpha=0.0 will be ignored. Current value: lambda_l1=0.05736695002379244\n",
            "[LightGBM] [Warning] feature_fraction is set=0.6734034503681325, colsample_bytree=1.0 will be ignored. Current value: feature_fraction=0.6734034503681325\n",
            "[LightGBM] [Warning] bagging_freq is set=3, subsample_freq=0 will be ignored. Current value: bagging_freq=3\n",
            "[LightGBM] [Warning] lambda_l2 is set=1.7925375152808811, reg_lambda=0.0 will be ignored. Current value: lambda_l2=1.7925375152808811\n",
            "[LightGBM] [Warning] bagging_fraction is set=0.5503866686076773, subsample=1.0 will be ignored. Current value: bagging_fraction=0.5503866686076773\n",
            "[LightGBM] [Warning] lambda_l1 is set=0.29565780992440927, reg_alpha=0.0 will be ignored. Current value: lambda_l1=0.29565780992440927\n",
            "[LightGBM] [Warning] feature_fraction is set=0.46659173023092576, colsample_bytree=1.0 will be ignored. Current value: feature_fraction=0.46659173023092576\n",
            "[LightGBM] [Warning] bagging_freq is set=5, subsample_freq=0 will be ignored. Current value: bagging_freq=5\n",
            "[LightGBM] [Warning] lambda_l2 is set=0.21599546643441445, reg_lambda=0.0 will be ignored. Current value: lambda_l2=0.21599546643441445\n",
            "[LightGBM] [Warning] bagging_fraction is set=0.5966942458761022, subsample=1.0 will be ignored. Current value: bagging_fraction=0.5966942458761022\n",
            "[LightGBM] [Warning] lambda_l1 is set=0.29565780992440927, reg_alpha=0.0 will be ignored. Current value: lambda_l1=0.29565780992440927\n",
            "[LightGBM] [Warning] feature_fraction is set=0.46659173023092576, colsample_bytree=1.0 will be ignored. Current value: feature_fraction=0.46659173023092576\n",
            "[LightGBM] [Warning] bagging_freq is set=5, subsample_freq=0 will be ignored. Current value: bagging_freq=5\n",
            "[LightGBM] [Warning] lambda_l2 is set=0.21599546643441445, reg_lambda=0.0 will be ignored. Current value: lambda_l2=0.21599546643441445\n",
            "[LightGBM] [Warning] bagging_fraction is set=0.5966942458761022, subsample=1.0 will be ignored. Current value: bagging_fraction=0.5966942458761022\n"
          ]
        },
        {
          "name": "stderr",
          "output_type": "stream",
          "text": [
            "[I 2023-07-02 18:22:18,689] Trial 4 finished with value: 0.8363782051282052 and parameters: {'lambda_l1': 0.29565780992440927, 'lambda_l2': 0.21599546643441445, 'num_leaves': 7, 'feature_fraction': 0.46659173023092576, 'bagging_fraction': 0.5966942458761022, 'bagging_freq': 5, 'min_child_samples': 10}. Best is trial 4 with value: 0.8363782051282052.\n"
          ]
        },
        {
          "name": "stdout",
          "output_type": "stream",
          "text": [
            "[LightGBM] [Warning] lambda_l1 is set=0.29565780992440927, reg_alpha=0.0 will be ignored. Current value: lambda_l1=0.29565780992440927\n",
            "[LightGBM] [Warning] feature_fraction is set=0.46659173023092576, colsample_bytree=1.0 will be ignored. Current value: feature_fraction=0.46659173023092576\n",
            "[LightGBM] [Warning] bagging_freq is set=5, subsample_freq=0 will be ignored. Current value: bagging_freq=5\n",
            "[LightGBM] [Warning] lambda_l2 is set=0.21599546643441445, reg_lambda=0.0 will be ignored. Current value: lambda_l2=0.21599546643441445\n",
            "[LightGBM] [Warning] bagging_fraction is set=0.5966942458761022, subsample=1.0 will be ignored. Current value: bagging_fraction=0.5966942458761022\n",
            "[LightGBM] [Warning] lambda_l1 is set=0.29565780992440927, reg_alpha=0.0 will be ignored. Current value: lambda_l1=0.29565780992440927\n",
            "[LightGBM] [Warning] feature_fraction is set=0.46659173023092576, colsample_bytree=1.0 will be ignored. Current value: feature_fraction=0.46659173023092576\n",
            "[LightGBM] [Warning] bagging_freq is set=5, subsample_freq=0 will be ignored. Current value: bagging_freq=5\n",
            "[LightGBM] [Warning] lambda_l2 is set=0.21599546643441445, reg_lambda=0.0 will be ignored. Current value: lambda_l2=0.21599546643441445\n",
            "[LightGBM] [Warning] bagging_fraction is set=0.5966942458761022, subsample=1.0 will be ignored. Current value: bagging_fraction=0.5966942458761022\n",
            "[LightGBM] [Warning] lambda_l1 is set=0.29565780992440927, reg_alpha=0.0 will be ignored. Current value: lambda_l1=0.29565780992440927\n",
            "[LightGBM] [Warning] feature_fraction is set=0.46659173023092576, colsample_bytree=1.0 will be ignored. Current value: feature_fraction=0.46659173023092576\n",
            "[LightGBM] [Warning] bagging_freq is set=5, subsample_freq=0 will be ignored. Current value: bagging_freq=5\n",
            "[LightGBM] [Warning] lambda_l2 is set=0.21599546643441445, reg_lambda=0.0 will be ignored. Current value: lambda_l2=0.21599546643441445\n",
            "[LightGBM] [Warning] bagging_fraction is set=0.5966942458761022, subsample=1.0 will be ignored. Current value: bagging_fraction=0.5966942458761022\n",
            "[LightGBM] [Warning] lambda_l1 is set=0.028668130084431555, reg_alpha=0.0 will be ignored. Current value: lambda_l1=0.028668130084431555\n",
            "[LightGBM] [Warning] feature_fraction is set=0.8352123020605677, colsample_bytree=1.0 will be ignored. Current value: feature_fraction=0.8352123020605677\n",
            "[LightGBM] [Warning] bagging_freq is set=2, subsample_freq=0 will be ignored. Current value: bagging_freq=2\n",
            "[LightGBM] [Warning] lambda_l2 is set=0.09399807290378354, reg_lambda=0.0 will be ignored. Current value: lambda_l2=0.09399807290378354\n",
            "[LightGBM] [Warning] bagging_fraction is set=0.5779449538977509, subsample=1.0 will be ignored. Current value: bagging_fraction=0.5779449538977509\n",
            "[LightGBM] [Warning] lambda_l1 is set=0.028668130084431555, reg_alpha=0.0 will be ignored. Current value: lambda_l1=0.028668130084431555\n",
            "[LightGBM] [Warning] feature_fraction is set=0.8352123020605677, colsample_bytree=1.0 will be ignored. Current value: feature_fraction=0.8352123020605677\n",
            "[LightGBM] [Warning] bagging_freq is set=2, subsample_freq=0 will be ignored. Current value: bagging_freq=2\n",
            "[LightGBM] [Warning] lambda_l2 is set=0.09399807290378354, reg_lambda=0.0 will be ignored. Current value: lambda_l2=0.09399807290378354\n",
            "[LightGBM] [Warning] bagging_fraction is set=0.5779449538977509, subsample=1.0 will be ignored. Current value: bagging_fraction=0.5779449538977509\n",
            "[LightGBM] [Warning] lambda_l1 is set=0.028668130084431555, reg_alpha=0.0 will be ignored. Current value: lambda_l1=0.028668130084431555\n",
            "[LightGBM] [Warning] feature_fraction is set=0.8352123020605677, colsample_bytree=1.0 will be ignored. Current value: feature_fraction=0.8352123020605677\n",
            "[LightGBM] [Warning] bagging_freq is set=2, subsample_freq=0 will be ignored. Current value: bagging_freq=2\n",
            "[LightGBM] [Warning] lambda_l2 is set=0.09399807290378354, reg_lambda=0.0 will be ignored. Current value: lambda_l2=0.09399807290378354\n",
            "[LightGBM] [Warning] bagging_fraction is set=0.5779449538977509, subsample=1.0 will be ignored. Current value: bagging_fraction=0.5779449538977509\n",
            "[LightGBM] [Warning] lambda_l1 is set=0.028668130084431555, reg_alpha=0.0 will be ignored. Current value: lambda_l1=0.028668130084431555\n",
            "[LightGBM] [Warning] feature_fraction is set=0.8352123020605677, colsample_bytree=1.0 will be ignored. Current value: feature_fraction=0.8352123020605677\n",
            "[LightGBM] [Warning] bagging_freq is set=2, subsample_freq=0 will be ignored. Current value: bagging_freq=2\n",
            "[LightGBM] [Warning] lambda_l2 is set=0.09399807290378354, reg_lambda=0.0 will be ignored. Current value: lambda_l2=0.09399807290378354\n",
            "[LightGBM] [Warning] bagging_fraction is set=0.5779449538977509, subsample=1.0 will be ignored. Current value: bagging_fraction=0.5779449538977509\n",
            "[LightGBM] [Warning] lambda_l1 is set=0.028668130084431555, reg_alpha=0.0 will be ignored. Current value: lambda_l1=0.028668130084431555\n",
            "[LightGBM] [Warning] feature_fraction is set=0.8352123020605677, colsample_bytree=1.0 will be ignored. Current value: feature_fraction=0.8352123020605677\n",
            "[LightGBM] [Warning] bagging_freq is set=2, subsample_freq=0 will be ignored. Current value: bagging_freq=2\n",
            "[LightGBM] [Warning] lambda_l2 is set=0.09399807290378354, reg_lambda=0.0 will be ignored. Current value: lambda_l2=0.09399807290378354\n",
            "[LightGBM] [Warning] bagging_fraction is set=0.5779449538977509, subsample=1.0 will be ignored. Current value: bagging_fraction=0.5779449538977509\n"
          ]
        },
        {
          "name": "stderr",
          "output_type": "stream",
          "text": [
            "[I 2023-07-02 18:22:19,040] Trial 5 finished with value: 0.835176282051282 and parameters: {'lambda_l1': 0.028668130084431555, 'lambda_l2': 0.09399807290378354, 'num_leaves': 251, 'feature_fraction': 0.8352123020605677, 'bagging_fraction': 0.5779449538977509, 'bagging_freq': 2, 'min_child_samples': 99}. Best is trial 4 with value: 0.8363782051282052.\n"
          ]
        },
        {
          "name": "stdout",
          "output_type": "stream",
          "text": [
            "[LightGBM] [Warning] lambda_l1 is set=9.631991830520628e-06, reg_alpha=0.0 will be ignored. Current value: lambda_l1=9.631991830520628e-06\n",
            "[LightGBM] [Warning] feature_fraction is set=0.5808322477997985, colsample_bytree=1.0 will be ignored. Current value: feature_fraction=0.5808322477997985\n",
            "[LightGBM] [Warning] bagging_freq is set=6, subsample_freq=0 will be ignored. Current value: bagging_freq=6\n",
            "[LightGBM] [Warning] lambda_l2 is set=9.875401436457358e-08, reg_lambda=0.0 will be ignored. Current value: lambda_l2=9.875401436457358e-08\n",
            "[LightGBM] [Warning] bagging_fraction is set=0.8288226369379454, subsample=1.0 will be ignored. Current value: bagging_fraction=0.8288226369379454\n",
            "[LightGBM] [Warning] lambda_l1 is set=9.631991830520628e-06, reg_alpha=0.0 will be ignored. Current value: lambda_l1=9.631991830520628e-06\n",
            "[LightGBM] [Warning] feature_fraction is set=0.5808322477997985, colsample_bytree=1.0 will be ignored. Current value: feature_fraction=0.5808322477997985\n",
            "[LightGBM] [Warning] bagging_freq is set=6, subsample_freq=0 will be ignored. Current value: bagging_freq=6\n",
            "[LightGBM] [Warning] lambda_l2 is set=9.875401436457358e-08, reg_lambda=0.0 will be ignored. Current value: lambda_l2=9.875401436457358e-08\n",
            "[LightGBM] [Warning] bagging_fraction is set=0.8288226369379454, subsample=1.0 will be ignored. Current value: bagging_fraction=0.8288226369379454\n",
            "[LightGBM] [Warning] lambda_l1 is set=9.631991830520628e-06, reg_alpha=0.0 will be ignored. Current value: lambda_l1=9.631991830520628e-06\n",
            "[LightGBM] [Warning] feature_fraction is set=0.5808322477997985, colsample_bytree=1.0 will be ignored. Current value: feature_fraction=0.5808322477997985\n",
            "[LightGBM] [Warning] bagging_freq is set=6, subsample_freq=0 will be ignored. Current value: bagging_freq=6\n",
            "[LightGBM] [Warning] lambda_l2 is set=9.875401436457358e-08, reg_lambda=0.0 will be ignored. Current value: lambda_l2=9.875401436457358e-08\n",
            "[LightGBM] [Warning] bagging_fraction is set=0.8288226369379454, subsample=1.0 will be ignored. Current value: bagging_fraction=0.8288226369379454\n"
          ]
        },
        {
          "name": "stderr",
          "output_type": "stream",
          "text": [
            "[I 2023-07-02 18:22:19,516] Trial 6 finished with value: 0.8298878205128205 and parameters: {'lambda_l1': 9.631991830520628e-06, 'lambda_l2': 9.875401436457358e-08, 'num_leaves': 34, 'feature_fraction': 0.5808322477997985, 'bagging_fraction': 0.8288226369379454, 'bagging_freq': 6, 'min_child_samples': 33}. Best is trial 4 with value: 0.8363782051282052.\n"
          ]
        },
        {
          "name": "stdout",
          "output_type": "stream",
          "text": [
            "[LightGBM] [Warning] lambda_l1 is set=9.631991830520628e-06, reg_alpha=0.0 will be ignored. Current value: lambda_l1=9.631991830520628e-06\n",
            "[LightGBM] [Warning] feature_fraction is set=0.5808322477997985, colsample_bytree=1.0 will be ignored. Current value: feature_fraction=0.5808322477997985\n",
            "[LightGBM] [Warning] bagging_freq is set=6, subsample_freq=0 will be ignored. Current value: bagging_freq=6\n",
            "[LightGBM] [Warning] lambda_l2 is set=9.875401436457358e-08, reg_lambda=0.0 will be ignored. Current value: lambda_l2=9.875401436457358e-08\n",
            "[LightGBM] [Warning] bagging_fraction is set=0.8288226369379454, subsample=1.0 will be ignored. Current value: bagging_fraction=0.8288226369379454\n",
            "[LightGBM] [Warning] lambda_l1 is set=9.631991830520628e-06, reg_alpha=0.0 will be ignored. Current value: lambda_l1=9.631991830520628e-06\n",
            "[LightGBM] [Warning] feature_fraction is set=0.5808322477997985, colsample_bytree=1.0 will be ignored. Current value: feature_fraction=0.5808322477997985\n",
            "[LightGBM] [Warning] bagging_freq is set=6, subsample_freq=0 will be ignored. Current value: bagging_freq=6\n",
            "[LightGBM] [Warning] lambda_l2 is set=9.875401436457358e-08, reg_lambda=0.0 will be ignored. Current value: lambda_l2=9.875401436457358e-08\n",
            "[LightGBM] [Warning] bagging_fraction is set=0.8288226369379454, subsample=1.0 will be ignored. Current value: bagging_fraction=0.8288226369379454\n",
            "[LightGBM] [Warning] lambda_l1 is set=0.004965217928477565, reg_alpha=0.0 will be ignored. Current value: lambda_l1=0.004965217928477565\n",
            "[LightGBM] [Warning] feature_fraction is set=0.5796716372226467, colsample_bytree=1.0 will be ignored. Current value: feature_fraction=0.5796716372226467\n",
            "[LightGBM] [Warning] bagging_freq is set=1, subsample_freq=0 will be ignored. Current value: bagging_freq=1\n",
            "[LightGBM] [Warning] lambda_l2 is set=4.07024285105059e-07, reg_lambda=0.0 will be ignored. Current value: lambda_l2=4.07024285105059e-07\n",
            "[LightGBM] [Warning] bagging_fraction is set=0.7322038479815565, subsample=1.0 will be ignored. Current value: bagging_fraction=0.7322038479815565\n",
            "[LightGBM] [Warning] lambda_l1 is set=0.004965217928477565, reg_alpha=0.0 will be ignored. Current value: lambda_l1=0.004965217928477565\n",
            "[LightGBM] [Warning] feature_fraction is set=0.5796716372226467, colsample_bytree=1.0 will be ignored. Current value: feature_fraction=0.5796716372226467\n",
            "[LightGBM] [Warning] bagging_freq is set=1, subsample_freq=0 will be ignored. Current value: bagging_freq=1\n",
            "[LightGBM] [Warning] lambda_l2 is set=4.07024285105059e-07, reg_lambda=0.0 will be ignored. Current value: lambda_l2=4.07024285105059e-07\n",
            "[LightGBM] [Warning] bagging_fraction is set=0.7322038479815565, subsample=1.0 will be ignored. Current value: bagging_fraction=0.7322038479815565\n",
            "[LightGBM] [Warning] lambda_l1 is set=0.004965217928477565, reg_alpha=0.0 will be ignored. Current value: lambda_l1=0.004965217928477565\n",
            "[LightGBM] [Warning] feature_fraction is set=0.5796716372226467, colsample_bytree=1.0 will be ignored. Current value: feature_fraction=0.5796716372226467\n",
            "[LightGBM] [Warning] bagging_freq is set=1, subsample_freq=0 will be ignored. Current value: bagging_freq=1\n",
            "[LightGBM] [Warning] lambda_l2 is set=4.07024285105059e-07, reg_lambda=0.0 will be ignored. Current value: lambda_l2=4.07024285105059e-07\n",
            "[LightGBM] [Warning] bagging_fraction is set=0.7322038479815565, subsample=1.0 will be ignored. Current value: bagging_fraction=0.7322038479815565\n",
            "[LightGBM] [Warning] lambda_l1 is set=0.004965217928477565, reg_alpha=0.0 will be ignored. Current value: lambda_l1=0.004965217928477565\n",
            "[LightGBM] [Warning] feature_fraction is set=0.5796716372226467, colsample_bytree=1.0 will be ignored. Current value: feature_fraction=0.5796716372226467\n",
            "[LightGBM] [Warning] bagging_freq is set=1, subsample_freq=0 will be ignored. Current value: bagging_freq=1\n",
            "[LightGBM] [Warning] lambda_l2 is set=4.07024285105059e-07, reg_lambda=0.0 will be ignored. Current value: lambda_l2=4.07024285105059e-07\n",
            "[LightGBM] [Warning] bagging_fraction is set=0.7322038479815565, subsample=1.0 will be ignored. Current value: bagging_fraction=0.7322038479815565\n",
            "[LightGBM] [Warning] lambda_l1 is set=0.004965217928477565, reg_alpha=0.0 will be ignored. Current value: lambda_l1=0.004965217928477565\n",
            "[LightGBM] [Warning] feature_fraction is set=0.5796716372226467, colsample_bytree=1.0 will be ignored. Current value: feature_fraction=0.5796716372226467\n",
            "[LightGBM] [Warning] bagging_freq is set=1, subsample_freq=0 will be ignored. Current value: bagging_freq=1\n",
            "[LightGBM] [Warning] lambda_l2 is set=4.07024285105059e-07, reg_lambda=0.0 will be ignored. Current value: lambda_l2=4.07024285105059e-07\n",
            "[LightGBM] [Warning] bagging_fraction is set=0.7322038479815565, subsample=1.0 will be ignored. Current value: bagging_fraction=0.7322038479815565\n"
          ]
        },
        {
          "name": "stderr",
          "output_type": "stream",
          "text": [
            "[I 2023-07-02 18:22:20,130] Trial 7 finished with value: 0.8282051282051284 and parameters: {'lambda_l1': 0.004965217928477565, 'lambda_l2': 4.07024285105059e-07, 'num_leaves': 128, 'feature_fraction': 0.5796716372226467, 'bagging_fraction': 0.7322038479815565, 'bagging_freq': 1, 'min_child_samples': 36}. Best is trial 4 with value: 0.8363782051282052.\n"
          ]
        },
        {
          "name": "stdout",
          "output_type": "stream",
          "text": [
            "[LightGBM] [Warning] lambda_l1 is set=1.5560068473472995e-08, reg_alpha=0.0 will be ignored. Current value: lambda_l1=1.5560068473472995e-08\n",
            "[LightGBM] [Warning] feature_fraction is set=0.6620536000376602, colsample_bytree=1.0 will be ignored. Current value: feature_fraction=0.6620536000376602\n",
            "[LightGBM] [Warning] bagging_freq is set=3, subsample_freq=0 will be ignored. Current value: bagging_freq=3\n",
            "[LightGBM] [Warning] lambda_l2 is set=8.446354247732267e-08, reg_lambda=0.0 will be ignored. Current value: lambda_l2=8.446354247732267e-08\n",
            "[LightGBM] [Warning] bagging_fraction is set=0.6293779251786753, subsample=1.0 will be ignored. Current value: bagging_fraction=0.6293779251786753\n",
            "[LightGBM] [Warning] lambda_l1 is set=1.5560068473472995e-08, reg_alpha=0.0 will be ignored. Current value: lambda_l1=1.5560068473472995e-08\n",
            "[LightGBM] [Warning] feature_fraction is set=0.6620536000376602, colsample_bytree=1.0 will be ignored. Current value: feature_fraction=0.6620536000376602\n",
            "[LightGBM] [Warning] bagging_freq is set=3, subsample_freq=0 will be ignored. Current value: bagging_freq=3\n",
            "[LightGBM] [Warning] lambda_l2 is set=8.446354247732267e-08, reg_lambda=0.0 will be ignored. Current value: lambda_l2=8.446354247732267e-08\n",
            "[LightGBM] [Warning] bagging_fraction is set=0.6293779251786753, subsample=1.0 will be ignored. Current value: bagging_fraction=0.6293779251786753\n",
            "[LightGBM] [Warning] lambda_l1 is set=1.5560068473472995e-08, reg_alpha=0.0 will be ignored. Current value: lambda_l1=1.5560068473472995e-08\n",
            "[LightGBM] [Warning] feature_fraction is set=0.6620536000376602, colsample_bytree=1.0 will be ignored. Current value: feature_fraction=0.6620536000376602\n",
            "[LightGBM] [Warning] bagging_freq is set=3, subsample_freq=0 will be ignored. Current value: bagging_freq=3\n",
            "[LightGBM] [Warning] lambda_l2 is set=8.446354247732267e-08, reg_lambda=0.0 will be ignored. Current value: lambda_l2=8.446354247732267e-08\n",
            "[LightGBM] [Warning] bagging_fraction is set=0.6293779251786753, subsample=1.0 will be ignored. Current value: bagging_fraction=0.6293779251786753\n",
            "[LightGBM] [Warning] lambda_l1 is set=1.5560068473472995e-08, reg_alpha=0.0 will be ignored. Current value: lambda_l1=1.5560068473472995e-08\n",
            "[LightGBM] [Warning] feature_fraction is set=0.6620536000376602, colsample_bytree=1.0 will be ignored. Current value: feature_fraction=0.6620536000376602\n",
            "[LightGBM] [Warning] bagging_freq is set=3, subsample_freq=0 will be ignored. Current value: bagging_freq=3\n",
            "[LightGBM] [Warning] lambda_l2 is set=8.446354247732267e-08, reg_lambda=0.0 will be ignored. Current value: lambda_l2=8.446354247732267e-08\n",
            "[LightGBM] [Warning] bagging_fraction is set=0.6293779251786753, subsample=1.0 will be ignored. Current value: bagging_fraction=0.6293779251786753\n"
          ]
        },
        {
          "name": "stderr",
          "output_type": "stream",
          "text": [
            "[I 2023-07-02 18:22:20,816] Trial 8 finished with value: 0.8346153846153846 and parameters: {'lambda_l1': 1.5560068473472995e-08, 'lambda_l2': 8.446354247732267e-08, 'num_leaves': 225, 'feature_fraction': 0.6620536000376602, 'bagging_fraction': 0.6293779251786753, 'bagging_freq': 3, 'min_child_samples': 29}. Best is trial 4 with value: 0.8363782051282052.\n"
          ]
        },
        {
          "name": "stdout",
          "output_type": "stream",
          "text": [
            "[LightGBM] [Warning] lambda_l1 is set=1.5560068473472995e-08, reg_alpha=0.0 will be ignored. Current value: lambda_l1=1.5560068473472995e-08\n",
            "[LightGBM] [Warning] feature_fraction is set=0.6620536000376602, colsample_bytree=1.0 will be ignored. Current value: feature_fraction=0.6620536000376602\n",
            "[LightGBM] [Warning] bagging_freq is set=3, subsample_freq=0 will be ignored. Current value: bagging_freq=3\n",
            "[LightGBM] [Warning] lambda_l2 is set=8.446354247732267e-08, reg_lambda=0.0 will be ignored. Current value: lambda_l2=8.446354247732267e-08\n",
            "[LightGBM] [Warning] bagging_fraction is set=0.6293779251786753, subsample=1.0 will be ignored. Current value: bagging_fraction=0.6293779251786753\n",
            "[LightGBM] [Warning] lambda_l1 is set=9.303291299312827e-07, reg_alpha=0.0 will be ignored. Current value: lambda_l1=9.303291299312827e-07\n",
            "[LightGBM] [Warning] feature_fraction is set=0.5729702016292402, colsample_bytree=1.0 will be ignored. Current value: feature_fraction=0.5729702016292402\n",
            "[LightGBM] [Warning] bagging_freq is set=4, subsample_freq=0 will be ignored. Current value: bagging_freq=4\n",
            "[LightGBM] [Warning] lambda_l2 is set=4.393881535863541e-08, reg_lambda=0.0 will be ignored. Current value: lambda_l2=4.393881535863541e-08\n",
            "[LightGBM] [Warning] bagging_fraction is set=0.4009391820764553, subsample=1.0 will be ignored. Current value: bagging_fraction=0.4009391820764553\n",
            "[LightGBM] [Warning] lambda_l1 is set=9.303291299312827e-07, reg_alpha=0.0 will be ignored. Current value: lambda_l1=9.303291299312827e-07\n",
            "[LightGBM] [Warning] feature_fraction is set=0.5729702016292402, colsample_bytree=1.0 will be ignored. Current value: feature_fraction=0.5729702016292402\n",
            "[LightGBM] [Warning] bagging_freq is set=4, subsample_freq=0 will be ignored. Current value: bagging_freq=4\n",
            "[LightGBM] [Warning] lambda_l2 is set=4.393881535863541e-08, reg_lambda=0.0 will be ignored. Current value: lambda_l2=4.393881535863541e-08\n",
            "[LightGBM] [Warning] bagging_fraction is set=0.4009391820764553, subsample=1.0 will be ignored. Current value: bagging_fraction=0.4009391820764553\n",
            "[LightGBM] [Warning] lambda_l1 is set=9.303291299312827e-07, reg_alpha=0.0 will be ignored. Current value: lambda_l1=9.303291299312827e-07\n",
            "[LightGBM] [Warning] feature_fraction is set=0.5729702016292402, colsample_bytree=1.0 will be ignored. Current value: feature_fraction=0.5729702016292402\n",
            "[LightGBM] [Warning] bagging_freq is set=4, subsample_freq=0 will be ignored. Current value: bagging_freq=4\n",
            "[LightGBM] [Warning] lambda_l2 is set=4.393881535863541e-08, reg_lambda=0.0 will be ignored. Current value: lambda_l2=4.393881535863541e-08\n",
            "[LightGBM] [Warning] bagging_fraction is set=0.4009391820764553, subsample=1.0 will be ignored. Current value: bagging_fraction=0.4009391820764553\n",
            "[LightGBM] [Warning] lambda_l1 is set=9.303291299312827e-07, reg_alpha=0.0 will be ignored. Current value: lambda_l1=9.303291299312827e-07\n",
            "[LightGBM] [Warning] feature_fraction is set=0.5729702016292402, colsample_bytree=1.0 will be ignored. Current value: feature_fraction=0.5729702016292402\n",
            "[LightGBM] [Warning] bagging_freq is set=4, subsample_freq=0 will be ignored. Current value: bagging_freq=4\n",
            "[LightGBM] [Warning] lambda_l2 is set=4.393881535863541e-08, reg_lambda=0.0 will be ignored. Current value: lambda_l2=4.393881535863541e-08\n",
            "[LightGBM] [Warning] bagging_fraction is set=0.4009391820764553, subsample=1.0 will be ignored. Current value: bagging_fraction=0.4009391820764553\n"
          ]
        },
        {
          "name": "stderr",
          "output_type": "stream",
          "text": [
            "[I 2023-07-02 18:22:21,266] Trial 9 finished with value: 0.831650641025641 and parameters: {'lambda_l1': 9.303291299312827e-07, 'lambda_l2': 4.393881535863541e-08, 'num_leaves': 120, 'feature_fraction': 0.5729702016292402, 'bagging_fraction': 0.4009391820764553, 'bagging_freq': 4, 'min_child_samples': 32}. Best is trial 4 with value: 0.8363782051282052.\n"
          ]
        },
        {
          "name": "stdout",
          "output_type": "stream",
          "text": [
            "[LightGBM] [Warning] lambda_l1 is set=9.303291299312827e-07, reg_alpha=0.0 will be ignored. Current value: lambda_l1=9.303291299312827e-07\n",
            "[LightGBM] [Warning] feature_fraction is set=0.5729702016292402, colsample_bytree=1.0 will be ignored. Current value: feature_fraction=0.5729702016292402\n",
            "[LightGBM] [Warning] bagging_freq is set=4, subsample_freq=0 will be ignored. Current value: bagging_freq=4\n",
            "[LightGBM] [Warning] lambda_l2 is set=4.393881535863541e-08, reg_lambda=0.0 will be ignored. Current value: lambda_l2=4.393881535863541e-08\n",
            "[LightGBM] [Warning] bagging_fraction is set=0.4009391820764553, subsample=1.0 will be ignored. Current value: bagging_fraction=0.4009391820764553\n",
            "[LightGBM] [Warning] lambda_l1 is set=8.707481235892123, reg_alpha=0.0 will be ignored. Current value: lambda_l1=8.707481235892123\n",
            "[LightGBM] [Warning] feature_fraction is set=0.43416397700384013, colsample_bytree=1.0 will be ignored. Current value: feature_fraction=0.43416397700384013\n",
            "[LightGBM] [Warning] bagging_freq is set=7, subsample_freq=0 will be ignored. Current value: bagging_freq=7\n",
            "[LightGBM] [Warning] lambda_l2 is set=6.360808682373168, reg_lambda=0.0 will be ignored. Current value: lambda_l2=6.360808682373168\n",
            "[LightGBM] [Warning] bagging_fraction is set=0.7385074614357098, subsample=1.0 will be ignored. Current value: bagging_fraction=0.7385074614357098\n",
            "[LightGBM] [Warning] lambda_l1 is set=8.707481235892123, reg_alpha=0.0 will be ignored. Current value: lambda_l1=8.707481235892123\n",
            "[LightGBM] [Warning] feature_fraction is set=0.43416397700384013, colsample_bytree=1.0 will be ignored. Current value: feature_fraction=0.43416397700384013\n",
            "[LightGBM] [Warning] bagging_freq is set=7, subsample_freq=0 will be ignored. Current value: bagging_freq=7\n",
            "[LightGBM] [Warning] lambda_l2 is set=6.360808682373168, reg_lambda=0.0 will be ignored. Current value: lambda_l2=6.360808682373168\n",
            "[LightGBM] [Warning] bagging_fraction is set=0.7385074614357098, subsample=1.0 will be ignored. Current value: bagging_fraction=0.7385074614357098\n",
            "[LightGBM] [Warning] lambda_l1 is set=8.707481235892123, reg_alpha=0.0 will be ignored. Current value: lambda_l1=8.707481235892123\n",
            "[LightGBM] [Warning] feature_fraction is set=0.43416397700384013, colsample_bytree=1.0 will be ignored. Current value: feature_fraction=0.43416397700384013\n",
            "[LightGBM] [Warning] bagging_freq is set=7, subsample_freq=0 will be ignored. Current value: bagging_freq=7\n",
            "[LightGBM] [Warning] lambda_l2 is set=6.360808682373168, reg_lambda=0.0 will be ignored. Current value: lambda_l2=6.360808682373168\n",
            "[LightGBM] [Warning] bagging_fraction is set=0.7385074614357098, subsample=1.0 will be ignored. Current value: bagging_fraction=0.7385074614357098\n"
          ]
        },
        {
          "name": "stderr",
          "output_type": "stream",
          "text": [
            "[I 2023-07-02 18:22:21,477] Trial 10 finished with value: 0.8342147435897437 and parameters: {'lambda_l1': 8.707481235892123, 'lambda_l2': 6.360808682373168, 'num_leaves': 52, 'feature_fraction': 0.43416397700384013, 'bagging_fraction': 0.7385074614357098, 'bagging_freq': 7, 'min_child_samples': 5}. Best is trial 4 with value: 0.8363782051282052.\n"
          ]
        },
        {
          "name": "stdout",
          "output_type": "stream",
          "text": [
            "[LightGBM] [Warning] lambda_l1 is set=8.707481235892123, reg_alpha=0.0 will be ignored. Current value: lambda_l1=8.707481235892123\n",
            "[LightGBM] [Warning] feature_fraction is set=0.43416397700384013, colsample_bytree=1.0 will be ignored. Current value: feature_fraction=0.43416397700384013\n",
            "[LightGBM] [Warning] bagging_freq is set=7, subsample_freq=0 will be ignored. Current value: bagging_freq=7\n",
            "[LightGBM] [Warning] lambda_l2 is set=6.360808682373168, reg_lambda=0.0 will be ignored. Current value: lambda_l2=6.360808682373168\n",
            "[LightGBM] [Warning] bagging_fraction is set=0.7385074614357098, subsample=1.0 will be ignored. Current value: bagging_fraction=0.7385074614357098\n",
            "[LightGBM] [Warning] lambda_l1 is set=8.707481235892123, reg_alpha=0.0 will be ignored. Current value: lambda_l1=8.707481235892123\n",
            "[LightGBM] [Warning] feature_fraction is set=0.43416397700384013, colsample_bytree=1.0 will be ignored. Current value: feature_fraction=0.43416397700384013\n",
            "[LightGBM] [Warning] bagging_freq is set=7, subsample_freq=0 will be ignored. Current value: bagging_freq=7\n",
            "[LightGBM] [Warning] lambda_l2 is set=6.360808682373168, reg_lambda=0.0 will be ignored. Current value: lambda_l2=6.360808682373168\n",
            "[LightGBM] [Warning] bagging_fraction is set=0.7385074614357098, subsample=1.0 will be ignored. Current value: bagging_fraction=0.7385074614357098\n",
            "[LightGBM] [Warning] lambda_l1 is set=0.0018087364803228568, reg_alpha=0.0 will be ignored. Current value: lambda_l1=0.0018087364803228568\n",
            "[LightGBM] [Warning] feature_fraction is set=0.9752713006312089, colsample_bytree=1.0 will be ignored. Current value: feature_fraction=0.9752713006312089\n",
            "[LightGBM] [Warning] bagging_freq is set=5, subsample_freq=0 will be ignored. Current value: bagging_freq=5\n",
            "[LightGBM] [Warning] lambda_l2 is set=0.11119144086677123, reg_lambda=0.0 will be ignored. Current value: lambda_l2=0.11119144086677123\n",
            "[LightGBM] [Warning] bagging_fraction is set=0.5428317667562814, subsample=1.0 will be ignored. Current value: bagging_fraction=0.5428317667562814\n",
            "[LightGBM] [Warning] lambda_l1 is set=0.0018087364803228568, reg_alpha=0.0 will be ignored. Current value: lambda_l1=0.0018087364803228568\n",
            "[LightGBM] [Warning] feature_fraction is set=0.9752713006312089, colsample_bytree=1.0 will be ignored. Current value: feature_fraction=0.9752713006312089\n",
            "[LightGBM] [Warning] bagging_freq is set=5, subsample_freq=0 will be ignored. Current value: bagging_freq=5\n",
            "[LightGBM] [Warning] lambda_l2 is set=0.11119144086677123, reg_lambda=0.0 will be ignored. Current value: lambda_l2=0.11119144086677123\n",
            "[LightGBM] [Warning] bagging_fraction is set=0.5428317667562814, subsample=1.0 will be ignored. Current value: bagging_fraction=0.5428317667562814\n",
            "[LightGBM] [Warning] lambda_l1 is set=0.0018087364803228568, reg_alpha=0.0 will be ignored. Current value: lambda_l1=0.0018087364803228568\n",
            "[LightGBM] [Warning] feature_fraction is set=0.9752713006312089, colsample_bytree=1.0 will be ignored. Current value: feature_fraction=0.9752713006312089\n",
            "[LightGBM] [Warning] bagging_freq is set=5, subsample_freq=0 will be ignored. Current value: bagging_freq=5\n",
            "[LightGBM] [Warning] lambda_l2 is set=0.11119144086677123, reg_lambda=0.0 will be ignored. Current value: lambda_l2=0.11119144086677123\n",
            "[LightGBM] [Warning] bagging_fraction is set=0.5428317667562814, subsample=1.0 will be ignored. Current value: bagging_fraction=0.5428317667562814\n",
            "[LightGBM] [Warning] lambda_l1 is set=0.0018087364803228568, reg_alpha=0.0 will be ignored. Current value: lambda_l1=0.0018087364803228568\n",
            "[LightGBM] [Warning] feature_fraction is set=0.9752713006312089, colsample_bytree=1.0 will be ignored. Current value: feature_fraction=0.9752713006312089\n",
            "[LightGBM] [Warning] bagging_freq is set=5, subsample_freq=0 will be ignored. Current value: bagging_freq=5\n",
            "[LightGBM] [Warning] lambda_l2 is set=0.11119144086677123, reg_lambda=0.0 will be ignored. Current value: lambda_l2=0.11119144086677123\n",
            "[LightGBM] [Warning] bagging_fraction is set=0.5428317667562814, subsample=1.0 will be ignored. Current value: bagging_fraction=0.5428317667562814\n"
          ]
        },
        {
          "name": "stderr",
          "output_type": "stream",
          "text": [
            "[I 2023-07-02 18:22:21,880] Trial 11 finished with value: 0.836378205128205 and parameters: {'lambda_l1': 0.0018087364803228568, 'lambda_l2': 0.11119144086677123, 'num_leaves': 202, 'feature_fraction': 0.9752713006312089, 'bagging_fraction': 0.5428317667562814, 'bagging_freq': 5, 'min_child_samples': 90}. Best is trial 4 with value: 0.8363782051282052.\n"
          ]
        },
        {
          "name": "stdout",
          "output_type": "stream",
          "text": [
            "[LightGBM] [Warning] lambda_l1 is set=0.0018087364803228568, reg_alpha=0.0 will be ignored. Current value: lambda_l1=0.0018087364803228568\n",
            "[LightGBM] [Warning] feature_fraction is set=0.9752713006312089, colsample_bytree=1.0 will be ignored. Current value: feature_fraction=0.9752713006312089\n",
            "[LightGBM] [Warning] bagging_freq is set=5, subsample_freq=0 will be ignored. Current value: bagging_freq=5\n",
            "[LightGBM] [Warning] lambda_l2 is set=0.11119144086677123, reg_lambda=0.0 will be ignored. Current value: lambda_l2=0.11119144086677123\n",
            "[LightGBM] [Warning] bagging_fraction is set=0.5428317667562814, subsample=1.0 will be ignored. Current value: bagging_fraction=0.5428317667562814\n",
            "[LightGBM] [Warning] lambda_l1 is set=0.0004593977386136424, reg_alpha=0.0 will be ignored. Current value: lambda_l1=0.0004593977386136424\n",
            "[LightGBM] [Warning] feature_fraction is set=0.9825560777513909, colsample_bytree=1.0 will be ignored. Current value: feature_fraction=0.9825560777513909\n",
            "[LightGBM] [Warning] bagging_freq is set=5, subsample_freq=0 will be ignored. Current value: bagging_freq=5\n",
            "[LightGBM] [Warning] lambda_l2 is set=0.2591629751505087, reg_lambda=0.0 will be ignored. Current value: lambda_l2=0.2591629751505087\n",
            "[LightGBM] [Warning] bagging_fraction is set=0.5161491567934741, subsample=1.0 will be ignored. Current value: bagging_fraction=0.5161491567934741\n",
            "[LightGBM] [Warning] lambda_l1 is set=0.0004593977386136424, reg_alpha=0.0 will be ignored. Current value: lambda_l1=0.0004593977386136424\n",
            "[LightGBM] [Warning] feature_fraction is set=0.9825560777513909, colsample_bytree=1.0 will be ignored. Current value: feature_fraction=0.9825560777513909\n",
            "[LightGBM] [Warning] bagging_freq is set=5, subsample_freq=0 will be ignored. Current value: bagging_freq=5\n",
            "[LightGBM] [Warning] lambda_l2 is set=0.2591629751505087, reg_lambda=0.0 will be ignored. Current value: lambda_l2=0.2591629751505087\n",
            "[LightGBM] [Warning] bagging_fraction is set=0.5161491567934741, subsample=1.0 will be ignored. Current value: bagging_fraction=0.5161491567934741\n",
            "[LightGBM] [Warning] lambda_l1 is set=0.0004593977386136424, reg_alpha=0.0 will be ignored. Current value: lambda_l1=0.0004593977386136424\n",
            "[LightGBM] [Warning] feature_fraction is set=0.9825560777513909, colsample_bytree=1.0 will be ignored. Current value: feature_fraction=0.9825560777513909\n",
            "[LightGBM] [Warning] bagging_freq is set=5, subsample_freq=0 will be ignored. Current value: bagging_freq=5\n",
            "[LightGBM] [Warning] lambda_l2 is set=0.2591629751505087, reg_lambda=0.0 will be ignored. Current value: lambda_l2=0.2591629751505087\n",
            "[LightGBM] [Warning] bagging_fraction is set=0.5161491567934741, subsample=1.0 will be ignored. Current value: bagging_fraction=0.5161491567934741\n",
            "[LightGBM] [Warning] lambda_l1 is set=0.0004593977386136424, reg_alpha=0.0 will be ignored. Current value: lambda_l1=0.0004593977386136424\n",
            "[LightGBM] [Warning] feature_fraction is set=0.9825560777513909, colsample_bytree=1.0 will be ignored. Current value: feature_fraction=0.9825560777513909\n",
            "[LightGBM] [Warning] bagging_freq is set=5, subsample_freq=0 will be ignored. Current value: bagging_freq=5\n",
            "[LightGBM] [Warning] lambda_l2 is set=0.2591629751505087, reg_lambda=0.0 will be ignored. Current value: lambda_l2=0.2591629751505087\n",
            "[LightGBM] [Warning] bagging_fraction is set=0.5161491567934741, subsample=1.0 will be ignored. Current value: bagging_fraction=0.5161491567934741\n",
            "[LightGBM] [Warning] lambda_l1 is set=0.0004593977386136424, reg_alpha=0.0 will be ignored. Current value: lambda_l1=0.0004593977386136424\n",
            "[LightGBM] [Warning] feature_fraction is set=0.9825560777513909, colsample_bytree=1.0 will be ignored. Current value: feature_fraction=0.9825560777513909\n",
            "[LightGBM] [Warning] bagging_freq is set=5, subsample_freq=0 will be ignored. Current value: bagging_freq=5\n",
            "[LightGBM] [Warning] lambda_l2 is set=0.2591629751505087, reg_lambda=0.0 will be ignored. Current value: lambda_l2=0.2591629751505087\n",
            "[LightGBM] [Warning] bagging_fraction is set=0.5161491567934741, subsample=1.0 will be ignored. Current value: bagging_fraction=0.5161491567934741\n"
          ]
        },
        {
          "name": "stderr",
          "output_type": "stream",
          "text": [
            "[I 2023-07-02 18:22:23,107] Trial 12 finished with value: 0.8359775641025642 and parameters: {'lambda_l1': 0.0004593977386136424, 'lambda_l2': 0.2591629751505087, 'num_leaves': 192, 'feature_fraction': 0.9825560777513909, 'bagging_fraction': 0.5161491567934741, 'bagging_freq': 5, 'min_child_samples': 5}. Best is trial 4 with value: 0.8363782051282052.\n"
          ]
        },
        {
          "name": "stdout",
          "output_type": "stream",
          "text": [
            "[LightGBM] [Warning] lambda_l1 is set=0.0013062846115435684, reg_alpha=0.0 will be ignored. Current value: lambda_l1=0.0013062846115435684\n",
            "[LightGBM] [Warning] feature_fraction is set=0.9676426017737223, colsample_bytree=1.0 will be ignored. Current value: feature_fraction=0.9676426017737223\n",
            "[LightGBM] [Warning] bagging_freq is set=5, subsample_freq=0 will be ignored. Current value: bagging_freq=5\n",
            "[LightGBM] [Warning] lambda_l2 is set=9.785216372229407, reg_lambda=0.0 will be ignored. Current value: lambda_l2=9.785216372229407\n",
            "[LightGBM] [Warning] bagging_fraction is set=0.4742127701738099, subsample=1.0 will be ignored. Current value: bagging_fraction=0.4742127701738099\n",
            "[LightGBM] [Warning] lambda_l1 is set=0.0013062846115435684, reg_alpha=0.0 will be ignored. Current value: lambda_l1=0.0013062846115435684\n",
            "[LightGBM] [Warning] feature_fraction is set=0.9676426017737223, colsample_bytree=1.0 will be ignored. Current value: feature_fraction=0.9676426017737223\n",
            "[LightGBM] [Warning] bagging_freq is set=5, subsample_freq=0 will be ignored. Current value: bagging_freq=5\n",
            "[LightGBM] [Warning] lambda_l2 is set=9.785216372229407, reg_lambda=0.0 will be ignored. Current value: lambda_l2=9.785216372229407\n",
            "[LightGBM] [Warning] bagging_fraction is set=0.4742127701738099, subsample=1.0 will be ignored. Current value: bagging_fraction=0.4742127701738099\n",
            "[LightGBM] [Warning] lambda_l1 is set=0.0013062846115435684, reg_alpha=0.0 will be ignored. Current value: lambda_l1=0.0013062846115435684\n",
            "[LightGBM] [Warning] feature_fraction is set=0.9676426017737223, colsample_bytree=1.0 will be ignored. Current value: feature_fraction=0.9676426017737223\n",
            "[LightGBM] [Warning] bagging_freq is set=5, subsample_freq=0 will be ignored. Current value: bagging_freq=5\n",
            "[LightGBM] [Warning] lambda_l2 is set=9.785216372229407, reg_lambda=0.0 will be ignored. Current value: lambda_l2=9.785216372229407\n",
            "[LightGBM] [Warning] bagging_fraction is set=0.4742127701738099, subsample=1.0 will be ignored. Current value: bagging_fraction=0.4742127701738099\n",
            "[LightGBM] [Warning] lambda_l1 is set=0.0013062846115435684, reg_alpha=0.0 will be ignored. Current value: lambda_l1=0.0013062846115435684\n",
            "[LightGBM] [Warning] feature_fraction is set=0.9676426017737223, colsample_bytree=1.0 will be ignored. Current value: feature_fraction=0.9676426017737223\n",
            "[LightGBM] [Warning] bagging_freq is set=5, subsample_freq=0 will be ignored. Current value: bagging_freq=5\n",
            "[LightGBM] [Warning] lambda_l2 is set=9.785216372229407, reg_lambda=0.0 will be ignored. Current value: lambda_l2=9.785216372229407\n",
            "[LightGBM] [Warning] bagging_fraction is set=0.4742127701738099, subsample=1.0 will be ignored. Current value: bagging_fraction=0.4742127701738099\n"
          ]
        },
        {
          "name": "stderr",
          "output_type": "stream",
          "text": [
            "[I 2023-07-02 18:22:23,397] Trial 13 finished with value: 0.8414262820512819 and parameters: {'lambda_l1': 0.0013062846115435684, 'lambda_l2': 9.785216372229407, 'num_leaves': 180, 'feature_fraction': 0.9676426017737223, 'bagging_fraction': 0.4742127701738099, 'bagging_freq': 5, 'min_child_samples': 90}. Best is trial 13 with value: 0.8414262820512819.\n"
          ]
        },
        {
          "name": "stdout",
          "output_type": "stream",
          "text": [
            "[LightGBM] [Warning] lambda_l1 is set=0.0013062846115435684, reg_alpha=0.0 will be ignored. Current value: lambda_l1=0.0013062846115435684\n",
            "[LightGBM] [Warning] feature_fraction is set=0.9676426017737223, colsample_bytree=1.0 will be ignored. Current value: feature_fraction=0.9676426017737223\n",
            "[LightGBM] [Warning] bagging_freq is set=5, subsample_freq=0 will be ignored. Current value: bagging_freq=5\n",
            "[LightGBM] [Warning] lambda_l2 is set=9.785216372229407, reg_lambda=0.0 will be ignored. Current value: lambda_l2=9.785216372229407\n",
            "[LightGBM] [Warning] bagging_fraction is set=0.4742127701738099, subsample=1.0 will be ignored. Current value: bagging_fraction=0.4742127701738099\n",
            "[LightGBM] [Warning] lambda_l1 is set=0.00030605505669700994, reg_alpha=0.0 will be ignored. Current value: lambda_l1=0.00030605505669700994\n",
            "[LightGBM] [Warning] feature_fraction is set=0.8944814061979478, colsample_bytree=1.0 will be ignored. Current value: feature_fraction=0.8944814061979478\n",
            "[LightGBM] [Warning] bagging_freq is set=5, subsample_freq=0 will be ignored. Current value: bagging_freq=5\n",
            "[LightGBM] [Warning] lambda_l2 is set=6.621035115320303, reg_lambda=0.0 will be ignored. Current value: lambda_l2=6.621035115320303\n",
            "[LightGBM] [Warning] bagging_fraction is set=0.4292370818330179, subsample=1.0 will be ignored. Current value: bagging_fraction=0.4292370818330179\n",
            "[LightGBM] [Warning] lambda_l1 is set=0.00030605505669700994, reg_alpha=0.0 will be ignored. Current value: lambda_l1=0.00030605505669700994\n",
            "[LightGBM] [Warning] feature_fraction is set=0.8944814061979478, colsample_bytree=1.0 will be ignored. Current value: feature_fraction=0.8944814061979478\n",
            "[LightGBM] [Warning] bagging_freq is set=5, subsample_freq=0 will be ignored. Current value: bagging_freq=5\n",
            "[LightGBM] [Warning] lambda_l2 is set=6.621035115320303, reg_lambda=0.0 will be ignored. Current value: lambda_l2=6.621035115320303\n",
            "[LightGBM] [Warning] bagging_fraction is set=0.4292370818330179, subsample=1.0 will be ignored. Current value: bagging_fraction=0.4292370818330179\n",
            "[LightGBM] [Warning] lambda_l1 is set=0.00030605505669700994, reg_alpha=0.0 will be ignored. Current value: lambda_l1=0.00030605505669700994\n",
            "[LightGBM] [Warning] feature_fraction is set=0.8944814061979478, colsample_bytree=1.0 will be ignored. Current value: feature_fraction=0.8944814061979478\n",
            "[LightGBM] [Warning] bagging_freq is set=5, subsample_freq=0 will be ignored. Current value: bagging_freq=5\n",
            "[LightGBM] [Warning] lambda_l2 is set=6.621035115320303, reg_lambda=0.0 will be ignored. Current value: lambda_l2=6.621035115320303\n",
            "[LightGBM] [Warning] bagging_fraction is set=0.4292370818330179, subsample=1.0 will be ignored. Current value: bagging_fraction=0.4292370818330179\n"
          ]
        },
        {
          "name": "stderr",
          "output_type": "stream",
          "text": [
            "[I 2023-07-02 18:22:23,723] Trial 14 finished with value: 0.8394230769230768 and parameters: {'lambda_l1': 0.00030605505669700994, 'lambda_l2': 6.621035115320303, 'num_leaves': 165, 'feature_fraction': 0.8944814061979478, 'bagging_fraction': 0.4292370818330179, 'bagging_freq': 5, 'min_child_samples': 47}. Best is trial 13 with value: 0.8414262820512819.\n"
          ]
        },
        {
          "name": "stdout",
          "output_type": "stream",
          "text": [
            "[LightGBM] [Warning] lambda_l1 is set=0.00030605505669700994, reg_alpha=0.0 will be ignored. Current value: lambda_l1=0.00030605505669700994\n",
            "[LightGBM] [Warning] feature_fraction is set=0.8944814061979478, colsample_bytree=1.0 will be ignored. Current value: feature_fraction=0.8944814061979478\n",
            "[LightGBM] [Warning] bagging_freq is set=5, subsample_freq=0 will be ignored. Current value: bagging_freq=5\n",
            "[LightGBM] [Warning] lambda_l2 is set=6.621035115320303, reg_lambda=0.0 will be ignored. Current value: lambda_l2=6.621035115320303\n",
            "[LightGBM] [Warning] bagging_fraction is set=0.4292370818330179, subsample=1.0 will be ignored. Current value: bagging_fraction=0.4292370818330179\n",
            "[LightGBM] [Warning] lambda_l1 is set=0.00030605505669700994, reg_alpha=0.0 will be ignored. Current value: lambda_l1=0.00030605505669700994\n",
            "[LightGBM] [Warning] feature_fraction is set=0.8944814061979478, colsample_bytree=1.0 will be ignored. Current value: feature_fraction=0.8944814061979478\n",
            "[LightGBM] [Warning] bagging_freq is set=5, subsample_freq=0 will be ignored. Current value: bagging_freq=5\n",
            "[LightGBM] [Warning] lambda_l2 is set=6.621035115320303, reg_lambda=0.0 will be ignored. Current value: lambda_l2=6.621035115320303\n",
            "[LightGBM] [Warning] bagging_fraction is set=0.4292370818330179, subsample=1.0 will be ignored. Current value: bagging_fraction=0.4292370818330179\n",
            "[LightGBM] [Warning] lambda_l1 is set=7.533891673817333e-05, reg_alpha=0.0 will be ignored. Current value: lambda_l1=7.533891673817333e-05\n",
            "[LightGBM] [Warning] feature_fraction is set=0.8969375613553165, colsample_bytree=1.0 will be ignored. Current value: feature_fraction=0.8969375613553165\n",
            "[LightGBM] [Warning] bagging_freq is set=6, subsample_freq=0 will be ignored. Current value: bagging_freq=6\n",
            "[LightGBM] [Warning] lambda_l2 is set=6.0448560648610465, reg_lambda=0.0 will be ignored. Current value: lambda_l2=6.0448560648610465\n",
            "[LightGBM] [Warning] bagging_fraction is set=0.40800676563303007, subsample=1.0 will be ignored. Current value: bagging_fraction=0.40800676563303007\n",
            "[LightGBM] [Warning] lambda_l1 is set=7.533891673817333e-05, reg_alpha=0.0 will be ignored. Current value: lambda_l1=7.533891673817333e-05\n",
            "[LightGBM] [Warning] feature_fraction is set=0.8969375613553165, colsample_bytree=1.0 will be ignored. Current value: feature_fraction=0.8969375613553165\n",
            "[LightGBM] [Warning] bagging_freq is set=6, subsample_freq=0 will be ignored. Current value: bagging_freq=6\n",
            "[LightGBM] [Warning] lambda_l2 is set=6.0448560648610465, reg_lambda=0.0 will be ignored. Current value: lambda_l2=6.0448560648610465\n",
            "[LightGBM] [Warning] bagging_fraction is set=0.40800676563303007, subsample=1.0 will be ignored. Current value: bagging_fraction=0.40800676563303007\n",
            "[LightGBM] [Warning] lambda_l1 is set=7.533891673817333e-05, reg_alpha=0.0 will be ignored. Current value: lambda_l1=7.533891673817333e-05\n",
            "[LightGBM] [Warning] feature_fraction is set=0.8969375613553165, colsample_bytree=1.0 will be ignored. Current value: feature_fraction=0.8969375613553165\n",
            "[LightGBM] [Warning] bagging_freq is set=6, subsample_freq=0 will be ignored. Current value: bagging_freq=6\n",
            "[LightGBM] [Warning] lambda_l2 is set=6.0448560648610465, reg_lambda=0.0 will be ignored. Current value: lambda_l2=6.0448560648610465\n",
            "[LightGBM] [Warning] bagging_fraction is set=0.40800676563303007, subsample=1.0 will be ignored. Current value: bagging_fraction=0.40800676563303007\n",
            "[LightGBM] [Warning] lambda_l1 is set=7.533891673817333e-05, reg_alpha=0.0 will be ignored. Current value: lambda_l1=7.533891673817333e-05\n",
            "[LightGBM] [Warning] feature_fraction is set=0.8969375613553165, colsample_bytree=1.0 will be ignored. Current value: feature_fraction=0.8969375613553165\n",
            "[LightGBM] [Warning] bagging_freq is set=6, subsample_freq=0 will be ignored. Current value: bagging_freq=6\n",
            "[LightGBM] [Warning] lambda_l2 is set=6.0448560648610465, reg_lambda=0.0 will be ignored. Current value: lambda_l2=6.0448560648610465\n",
            "[LightGBM] [Warning] bagging_fraction is set=0.40800676563303007, subsample=1.0 will be ignored. Current value: bagging_fraction=0.40800676563303007\n",
            "[LightGBM] [Warning] lambda_l1 is set=7.533891673817333e-05, reg_alpha=0.0 will be ignored. Current value: lambda_l1=7.533891673817333e-05\n",
            "[LightGBM] [Warning] feature_fraction is set=0.8969375613553165, colsample_bytree=1.0 will be ignored. Current value: feature_fraction=0.8969375613553165\n",
            "[LightGBM] [Warning] bagging_freq is set=6, subsample_freq=0 will be ignored. Current value: bagging_freq=6\n",
            "[LightGBM] [Warning] lambda_l2 is set=6.0448560648610465, reg_lambda=0.0 will be ignored. Current value: lambda_l2=6.0448560648610465\n",
            "[LightGBM] [Warning] bagging_fraction is set=0.40800676563303007, subsample=1.0 will be ignored. Current value: bagging_fraction=0.40800676563303007\n"
          ]
        },
        {
          "name": "stderr",
          "output_type": "stream",
          "text": [
            "[I 2023-07-02 18:22:24,050] Trial 15 finished with value: 0.8401442307692308 and parameters: {'lambda_l1': 7.533891673817333e-05, 'lambda_l2': 6.0448560648610465, 'num_leaves': 167, 'feature_fraction': 0.8969375613553165, 'bagging_fraction': 0.40800676563303007, 'bagging_freq': 6, 'min_child_samples': 47}. Best is trial 13 with value: 0.8414262820512819.\n"
          ]
        },
        {
          "name": "stdout",
          "output_type": "stream",
          "text": [
            "[LightGBM] [Warning] lambda_l1 is set=8.009567464599042e-05, reg_alpha=0.0 will be ignored. Current value: lambda_l1=8.009567464599042e-05\n",
            "[LightGBM] [Warning] feature_fraction is set=0.9090505832150952, colsample_bytree=1.0 will be ignored. Current value: feature_fraction=0.9090505832150952\n",
            "[LightGBM] [Warning] bagging_freq is set=7, subsample_freq=0 will be ignored. Current value: bagging_freq=7\n",
            "[LightGBM] [Warning] lambda_l2 is set=8.57121737219187, reg_lambda=0.0 will be ignored. Current value: lambda_l2=8.57121737219187\n",
            "[LightGBM] [Warning] bagging_fraction is set=0.4699921243460477, subsample=1.0 will be ignored. Current value: bagging_fraction=0.4699921243460477\n",
            "[LightGBM] [Warning] lambda_l1 is set=8.009567464599042e-05, reg_alpha=0.0 will be ignored. Current value: lambda_l1=8.009567464599042e-05\n",
            "[LightGBM] [Warning] feature_fraction is set=0.9090505832150952, colsample_bytree=1.0 will be ignored. Current value: feature_fraction=0.9090505832150952\n",
            "[LightGBM] [Warning] bagging_freq is set=7, subsample_freq=0 will be ignored. Current value: bagging_freq=7\n",
            "[LightGBM] [Warning] lambda_l2 is set=8.57121737219187, reg_lambda=0.0 will be ignored. Current value: lambda_l2=8.57121737219187\n",
            "[LightGBM] [Warning] bagging_fraction is set=0.4699921243460477, subsample=1.0 will be ignored. Current value: bagging_fraction=0.4699921243460477\n",
            "[LightGBM] [Warning] lambda_l1 is set=8.009567464599042e-05, reg_alpha=0.0 will be ignored. Current value: lambda_l1=8.009567464599042e-05\n",
            "[LightGBM] [Warning] feature_fraction is set=0.9090505832150952, colsample_bytree=1.0 will be ignored. Current value: feature_fraction=0.9090505832150952\n",
            "[LightGBM] [Warning] bagging_freq is set=7, subsample_freq=0 will be ignored. Current value: bagging_freq=7\n",
            "[LightGBM] [Warning] lambda_l2 is set=8.57121737219187, reg_lambda=0.0 will be ignored. Current value: lambda_l2=8.57121737219187\n",
            "[LightGBM] [Warning] bagging_fraction is set=0.4699921243460477, subsample=1.0 will be ignored. Current value: bagging_fraction=0.4699921243460477\n",
            "[LightGBM] [Warning] lambda_l1 is set=8.009567464599042e-05, reg_alpha=0.0 will be ignored. Current value: lambda_l1=8.009567464599042e-05\n",
            "[LightGBM] [Warning] feature_fraction is set=0.9090505832150952, colsample_bytree=1.0 will be ignored. Current value: feature_fraction=0.9090505832150952\n",
            "[LightGBM] [Warning] bagging_freq is set=7, subsample_freq=0 will be ignored. Current value: bagging_freq=7\n",
            "[LightGBM] [Warning] lambda_l2 is set=8.57121737219187, reg_lambda=0.0 will be ignored. Current value: lambda_l2=8.57121737219187\n",
            "[LightGBM] [Warning] bagging_fraction is set=0.4699921243460477, subsample=1.0 will be ignored. Current value: bagging_fraction=0.4699921243460477\n"
          ]
        },
        {
          "name": "stderr",
          "output_type": "stream",
          "text": [
            "[I 2023-07-02 18:22:24,356] Trial 16 finished with value: 0.8381410256410258 and parameters: {'lambda_l1': 8.009567464599042e-05, 'lambda_l2': 8.57121737219187, 'num_leaves': 166, 'feature_fraction': 0.9090505832150952, 'bagging_fraction': 0.4699921243460477, 'bagging_freq': 7, 'min_child_samples': 74}. Best is trial 13 with value: 0.8414262820512819.\n"
          ]
        },
        {
          "name": "stdout",
          "output_type": "stream",
          "text": [
            "[LightGBM] [Warning] lambda_l1 is set=8.009567464599042e-05, reg_alpha=0.0 will be ignored. Current value: lambda_l1=8.009567464599042e-05\n",
            "[LightGBM] [Warning] feature_fraction is set=0.9090505832150952, colsample_bytree=1.0 will be ignored. Current value: feature_fraction=0.9090505832150952\n",
            "[LightGBM] [Warning] bagging_freq is set=7, subsample_freq=0 will be ignored. Current value: bagging_freq=7\n",
            "[LightGBM] [Warning] lambda_l2 is set=8.57121737219187, reg_lambda=0.0 will be ignored. Current value: lambda_l2=8.57121737219187\n",
            "[LightGBM] [Warning] bagging_fraction is set=0.4699921243460477, subsample=1.0 will be ignored. Current value: bagging_fraction=0.4699921243460477\n",
            "[LightGBM] [Warning] lambda_l1 is set=8.17442737109718e-05, reg_alpha=0.0 will be ignored. Current value: lambda_l1=8.17442737109718e-05\n",
            "[LightGBM] [Warning] feature_fraction is set=0.9910976818120318, colsample_bytree=1.0 will be ignored. Current value: feature_fraction=0.9910976818120318\n",
            "[LightGBM] [Warning] bagging_freq is set=6, subsample_freq=0 will be ignored. Current value: bagging_freq=6\n",
            "[LightGBM] [Warning] lambda_l2 is set=1.078879665664962, reg_lambda=0.0 will be ignored. Current value: lambda_l2=1.078879665664962\n",
            "[LightGBM] [Warning] bagging_fraction is set=0.40804406738269366, subsample=1.0 will be ignored. Current value: bagging_fraction=0.40804406738269366\n",
            "[LightGBM] [Warning] lambda_l1 is set=8.17442737109718e-05, reg_alpha=0.0 will be ignored. Current value: lambda_l1=8.17442737109718e-05\n",
            "[LightGBM] [Warning] feature_fraction is set=0.9910976818120318, colsample_bytree=1.0 will be ignored. Current value: feature_fraction=0.9910976818120318\n",
            "[LightGBM] [Warning] bagging_freq is set=6, subsample_freq=0 will be ignored. Current value: bagging_freq=6\n",
            "[LightGBM] [Warning] lambda_l2 is set=1.078879665664962, reg_lambda=0.0 will be ignored. Current value: lambda_l2=1.078879665664962\n",
            "[LightGBM] [Warning] bagging_fraction is set=0.40804406738269366, subsample=1.0 will be ignored. Current value: bagging_fraction=0.40804406738269366\n"
          ]
        },
        {
          "name": "stderr",
          "output_type": "stream",
          "text": [
            "[I 2023-07-02 18:22:24,706] Trial 17 finished with value: 0.8331730769230768 and parameters: {'lambda_l1': 8.17442737109718e-05, 'lambda_l2': 1.078879665664962, 'num_leaves': 83, 'feature_fraction': 0.9910976818120318, 'bagging_fraction': 0.40804406738269366, 'bagging_freq': 6, 'min_child_samples': 50}. Best is trial 13 with value: 0.8414262820512819.\n"
          ]
        },
        {
          "name": "stdout",
          "output_type": "stream",
          "text": [
            "[LightGBM] [Warning] lambda_l1 is set=8.17442737109718e-05, reg_alpha=0.0 will be ignored. Current value: lambda_l1=8.17442737109718e-05\n",
            "[LightGBM] [Warning] feature_fraction is set=0.9910976818120318, colsample_bytree=1.0 will be ignored. Current value: feature_fraction=0.9910976818120318\n",
            "[LightGBM] [Warning] bagging_freq is set=6, subsample_freq=0 will be ignored. Current value: bagging_freq=6\n",
            "[LightGBM] [Warning] lambda_l2 is set=1.078879665664962, reg_lambda=0.0 will be ignored. Current value: lambda_l2=1.078879665664962\n",
            "[LightGBM] [Warning] bagging_fraction is set=0.40804406738269366, subsample=1.0 will be ignored. Current value: bagging_fraction=0.40804406738269366\n",
            "[LightGBM] [Warning] lambda_l1 is set=8.17442737109718e-05, reg_alpha=0.0 will be ignored. Current value: lambda_l1=8.17442737109718e-05\n",
            "[LightGBM] [Warning] feature_fraction is set=0.9910976818120318, colsample_bytree=1.0 will be ignored. Current value: feature_fraction=0.9910976818120318\n",
            "[LightGBM] [Warning] bagging_freq is set=6, subsample_freq=0 will be ignored. Current value: bagging_freq=6\n",
            "[LightGBM] [Warning] lambda_l2 is set=1.078879665664962, reg_lambda=0.0 will be ignored. Current value: lambda_l2=1.078879665664962\n",
            "[LightGBM] [Warning] bagging_fraction is set=0.40804406738269366, subsample=1.0 will be ignored. Current value: bagging_fraction=0.40804406738269366\n",
            "[LightGBM] [Warning] lambda_l1 is set=8.17442737109718e-05, reg_alpha=0.0 will be ignored. Current value: lambda_l1=8.17442737109718e-05\n",
            "[LightGBM] [Warning] feature_fraction is set=0.9910976818120318, colsample_bytree=1.0 will be ignored. Current value: feature_fraction=0.9910976818120318\n",
            "[LightGBM] [Warning] bagging_freq is set=6, subsample_freq=0 will be ignored. Current value: bagging_freq=6\n",
            "[LightGBM] [Warning] lambda_l2 is set=1.078879665664962, reg_lambda=0.0 will be ignored. Current value: lambda_l2=1.078879665664962\n",
            "[LightGBM] [Warning] bagging_fraction is set=0.40804406738269366, subsample=1.0 will be ignored. Current value: bagging_fraction=0.40804406738269366\n",
            "[LightGBM] [Warning] lambda_l1 is set=0.004944339217400274, reg_alpha=0.0 will be ignored. Current value: lambda_l1=0.004944339217400274\n",
            "[LightGBM] [Warning] feature_fraction is set=0.9002517268008329, colsample_bytree=1.0 will be ignored. Current value: feature_fraction=0.9002517268008329\n",
            "[LightGBM] [Warning] bagging_freq is set=6, subsample_freq=0 will be ignored. Current value: bagging_freq=6\n",
            "[LightGBM] [Warning] lambda_l2 is set=0.0031719258549120014, reg_lambda=0.0 will be ignored. Current value: lambda_l2=0.0031719258549120014\n",
            "[LightGBM] [Warning] bagging_fraction is set=0.48558428527477143, subsample=1.0 will be ignored. Current value: bagging_fraction=0.48558428527477143\n",
            "[LightGBM] [Warning] lambda_l1 is set=0.004944339217400274, reg_alpha=0.0 will be ignored. Current value: lambda_l1=0.004944339217400274\n",
            "[LightGBM] [Warning] feature_fraction is set=0.9002517268008329, colsample_bytree=1.0 will be ignored. Current value: feature_fraction=0.9002517268008329\n",
            "[LightGBM] [Warning] bagging_freq is set=6, subsample_freq=0 will be ignored. Current value: bagging_freq=6\n",
            "[LightGBM] [Warning] lambda_l2 is set=0.0031719258549120014, reg_lambda=0.0 will be ignored. Current value: lambda_l2=0.0031719258549120014\n",
            "[LightGBM] [Warning] bagging_fraction is set=0.48558428527477143, subsample=1.0 will be ignored. Current value: bagging_fraction=0.48558428527477143\n",
            "[LightGBM] [Warning] lambda_l1 is set=0.004944339217400274, reg_alpha=0.0 will be ignored. Current value: lambda_l1=0.004944339217400274\n",
            "[LightGBM] [Warning] feature_fraction is set=0.9002517268008329, colsample_bytree=1.0 will be ignored. Current value: feature_fraction=0.9002517268008329\n",
            "[LightGBM] [Warning] bagging_freq is set=6, subsample_freq=0 will be ignored. Current value: bagging_freq=6\n",
            "[LightGBM] [Warning] lambda_l2 is set=0.0031719258549120014, reg_lambda=0.0 will be ignored. Current value: lambda_l2=0.0031719258549120014\n",
            "[LightGBM] [Warning] bagging_fraction is set=0.48558428527477143, subsample=1.0 will be ignored. Current value: bagging_fraction=0.48558428527477143\n",
            "[LightGBM] [Warning] lambda_l1 is set=0.004944339217400274, reg_alpha=0.0 will be ignored. Current value: lambda_l1=0.004944339217400274\n",
            "[LightGBM] [Warning] feature_fraction is set=0.9002517268008329, colsample_bytree=1.0 will be ignored. Current value: feature_fraction=0.9002517268008329\n",
            "[LightGBM] [Warning] bagging_freq is set=6, subsample_freq=0 will be ignored. Current value: bagging_freq=6\n",
            "[LightGBM] [Warning] lambda_l2 is set=0.0031719258549120014, reg_lambda=0.0 will be ignored. Current value: lambda_l2=0.0031719258549120014\n",
            "[LightGBM] [Warning] bagging_fraction is set=0.48558428527477143, subsample=1.0 will be ignored. Current value: bagging_fraction=0.48558428527477143\n"
          ]
        },
        {
          "name": "stderr",
          "output_type": "stream",
          "text": [
            "[I 2023-07-02 18:22:25,392] Trial 18 finished with value: 0.8282051282051281 and parameters: {'lambda_l1': 0.004944339217400274, 'lambda_l2': 0.0031719258549120014, 'num_leaves': 161, 'feature_fraction': 0.9002517268008329, 'bagging_fraction': 0.48558428527477143, 'bagging_freq': 6, 'min_child_samples': 20}. Best is trial 13 with value: 0.8414262820512819.\n"
          ]
        },
        {
          "name": "stdout",
          "output_type": "stream",
          "text": [
            "[LightGBM] [Warning] lambda_l1 is set=0.004944339217400274, reg_alpha=0.0 will be ignored. Current value: lambda_l1=0.004944339217400274\n",
            "[LightGBM] [Warning] feature_fraction is set=0.9002517268008329, colsample_bytree=1.0 will be ignored. Current value: feature_fraction=0.9002517268008329\n",
            "[LightGBM] [Warning] bagging_freq is set=6, subsample_freq=0 will be ignored. Current value: bagging_freq=6\n",
            "[LightGBM] [Warning] lambda_l2 is set=0.0031719258549120014, reg_lambda=0.0 will be ignored. Current value: lambda_l2=0.0031719258549120014\n",
            "[LightGBM] [Warning] bagging_fraction is set=0.48558428527477143, subsample=1.0 will be ignored. Current value: bagging_fraction=0.48558428527477143\n",
            "[LightGBM] [Warning] lambda_l1 is set=1.7424349724108168e-05, reg_alpha=0.0 will be ignored. Current value: lambda_l1=1.7424349724108168e-05\n",
            "[LightGBM] [Warning] feature_fraction is set=0.7439893275376619, colsample_bytree=1.0 will be ignored. Current value: feature_fraction=0.7439893275376619\n",
            "[LightGBM] [Warning] bagging_freq is set=4, subsample_freq=0 will be ignored. Current value: bagging_freq=4\n",
            "[LightGBM] [Warning] lambda_l2 is set=0.7037354818862943, reg_lambda=0.0 will be ignored. Current value: lambda_l2=0.7037354818862943\n",
            "[LightGBM] [Warning] bagging_fraction is set=0.4888358490747864, subsample=1.0 will be ignored. Current value: bagging_fraction=0.4888358490747864\n",
            "[LightGBM] [Warning] lambda_l1 is set=1.7424349724108168e-05, reg_alpha=0.0 will be ignored. Current value: lambda_l1=1.7424349724108168e-05\n",
            "[LightGBM] [Warning] feature_fraction is set=0.7439893275376619, colsample_bytree=1.0 will be ignored. Current value: feature_fraction=0.7439893275376619\n",
            "[LightGBM] [Warning] bagging_freq is set=4, subsample_freq=0 will be ignored. Current value: bagging_freq=4\n",
            "[LightGBM] [Warning] lambda_l2 is set=0.7037354818862943, reg_lambda=0.0 will be ignored. Current value: lambda_l2=0.7037354818862943\n",
            "[LightGBM] [Warning] bagging_fraction is set=0.4888358490747864, subsample=1.0 will be ignored. Current value: bagging_fraction=0.4888358490747864\n",
            "[LightGBM] [Warning] lambda_l1 is set=1.7424349724108168e-05, reg_alpha=0.0 will be ignored. Current value: lambda_l1=1.7424349724108168e-05\n",
            "[LightGBM] [Warning] feature_fraction is set=0.7439893275376619, colsample_bytree=1.0 will be ignored. Current value: feature_fraction=0.7439893275376619\n",
            "[LightGBM] [Warning] bagging_freq is set=4, subsample_freq=0 will be ignored. Current value: bagging_freq=4\n",
            "[LightGBM] [Warning] lambda_l2 is set=0.7037354818862943, reg_lambda=0.0 will be ignored. Current value: lambda_l2=0.7037354818862943\n",
            "[LightGBM] [Warning] bagging_fraction is set=0.4888358490747864, subsample=1.0 will be ignored. Current value: bagging_fraction=0.4888358490747864\n",
            "[LightGBM] [Warning] lambda_l1 is set=1.7424349724108168e-05, reg_alpha=0.0 will be ignored. Current value: lambda_l1=1.7424349724108168e-05\n",
            "[LightGBM] [Warning] feature_fraction is set=0.7439893275376619, colsample_bytree=1.0 will be ignored. Current value: feature_fraction=0.7439893275376619\n",
            "[LightGBM] [Warning] bagging_freq is set=4, subsample_freq=0 will be ignored. Current value: bagging_freq=4\n",
            "[LightGBM] [Warning] lambda_l2 is set=0.7037354818862943, reg_lambda=0.0 will be ignored. Current value: lambda_l2=0.7037354818862943\n",
            "[LightGBM] [Warning] bagging_fraction is set=0.4888358490747864, subsample=1.0 will be ignored. Current value: bagging_fraction=0.4888358490747864\n"
          ]
        },
        {
          "name": "stderr",
          "output_type": "stream",
          "text": [
            "[I 2023-07-02 18:22:25,795] Trial 19 finished with value: 0.8336538461538462 and parameters: {'lambda_l1': 1.7424349724108168e-05, 'lambda_l2': 0.7037354818862943, 'num_leaves': 85, 'feature_fraction': 0.7439893275376619, 'bagging_fraction': 0.4888358490747864, 'bagging_freq': 4, 'min_child_samples': 44}. Best is trial 13 with value: 0.8414262820512819.\n"
          ]
        },
        {
          "name": "stdout",
          "output_type": "stream",
          "text": [
            "[LightGBM] [Warning] lambda_l1 is set=1.7424349724108168e-05, reg_alpha=0.0 will be ignored. Current value: lambda_l1=1.7424349724108168e-05\n",
            "[LightGBM] [Warning] feature_fraction is set=0.7439893275376619, colsample_bytree=1.0 will be ignored. Current value: feature_fraction=0.7439893275376619\n",
            "[LightGBM] [Warning] bagging_freq is set=4, subsample_freq=0 will be ignored. Current value: bagging_freq=4\n",
            "[LightGBM] [Warning] lambda_l2 is set=0.7037354818862943, reg_lambda=0.0 will be ignored. Current value: lambda_l2=0.7037354818862943\n",
            "[LightGBM] [Warning] bagging_fraction is set=0.4888358490747864, subsample=1.0 will be ignored. Current value: bagging_fraction=0.4888358490747864\n",
            "[LightGBM] [Warning] lambda_l1 is set=0.0014487955991773246, reg_alpha=0.0 will be ignored. Current value: lambda_l1=0.0014487955991773246\n",
            "[LightGBM] [Warning] feature_fraction is set=0.9365790001735775, colsample_bytree=1.0 will be ignored. Current value: feature_fraction=0.9365790001735775\n",
            "[LightGBM] [Warning] bagging_freq is set=7, subsample_freq=0 will be ignored. Current value: bagging_freq=7\n",
            "[LightGBM] [Warning] lambda_l2 is set=1.0367867606567178, reg_lambda=0.0 will be ignored. Current value: lambda_l2=1.0367867606567178\n",
            "[LightGBM] [Warning] bagging_fraction is set=0.4491980723810127, subsample=1.0 will be ignored. Current value: bagging_fraction=0.4491980723810127\n",
            "[LightGBM] [Warning] lambda_l1 is set=0.0014487955991773246, reg_alpha=0.0 will be ignored. Current value: lambda_l1=0.0014487955991773246\n",
            "[LightGBM] [Warning] feature_fraction is set=0.9365790001735775, colsample_bytree=1.0 will be ignored. Current value: feature_fraction=0.9365790001735775\n",
            "[LightGBM] [Warning] bagging_freq is set=7, subsample_freq=0 will be ignored. Current value: bagging_freq=7\n",
            "[LightGBM] [Warning] lambda_l2 is set=1.0367867606567178, reg_lambda=0.0 will be ignored. Current value: lambda_l2=1.0367867606567178\n",
            "[LightGBM] [Warning] bagging_fraction is set=0.4491980723810127, subsample=1.0 will be ignored. Current value: bagging_fraction=0.4491980723810127\n",
            "[LightGBM] [Warning] lambda_l1 is set=0.0014487955991773246, reg_alpha=0.0 will be ignored. Current value: lambda_l1=0.0014487955991773246\n",
            "[LightGBM] [Warning] feature_fraction is set=0.9365790001735775, colsample_bytree=1.0 will be ignored. Current value: feature_fraction=0.9365790001735775\n",
            "[LightGBM] [Warning] bagging_freq is set=7, subsample_freq=0 will be ignored. Current value: bagging_freq=7\n",
            "[LightGBM] [Warning] lambda_l2 is set=1.0367867606567178, reg_lambda=0.0 will be ignored. Current value: lambda_l2=1.0367867606567178\n",
            "[LightGBM] [Warning] bagging_fraction is set=0.4491980723810127, subsample=1.0 will be ignored. Current value: bagging_fraction=0.4491980723810127\n",
            "[LightGBM] [Warning] lambda_l1 is set=0.0014487955991773246, reg_alpha=0.0 will be ignored. Current value: lambda_l1=0.0014487955991773246\n",
            "[LightGBM] [Warning] feature_fraction is set=0.9365790001735775, colsample_bytree=1.0 will be ignored. Current value: feature_fraction=0.9365790001735775\n",
            "[LightGBM] [Warning] bagging_freq is set=7, subsample_freq=0 will be ignored. Current value: bagging_freq=7\n",
            "[LightGBM] [Warning] lambda_l2 is set=1.0367867606567178, reg_lambda=0.0 will be ignored. Current value: lambda_l2=1.0367867606567178\n",
            "[LightGBM] [Warning] bagging_fraction is set=0.4491980723810127, subsample=1.0 will be ignored. Current value: bagging_fraction=0.4491980723810127\n",
            "[LightGBM] [Warning] lambda_l1 is set=0.0014487955991773246, reg_alpha=0.0 will be ignored. Current value: lambda_l1=0.0014487955991773246\n",
            "[LightGBM] [Warning] feature_fraction is set=0.9365790001735775, colsample_bytree=1.0 will be ignored. Current value: feature_fraction=0.9365790001735775\n",
            "[LightGBM] [Warning] bagging_freq is set=7, subsample_freq=0 will be ignored. Current value: bagging_freq=7\n",
            "[LightGBM] [Warning] lambda_l2 is set=1.0367867606567178, reg_lambda=0.0 will be ignored. Current value: lambda_l2=1.0367867606567178\n",
            "[LightGBM] [Warning] bagging_fraction is set=0.4491980723810127, subsample=1.0 will be ignored. Current value: bagging_fraction=0.4491980723810127\n"
          ]
        },
        {
          "name": "stderr",
          "output_type": "stream",
          "text": [
            "[I 2023-07-02 18:22:26,212] Trial 20 finished with value: 0.8391826923076924 and parameters: {'lambda_l1': 0.0014487955991773246, 'lambda_l2': 1.0367867606567178, 'num_leaves': 146, 'feature_fraction': 0.9365790001735775, 'bagging_fraction': 0.4491980723810127, 'bagging_freq': 7, 'min_child_samples': 60}. Best is trial 13 with value: 0.8414262820512819.\n"
          ]
        },
        {
          "name": "stdout",
          "output_type": "stream",
          "text": [
            "[LightGBM] [Warning] lambda_l1 is set=0.0001424436277960039, reg_alpha=0.0 will be ignored. Current value: lambda_l1=0.0001424436277960039\n",
            "[LightGBM] [Warning] feature_fraction is set=0.8653895359169564, colsample_bytree=1.0 will be ignored. Current value: feature_fraction=0.8653895359169564\n",
            "[LightGBM] [Warning] bagging_freq is set=5, subsample_freq=0 will be ignored. Current value: bagging_freq=5\n",
            "[LightGBM] [Warning] lambda_l2 is set=7.129578605685671, reg_lambda=0.0 will be ignored. Current value: lambda_l2=7.129578605685671\n",
            "[LightGBM] [Warning] bagging_fraction is set=0.409557004507903, subsample=1.0 will be ignored. Current value: bagging_fraction=0.409557004507903\n",
            "[LightGBM] [Warning] lambda_l1 is set=0.0001424436277960039, reg_alpha=0.0 will be ignored. Current value: lambda_l1=0.0001424436277960039\n",
            "[LightGBM] [Warning] feature_fraction is set=0.8653895359169564, colsample_bytree=1.0 will be ignored. Current value: feature_fraction=0.8653895359169564\n",
            "[LightGBM] [Warning] bagging_freq is set=5, subsample_freq=0 will be ignored. Current value: bagging_freq=5\n",
            "[LightGBM] [Warning] lambda_l2 is set=7.129578605685671, reg_lambda=0.0 will be ignored. Current value: lambda_l2=7.129578605685671\n",
            "[LightGBM] [Warning] bagging_fraction is set=0.409557004507903, subsample=1.0 will be ignored. Current value: bagging_fraction=0.409557004507903\n",
            "[LightGBM] [Warning] lambda_l1 is set=0.0001424436277960039, reg_alpha=0.0 will be ignored. Current value: lambda_l1=0.0001424436277960039\n",
            "[LightGBM] [Warning] feature_fraction is set=0.8653895359169564, colsample_bytree=1.0 will be ignored. Current value: feature_fraction=0.8653895359169564\n",
            "[LightGBM] [Warning] bagging_freq is set=5, subsample_freq=0 will be ignored. Current value: bagging_freq=5\n",
            "[LightGBM] [Warning] lambda_l2 is set=7.129578605685671, reg_lambda=0.0 will be ignored. Current value: lambda_l2=7.129578605685671\n",
            "[LightGBM] [Warning] bagging_fraction is set=0.409557004507903, subsample=1.0 will be ignored. Current value: bagging_fraction=0.409557004507903\n",
            "[LightGBM] [Warning] lambda_l1 is set=0.0001424436277960039, reg_alpha=0.0 will be ignored. Current value: lambda_l1=0.0001424436277960039\n",
            "[LightGBM] [Warning] feature_fraction is set=0.8653895359169564, colsample_bytree=1.0 will be ignored. Current value: feature_fraction=0.8653895359169564\n",
            "[LightGBM] [Warning] bagging_freq is set=5, subsample_freq=0 will be ignored. Current value: bagging_freq=5\n",
            "[LightGBM] [Warning] lambda_l2 is set=7.129578605685671, reg_lambda=0.0 will be ignored. Current value: lambda_l2=7.129578605685671\n",
            "[LightGBM] [Warning] bagging_fraction is set=0.409557004507903, subsample=1.0 will be ignored. Current value: bagging_fraction=0.409557004507903\n"
          ]
        },
        {
          "name": "stderr",
          "output_type": "stream",
          "text": [
            "[I 2023-07-02 18:22:26,540] Trial 21 finished with value: 0.8403846153846153 and parameters: {'lambda_l1': 0.0001424436277960039, 'lambda_l2': 7.129578605685671, 'num_leaves': 189, 'feature_fraction': 0.8653895359169564, 'bagging_fraction': 0.409557004507903, 'bagging_freq': 5, 'min_child_samples': 47}. Best is trial 13 with value: 0.8414262820512819.\n"
          ]
        },
        {
          "name": "stdout",
          "output_type": "stream",
          "text": [
            "[LightGBM] [Warning] lambda_l1 is set=0.0001424436277960039, reg_alpha=0.0 will be ignored. Current value: lambda_l1=0.0001424436277960039\n",
            "[LightGBM] [Warning] feature_fraction is set=0.8653895359169564, colsample_bytree=1.0 will be ignored. Current value: feature_fraction=0.8653895359169564\n",
            "[LightGBM] [Warning] bagging_freq is set=5, subsample_freq=0 will be ignored. Current value: bagging_freq=5\n",
            "[LightGBM] [Warning] lambda_l2 is set=7.129578605685671, reg_lambda=0.0 will be ignored. Current value: lambda_l2=7.129578605685671\n",
            "[LightGBM] [Warning] bagging_fraction is set=0.409557004507903, subsample=1.0 will be ignored. Current value: bagging_fraction=0.409557004507903\n",
            "[LightGBM] [Warning] lambda_l1 is set=0.0002724406030809483, reg_alpha=0.0 will be ignored. Current value: lambda_l1=0.0002724406030809483\n",
            "[LightGBM] [Warning] feature_fraction is set=0.8567497726157516, colsample_bytree=1.0 will be ignored. Current value: feature_fraction=0.8567497726157516\n",
            "[LightGBM] [Warning] bagging_freq is set=6, subsample_freq=0 will be ignored. Current value: bagging_freq=6\n",
            "[LightGBM] [Warning] lambda_l2 is set=7.299393985415273, reg_lambda=0.0 will be ignored. Current value: lambda_l2=7.299393985415273\n",
            "[LightGBM] [Warning] bagging_fraction is set=0.410471758490616, subsample=1.0 will be ignored. Current value: bagging_fraction=0.410471758490616\n",
            "[LightGBM] [Warning] lambda_l1 is set=0.0002724406030809483, reg_alpha=0.0 will be ignored. Current value: lambda_l1=0.0002724406030809483\n",
            "[LightGBM] [Warning] feature_fraction is set=0.8567497726157516, colsample_bytree=1.0 will be ignored. Current value: feature_fraction=0.8567497726157516\n",
            "[LightGBM] [Warning] bagging_freq is set=6, subsample_freq=0 will be ignored. Current value: bagging_freq=6\n",
            "[LightGBM] [Warning] lambda_l2 is set=7.299393985415273, reg_lambda=0.0 will be ignored. Current value: lambda_l2=7.299393985415273\n",
            "[LightGBM] [Warning] bagging_fraction is set=0.410471758490616, subsample=1.0 will be ignored. Current value: bagging_fraction=0.410471758490616\n",
            "[LightGBM] [Warning] lambda_l1 is set=0.0002724406030809483, reg_alpha=0.0 will be ignored. Current value: lambda_l1=0.0002724406030809483\n",
            "[LightGBM] [Warning] feature_fraction is set=0.8567497726157516, colsample_bytree=1.0 will be ignored. Current value: feature_fraction=0.8567497726157516\n",
            "[LightGBM] [Warning] bagging_freq is set=6, subsample_freq=0 will be ignored. Current value: bagging_freq=6\n",
            "[LightGBM] [Warning] lambda_l2 is set=7.299393985415273, reg_lambda=0.0 will be ignored. Current value: lambda_l2=7.299393985415273\n",
            "[LightGBM] [Warning] bagging_fraction is set=0.410471758490616, subsample=1.0 will be ignored. Current value: bagging_fraction=0.410471758490616\n"
          ]
        },
        {
          "name": "stderr",
          "output_type": "stream",
          "text": [
            "[I 2023-07-02 18:22:26,850] Trial 22 finished with value: 0.8362179487179487 and parameters: {'lambda_l1': 0.0002724406030809483, 'lambda_l2': 7.299393985415273, 'num_leaves': 200, 'feature_fraction': 0.8567497726157516, 'bagging_fraction': 0.410471758490616, 'bagging_freq': 6, 'min_child_samples': 56}. Best is trial 13 with value: 0.8414262820512819.\n"
          ]
        },
        {
          "name": "stdout",
          "output_type": "stream",
          "text": [
            "[LightGBM] [Warning] lambda_l1 is set=0.0002724406030809483, reg_alpha=0.0 will be ignored. Current value: lambda_l1=0.0002724406030809483\n",
            "[LightGBM] [Warning] feature_fraction is set=0.8567497726157516, colsample_bytree=1.0 will be ignored. Current value: feature_fraction=0.8567497726157516\n",
            "[LightGBM] [Warning] bagging_freq is set=6, subsample_freq=0 will be ignored. Current value: bagging_freq=6\n",
            "[LightGBM] [Warning] lambda_l2 is set=7.299393985415273, reg_lambda=0.0 will be ignored. Current value: lambda_l2=7.299393985415273\n",
            "[LightGBM] [Warning] bagging_fraction is set=0.410471758490616, subsample=1.0 will be ignored. Current value: bagging_fraction=0.410471758490616\n",
            "[LightGBM] [Warning] lambda_l1 is set=0.0002724406030809483, reg_alpha=0.0 will be ignored. Current value: lambda_l1=0.0002724406030809483\n",
            "[LightGBM] [Warning] feature_fraction is set=0.8567497726157516, colsample_bytree=1.0 will be ignored. Current value: feature_fraction=0.8567497726157516\n",
            "[LightGBM] [Warning] bagging_freq is set=6, subsample_freq=0 will be ignored. Current value: bagging_freq=6\n",
            "[LightGBM] [Warning] lambda_l2 is set=7.299393985415273, reg_lambda=0.0 will be ignored. Current value: lambda_l2=7.299393985415273\n",
            "[LightGBM] [Warning] bagging_fraction is set=0.410471758490616, subsample=1.0 will be ignored. Current value: bagging_fraction=0.410471758490616\n",
            "[LightGBM] [Warning] lambda_l1 is set=4.8832319761090594e-05, reg_alpha=0.0 will be ignored. Current value: lambda_l1=4.8832319761090594e-05\n",
            "[LightGBM] [Warning] feature_fraction is set=0.9405419716026407, colsample_bytree=1.0 will be ignored. Current value: feature_fraction=0.9405419716026407\n",
            "[LightGBM] [Warning] bagging_freq is set=5, subsample_freq=0 will be ignored. Current value: bagging_freq=5\n",
            "[LightGBM] [Warning] lambda_l2 is set=2.7020228427144355, reg_lambda=0.0 will be ignored. Current value: lambda_l2=2.7020228427144355\n",
            "[LightGBM] [Warning] bagging_fraction is set=0.48611791731922677, subsample=1.0 will be ignored. Current value: bagging_fraction=0.48611791731922677\n",
            "[LightGBM] [Warning] lambda_l1 is set=4.8832319761090594e-05, reg_alpha=0.0 will be ignored. Current value: lambda_l1=4.8832319761090594e-05\n",
            "[LightGBM] [Warning] feature_fraction is set=0.9405419716026407, colsample_bytree=1.0 will be ignored. Current value: feature_fraction=0.9405419716026407\n",
            "[LightGBM] [Warning] bagging_freq is set=5, subsample_freq=0 will be ignored. Current value: bagging_freq=5\n",
            "[LightGBM] [Warning] lambda_l2 is set=2.7020228427144355, reg_lambda=0.0 will be ignored. Current value: lambda_l2=2.7020228427144355\n",
            "[LightGBM] [Warning] bagging_fraction is set=0.48611791731922677, subsample=1.0 will be ignored. Current value: bagging_fraction=0.48611791731922677\n",
            "[LightGBM] [Warning] lambda_l1 is set=4.8832319761090594e-05, reg_alpha=0.0 will be ignored. Current value: lambda_l1=4.8832319761090594e-05\n",
            "[LightGBM] [Warning] feature_fraction is set=0.9405419716026407, colsample_bytree=1.0 will be ignored. Current value: feature_fraction=0.9405419716026407\n",
            "[LightGBM] [Warning] bagging_freq is set=5, subsample_freq=0 will be ignored. Current value: bagging_freq=5\n",
            "[LightGBM] [Warning] lambda_l2 is set=2.7020228427144355, reg_lambda=0.0 will be ignored. Current value: lambda_l2=2.7020228427144355\n",
            "[LightGBM] [Warning] bagging_fraction is set=0.48611791731922677, subsample=1.0 will be ignored. Current value: bagging_fraction=0.48611791731922677\n",
            "[LightGBM] [Warning] lambda_l1 is set=4.8832319761090594e-05, reg_alpha=0.0 will be ignored. Current value: lambda_l1=4.8832319761090594e-05\n",
            "[LightGBM] [Warning] feature_fraction is set=0.9405419716026407, colsample_bytree=1.0 will be ignored. Current value: feature_fraction=0.9405419716026407\n",
            "[LightGBM] [Warning] bagging_freq is set=5, subsample_freq=0 will be ignored. Current value: bagging_freq=5\n",
            "[LightGBM] [Warning] lambda_l2 is set=2.7020228427144355, reg_lambda=0.0 will be ignored. Current value: lambda_l2=2.7020228427144355\n",
            "[LightGBM] [Warning] bagging_fraction is set=0.48611791731922677, subsample=1.0 will be ignored. Current value: bagging_fraction=0.48611791731922677\n"
          ]
        },
        {
          "name": "stderr",
          "output_type": "stream",
          "text": [
            "[I 2023-07-02 18:22:27,238] Trial 23 finished with value: 0.8382211538461538 and parameters: {'lambda_l1': 4.8832319761090594e-05, 'lambda_l2': 2.7020228427144355, 'num_leaves': 187, 'feature_fraction': 0.9405419716026407, 'bagging_fraction': 0.48611791731922677, 'bagging_freq': 5, 'min_child_samples': 41}. Best is trial 13 with value: 0.8414262820512819.\n"
          ]
        },
        {
          "name": "stdout",
          "output_type": "stream",
          "text": [
            "[LightGBM] [Warning] lambda_l1 is set=4.8832319761090594e-05, reg_alpha=0.0 will be ignored. Current value: lambda_l1=4.8832319761090594e-05\n",
            "[LightGBM] [Warning] feature_fraction is set=0.9405419716026407, colsample_bytree=1.0 will be ignored. Current value: feature_fraction=0.9405419716026407\n",
            "[LightGBM] [Warning] bagging_freq is set=5, subsample_freq=0 will be ignored. Current value: bagging_freq=5\n",
            "[LightGBM] [Warning] lambda_l2 is set=2.7020228427144355, reg_lambda=0.0 will be ignored. Current value: lambda_l2=2.7020228427144355\n",
            "[LightGBM] [Warning] bagging_fraction is set=0.48611791731922677, subsample=1.0 will be ignored. Current value: bagging_fraction=0.48611791731922677\n",
            "[LightGBM] [Warning] lambda_l1 is set=0.009264406723218254, reg_alpha=0.0 will be ignored. Current value: lambda_l1=0.009264406723218254\n",
            "[LightGBM] [Warning] feature_fraction is set=0.8645155771649465, colsample_bytree=1.0 will be ignored. Current value: feature_fraction=0.8645155771649465\n",
            "[LightGBM] [Warning] bagging_freq is set=4, subsample_freq=0 will be ignored. Current value: bagging_freq=4\n",
            "[LightGBM] [Warning] lambda_l2 is set=9.974560572360456, reg_lambda=0.0 will be ignored. Current value: lambda_l2=9.974560572360456\n",
            "[LightGBM] [Warning] bagging_fraction is set=0.5253234454666565, subsample=1.0 will be ignored. Current value: bagging_fraction=0.5253234454666565\n",
            "[LightGBM] [Warning] lambda_l1 is set=0.009264406723218254, reg_alpha=0.0 will be ignored. Current value: lambda_l1=0.009264406723218254\n",
            "[LightGBM] [Warning] feature_fraction is set=0.8645155771649465, colsample_bytree=1.0 will be ignored. Current value: feature_fraction=0.8645155771649465\n",
            "[LightGBM] [Warning] bagging_freq is set=4, subsample_freq=0 will be ignored. Current value: bagging_freq=4\n",
            "[LightGBM] [Warning] lambda_l2 is set=9.974560572360456, reg_lambda=0.0 will be ignored. Current value: lambda_l2=9.974560572360456\n",
            "[LightGBM] [Warning] bagging_fraction is set=0.5253234454666565, subsample=1.0 will be ignored. Current value: bagging_fraction=0.5253234454666565\n",
            "[LightGBM] [Warning] lambda_l1 is set=0.009264406723218254, reg_alpha=0.0 will be ignored. Current value: lambda_l1=0.009264406723218254\n",
            "[LightGBM] [Warning] feature_fraction is set=0.8645155771649465, colsample_bytree=1.0 will be ignored. Current value: feature_fraction=0.8645155771649465\n",
            "[LightGBM] [Warning] bagging_freq is set=4, subsample_freq=0 will be ignored. Current value: bagging_freq=4\n",
            "[LightGBM] [Warning] lambda_l2 is set=9.974560572360456, reg_lambda=0.0 will be ignored. Current value: lambda_l2=9.974560572360456\n",
            "[LightGBM] [Warning] bagging_fraction is set=0.5253234454666565, subsample=1.0 will be ignored. Current value: bagging_fraction=0.5253234454666565\n",
            "[LightGBM] [Warning] lambda_l1 is set=0.009264406723218254, reg_alpha=0.0 will be ignored. Current value: lambda_l1=0.009264406723218254\n",
            "[LightGBM] [Warning] feature_fraction is set=0.8645155771649465, colsample_bytree=1.0 will be ignored. Current value: feature_fraction=0.8645155771649465\n",
            "[LightGBM] [Warning] bagging_freq is set=4, subsample_freq=0 will be ignored. Current value: bagging_freq=4\n",
            "[LightGBM] [Warning] lambda_l2 is set=9.974560572360456, reg_lambda=0.0 will be ignored. Current value: lambda_l2=9.974560572360456\n",
            "[LightGBM] [Warning] bagging_fraction is set=0.5253234454666565, subsample=1.0 will be ignored. Current value: bagging_fraction=0.5253234454666565\n",
            "[LightGBM] [Warning] lambda_l1 is set=0.009264406723218254, reg_alpha=0.0 will be ignored. Current value: lambda_l1=0.009264406723218254\n",
            "[LightGBM] [Warning] feature_fraction is set=0.8645155771649465, colsample_bytree=1.0 will be ignored. Current value: feature_fraction=0.8645155771649465\n",
            "[LightGBM] [Warning] bagging_freq is set=4, subsample_freq=0 will be ignored. Current value: bagging_freq=4\n",
            "[LightGBM] [Warning] lambda_l2 is set=9.974560572360456, reg_lambda=0.0 will be ignored. Current value: lambda_l2=9.974560572360456\n",
            "[LightGBM] [Warning] bagging_fraction is set=0.5253234454666565, subsample=1.0 will be ignored. Current value: bagging_fraction=0.5253234454666565\n"
          ]
        },
        {
          "name": "stderr",
          "output_type": "stream",
          "text": [
            "[I 2023-07-02 18:22:27,634] Trial 24 finished with value: 0.8311698717948718 and parameters: {'lambda_l1': 0.009264406723218254, 'lambda_l2': 9.974560572360456, 'num_leaves': 221, 'feature_fraction': 0.8645155771649465, 'bagging_fraction': 0.5253234454666565, 'bagging_freq': 4, 'min_child_samples': 22}. Best is trial 13 with value: 0.8414262820512819.\n"
          ]
        },
        {
          "name": "stdout",
          "output_type": "stream",
          "text": [
            "[LightGBM] [Warning] lambda_l1 is set=0.0007810130040572134, reg_alpha=0.0 will be ignored. Current value: lambda_l1=0.0007810130040572134\n",
            "[LightGBM] [Warning] feature_fraction is set=0.945339781176161, colsample_bytree=1.0 will be ignored. Current value: feature_fraction=0.945339781176161\n",
            "[LightGBM] [Warning] bagging_freq is set=6, subsample_freq=0 will be ignored. Current value: bagging_freq=6\n",
            "[LightGBM] [Warning] lambda_l2 is set=0.7455617710461794, reg_lambda=0.0 will be ignored. Current value: lambda_l2=0.7455617710461794\n",
            "[LightGBM] [Warning] bagging_fraction is set=0.4405950566554413, subsample=1.0 will be ignored. Current value: bagging_fraction=0.4405950566554413\n",
            "[LightGBM] [Warning] lambda_l1 is set=0.0007810130040572134, reg_alpha=0.0 will be ignored. Current value: lambda_l1=0.0007810130040572134\n",
            "[LightGBM] [Warning] feature_fraction is set=0.945339781176161, colsample_bytree=1.0 will be ignored. Current value: feature_fraction=0.945339781176161\n",
            "[LightGBM] [Warning] bagging_freq is set=6, subsample_freq=0 will be ignored. Current value: bagging_freq=6\n",
            "[LightGBM] [Warning] lambda_l2 is set=0.7455617710461794, reg_lambda=0.0 will be ignored. Current value: lambda_l2=0.7455617710461794\n",
            "[LightGBM] [Warning] bagging_fraction is set=0.4405950566554413, subsample=1.0 will be ignored. Current value: bagging_fraction=0.4405950566554413\n",
            "[LightGBM] [Warning] lambda_l1 is set=0.0007810130040572134, reg_alpha=0.0 will be ignored. Current value: lambda_l1=0.0007810130040572134\n",
            "[LightGBM] [Warning] feature_fraction is set=0.945339781176161, colsample_bytree=1.0 will be ignored. Current value: feature_fraction=0.945339781176161\n",
            "[LightGBM] [Warning] bagging_freq is set=6, subsample_freq=0 will be ignored. Current value: bagging_freq=6\n",
            "[LightGBM] [Warning] lambda_l2 is set=0.7455617710461794, reg_lambda=0.0 will be ignored. Current value: lambda_l2=0.7455617710461794\n",
            "[LightGBM] [Warning] bagging_fraction is set=0.4405950566554413, subsample=1.0 will be ignored. Current value: bagging_fraction=0.4405950566554413\n",
            "[LightGBM] [Warning] lambda_l1 is set=0.0007810130040572134, reg_alpha=0.0 will be ignored. Current value: lambda_l1=0.0007810130040572134\n",
            "[LightGBM] [Warning] feature_fraction is set=0.945339781176161, colsample_bytree=1.0 will be ignored. Current value: feature_fraction=0.945339781176161\n",
            "[LightGBM] [Warning] bagging_freq is set=6, subsample_freq=0 will be ignored. Current value: bagging_freq=6\n",
            "[LightGBM] [Warning] lambda_l2 is set=0.7455617710461794, reg_lambda=0.0 will be ignored. Current value: lambda_l2=0.7455617710461794\n",
            "[LightGBM] [Warning] bagging_fraction is set=0.4405950566554413, subsample=1.0 will be ignored. Current value: bagging_fraction=0.4405950566554413\n"
          ]
        },
        {
          "name": "stderr",
          "output_type": "stream",
          "text": [
            "[I 2023-07-02 18:22:27,972] Trial 25 finished with value: 0.8411858974358974 and parameters: {'lambda_l1': 0.0007810130040572134, 'lambda_l2': 0.7455617710461794, 'num_leaves': 142, 'feature_fraction': 0.945339781176161, 'bagging_fraction': 0.4405950566554413, 'bagging_freq': 6, 'min_child_samples': 76}. Best is trial 13 with value: 0.8414262820512819.\n"
          ]
        },
        {
          "name": "stdout",
          "output_type": "stream",
          "text": [
            "[LightGBM] [Warning] lambda_l1 is set=0.0007810130040572134, reg_alpha=0.0 will be ignored. Current value: lambda_l1=0.0007810130040572134\n",
            "[LightGBM] [Warning] feature_fraction is set=0.945339781176161, colsample_bytree=1.0 will be ignored. Current value: feature_fraction=0.945339781176161\n",
            "[LightGBM] [Warning] bagging_freq is set=6, subsample_freq=0 will be ignored. Current value: bagging_freq=6\n",
            "[LightGBM] [Warning] lambda_l2 is set=0.7455617710461794, reg_lambda=0.0 will be ignored. Current value: lambda_l2=0.7455617710461794\n",
            "[LightGBM] [Warning] bagging_fraction is set=0.4405950566554413, subsample=1.0 will be ignored. Current value: bagging_fraction=0.4405950566554413\n",
            "[LightGBM] [Warning] lambda_l1 is set=0.0004544915850343378, reg_alpha=0.0 will be ignored. Current value: lambda_l1=0.0004544915850343378\n",
            "[LightGBM] [Warning] feature_fraction is set=0.9995011222537744, colsample_bytree=1.0 will be ignored. Current value: feature_fraction=0.9995011222537744\n",
            "[LightGBM] [Warning] bagging_freq is set=4, subsample_freq=0 will be ignored. Current value: bagging_freq=4\n",
            "[LightGBM] [Warning] lambda_l2 is set=0.5743301881360825, reg_lambda=0.0 will be ignored. Current value: lambda_l2=0.5743301881360825\n",
            "[LightGBM] [Warning] bagging_fraction is set=0.5122892097280826, subsample=1.0 will be ignored. Current value: bagging_fraction=0.5122892097280826\n",
            "[LightGBM] [Warning] lambda_l1 is set=0.0004544915850343378, reg_alpha=0.0 will be ignored. Current value: lambda_l1=0.0004544915850343378\n",
            "[LightGBM] [Warning] feature_fraction is set=0.9995011222537744, colsample_bytree=1.0 will be ignored. Current value: feature_fraction=0.9995011222537744\n",
            "[LightGBM] [Warning] bagging_freq is set=4, subsample_freq=0 will be ignored. Current value: bagging_freq=4\n",
            "[LightGBM] [Warning] lambda_l2 is set=0.5743301881360825, reg_lambda=0.0 will be ignored. Current value: lambda_l2=0.5743301881360825\n",
            "[LightGBM] [Warning] bagging_fraction is set=0.5122892097280826, subsample=1.0 will be ignored. Current value: bagging_fraction=0.5122892097280826\n",
            "[LightGBM] [Warning] lambda_l1 is set=0.0004544915850343378, reg_alpha=0.0 will be ignored. Current value: lambda_l1=0.0004544915850343378\n",
            "[LightGBM] [Warning] feature_fraction is set=0.9995011222537744, colsample_bytree=1.0 will be ignored. Current value: feature_fraction=0.9995011222537744\n",
            "[LightGBM] [Warning] bagging_freq is set=4, subsample_freq=0 will be ignored. Current value: bagging_freq=4\n",
            "[LightGBM] [Warning] lambda_l2 is set=0.5743301881360825, reg_lambda=0.0 will be ignored. Current value: lambda_l2=0.5743301881360825\n",
            "[LightGBM] [Warning] bagging_fraction is set=0.5122892097280826, subsample=1.0 will be ignored. Current value: bagging_fraction=0.5122892097280826\n",
            "[LightGBM] [Warning] lambda_l1 is set=0.0004544915850343378, reg_alpha=0.0 will be ignored. Current value: lambda_l1=0.0004544915850343378\n",
            "[LightGBM] [Warning] feature_fraction is set=0.9995011222537744, colsample_bytree=1.0 will be ignored. Current value: feature_fraction=0.9995011222537744\n",
            "[LightGBM] [Warning] bagging_freq is set=4, subsample_freq=0 will be ignored. Current value: bagging_freq=4\n",
            "[LightGBM] [Warning] lambda_l2 is set=0.5743301881360825, reg_lambda=0.0 will be ignored. Current value: lambda_l2=0.5743301881360825\n",
            "[LightGBM] [Warning] bagging_fraction is set=0.5122892097280826, subsample=1.0 will be ignored. Current value: bagging_fraction=0.5122892097280826\n",
            "[LightGBM] [Warning] lambda_l1 is set=0.0004544915850343378, reg_alpha=0.0 will be ignored. Current value: lambda_l1=0.0004544915850343378\n",
            "[LightGBM] [Warning] feature_fraction is set=0.9995011222537744, colsample_bytree=1.0 will be ignored. Current value: feature_fraction=0.9995011222537744\n",
            "[LightGBM] [Warning] bagging_freq is set=4, subsample_freq=0 will be ignored. Current value: bagging_freq=4\n",
            "[LightGBM] [Warning] lambda_l2 is set=0.5743301881360825, reg_lambda=0.0 will be ignored. Current value: lambda_l2=0.5743301881360825\n",
            "[LightGBM] [Warning] bagging_fraction is set=0.5122892097280826, subsample=1.0 will be ignored. Current value: bagging_fraction=0.5122892097280826\n"
          ]
        },
        {
          "name": "stderr",
          "output_type": "stream",
          "text": [
            "[I 2023-07-02 18:22:28,374] Trial 26 finished with value: 0.838301282051282 and parameters: {'lambda_l1': 0.0004544915850343378, 'lambda_l2': 0.5743301881360825, 'num_leaves': 142, 'feature_fraction': 0.9995011222537744, 'bagging_fraction': 0.5122892097280826, 'bagging_freq': 4, 'min_child_samples': 84}. Best is trial 13 with value: 0.8414262820512819.\n"
          ]
        },
        {
          "name": "stdout",
          "output_type": "stream",
          "text": [
            "[LightGBM] [Warning] lambda_l1 is set=0.0019606478428812416, reg_alpha=0.0 will be ignored. Current value: lambda_l1=0.0019606478428812416\n",
            "[LightGBM] [Warning] feature_fraction is set=0.9474215279212052, colsample_bytree=1.0 will be ignored. Current value: feature_fraction=0.9474215279212052\n",
            "[LightGBM] [Warning] bagging_freq is set=5, subsample_freq=0 will be ignored. Current value: bagging_freq=5\n",
            "[LightGBM] [Warning] lambda_l2 is set=1.229977665692001, reg_lambda=0.0 will be ignored. Current value: lambda_l2=1.229977665692001\n",
            "[LightGBM] [Warning] bagging_fraction is set=0.46153464098471453, subsample=1.0 will be ignored. Current value: bagging_fraction=0.46153464098471453\n",
            "[LightGBM] [Warning] lambda_l1 is set=0.0019606478428812416, reg_alpha=0.0 will be ignored. Current value: lambda_l1=0.0019606478428812416\n",
            "[LightGBM] [Warning] feature_fraction is set=0.9474215279212052, colsample_bytree=1.0 will be ignored. Current value: feature_fraction=0.9474215279212052\n",
            "[LightGBM] [Warning] bagging_freq is set=5, subsample_freq=0 will be ignored. Current value: bagging_freq=5\n",
            "[LightGBM] [Warning] lambda_l2 is set=1.229977665692001, reg_lambda=0.0 will be ignored. Current value: lambda_l2=1.229977665692001\n",
            "[LightGBM] [Warning] bagging_fraction is set=0.46153464098471453, subsample=1.0 will be ignored. Current value: bagging_fraction=0.46153464098471453\n",
            "[LightGBM] [Warning] lambda_l1 is set=0.0019606478428812416, reg_alpha=0.0 will be ignored. Current value: lambda_l1=0.0019606478428812416\n",
            "[LightGBM] [Warning] feature_fraction is set=0.9474215279212052, colsample_bytree=1.0 will be ignored. Current value: feature_fraction=0.9474215279212052\n",
            "[LightGBM] [Warning] bagging_freq is set=5, subsample_freq=0 will be ignored. Current value: bagging_freq=5\n",
            "[LightGBM] [Warning] lambda_l2 is set=1.229977665692001, reg_lambda=0.0 will be ignored. Current value: lambda_l2=1.229977665692001\n",
            "[LightGBM] [Warning] bagging_fraction is set=0.46153464098471453, subsample=1.0 will be ignored. Current value: bagging_fraction=0.46153464098471453\n",
            "[LightGBM] [Warning] lambda_l1 is set=0.0019606478428812416, reg_alpha=0.0 will be ignored. Current value: lambda_l1=0.0019606478428812416\n",
            "[LightGBM] [Warning] feature_fraction is set=0.9474215279212052, colsample_bytree=1.0 will be ignored. Current value: feature_fraction=0.9474215279212052\n",
            "[LightGBM] [Warning] bagging_freq is set=5, subsample_freq=0 will be ignored. Current value: bagging_freq=5\n",
            "[LightGBM] [Warning] lambda_l2 is set=1.229977665692001, reg_lambda=0.0 will be ignored. Current value: lambda_l2=1.229977665692001\n",
            "[LightGBM] [Warning] bagging_fraction is set=0.46153464098471453, subsample=1.0 will be ignored. Current value: bagging_fraction=0.46153464098471453\n"
          ]
        },
        {
          "name": "stderr",
          "output_type": "stream",
          "text": [
            "[I 2023-07-02 18:22:28,680] Trial 27 finished with value: 0.8374999999999999 and parameters: {'lambda_l1': 0.0019606478428812416, 'lambda_l2': 1.229977665692001, 'num_leaves': 98, 'feature_fraction': 0.9474215279212052, 'bagging_fraction': 0.46153464098471453, 'bagging_freq': 5, 'min_child_samples': 99}. Best is trial 13 with value: 0.8414262820512819.\n"
          ]
        },
        {
          "name": "stdout",
          "output_type": "stream",
          "text": [
            "[LightGBM] [Warning] lambda_l1 is set=0.0019606478428812416, reg_alpha=0.0 will be ignored. Current value: lambda_l1=0.0019606478428812416\n",
            "[LightGBM] [Warning] feature_fraction is set=0.9474215279212052, colsample_bytree=1.0 will be ignored. Current value: feature_fraction=0.9474215279212052\n",
            "[LightGBM] [Warning] bagging_freq is set=5, subsample_freq=0 will be ignored. Current value: bagging_freq=5\n",
            "[LightGBM] [Warning] lambda_l2 is set=1.229977665692001, reg_lambda=0.0 will be ignored. Current value: lambda_l2=1.229977665692001\n",
            "[LightGBM] [Warning] bagging_fraction is set=0.46153464098471453, subsample=1.0 will be ignored. Current value: bagging_fraction=0.46153464098471453\n",
            "[LightGBM] [Warning] lambda_l1 is set=0.011786946769445866, reg_alpha=0.0 will be ignored. Current value: lambda_l1=0.011786946769445866\n",
            "[LightGBM] [Warning] feature_fraction is set=0.9482225345309397, colsample_bytree=1.0 will be ignored. Current value: feature_fraction=0.9482225345309397\n",
            "[LightGBM] [Warning] bagging_freq is set=6, subsample_freq=0 will be ignored. Current value: bagging_freq=6\n",
            "[LightGBM] [Warning] lambda_l2 is set=0.04081866702169301, reg_lambda=0.0 will be ignored. Current value: lambda_l2=0.04081866702169301\n",
            "[LightGBM] [Warning] bagging_fraction is set=0.445355112798906, subsample=1.0 will be ignored. Current value: bagging_fraction=0.445355112798906\n",
            "[LightGBM] [Warning] lambda_l1 is set=0.011786946769445866, reg_alpha=0.0 will be ignored. Current value: lambda_l1=0.011786946769445866\n",
            "[LightGBM] [Warning] feature_fraction is set=0.9482225345309397, colsample_bytree=1.0 will be ignored. Current value: feature_fraction=0.9482225345309397\n",
            "[LightGBM] [Warning] bagging_freq is set=6, subsample_freq=0 will be ignored. Current value: bagging_freq=6\n",
            "[LightGBM] [Warning] lambda_l2 is set=0.04081866702169301, reg_lambda=0.0 will be ignored. Current value: lambda_l2=0.04081866702169301\n",
            "[LightGBM] [Warning] bagging_fraction is set=0.445355112798906, subsample=1.0 will be ignored. Current value: bagging_fraction=0.445355112798906\n"
          ]
        },
        {
          "name": "stderr",
          "output_type": "stream",
          "text": [
            "[I 2023-07-02 18:22:29,040] Trial 28 finished with value: 0.838301282051282 and parameters: {'lambda_l1': 0.011786946769445866, 'lambda_l2': 0.04081866702169301, 'num_leaves': 222, 'feature_fraction': 0.9482225345309397, 'bagging_fraction': 0.445355112798906, 'bagging_freq': 6, 'min_child_samples': 74}. Best is trial 13 with value: 0.8414262820512819.\n"
          ]
        },
        {
          "name": "stdout",
          "output_type": "stream",
          "text": [
            "[LightGBM] [Warning] lambda_l1 is set=0.011786946769445866, reg_alpha=0.0 will be ignored. Current value: lambda_l1=0.011786946769445866\n",
            "[LightGBM] [Warning] feature_fraction is set=0.9482225345309397, colsample_bytree=1.0 will be ignored. Current value: feature_fraction=0.9482225345309397\n",
            "[LightGBM] [Warning] bagging_freq is set=6, subsample_freq=0 will be ignored. Current value: bagging_freq=6\n",
            "[LightGBM] [Warning] lambda_l2 is set=0.04081866702169301, reg_lambda=0.0 will be ignored. Current value: lambda_l2=0.04081866702169301\n",
            "[LightGBM] [Warning] bagging_fraction is set=0.445355112798906, subsample=1.0 will be ignored. Current value: bagging_fraction=0.445355112798906\n",
            "[LightGBM] [Warning] lambda_l1 is set=0.011786946769445866, reg_alpha=0.0 will be ignored. Current value: lambda_l1=0.011786946769445866\n",
            "[LightGBM] [Warning] feature_fraction is set=0.9482225345309397, colsample_bytree=1.0 will be ignored. Current value: feature_fraction=0.9482225345309397\n",
            "[LightGBM] [Warning] bagging_freq is set=6, subsample_freq=0 will be ignored. Current value: bagging_freq=6\n",
            "[LightGBM] [Warning] lambda_l2 is set=0.04081866702169301, reg_lambda=0.0 will be ignored. Current value: lambda_l2=0.04081866702169301\n",
            "[LightGBM] [Warning] bagging_fraction is set=0.445355112798906, subsample=1.0 will be ignored. Current value: bagging_fraction=0.445355112798906\n",
            "[LightGBM] [Warning] lambda_l1 is set=0.011786946769445866, reg_alpha=0.0 will be ignored. Current value: lambda_l1=0.011786946769445866\n",
            "[LightGBM] [Warning] feature_fraction is set=0.9482225345309397, colsample_bytree=1.0 will be ignored. Current value: feature_fraction=0.9482225345309397\n",
            "[LightGBM] [Warning] bagging_freq is set=6, subsample_freq=0 will be ignored. Current value: bagging_freq=6\n",
            "[LightGBM] [Warning] lambda_l2 is set=0.04081866702169301, reg_lambda=0.0 will be ignored. Current value: lambda_l2=0.04081866702169301\n",
            "[LightGBM] [Warning] bagging_fraction is set=0.445355112798906, subsample=1.0 will be ignored. Current value: bagging_fraction=0.445355112798906\n",
            "[LightGBM] [Warning] lambda_l1 is set=7.288426001933786e-06, reg_alpha=0.0 will be ignored. Current value: lambda_l1=7.288426001933786e-06\n",
            "[LightGBM] [Warning] feature_fraction is set=0.8363425712727285, colsample_bytree=1.0 will be ignored. Current value: feature_fraction=0.8363425712727285\n",
            "[LightGBM] [Warning] bagging_freq is set=4, subsample_freq=0 will be ignored. Current value: bagging_freq=4\n",
            "[LightGBM] [Warning] lambda_l2 is set=0.0001828134028632591, reg_lambda=0.0 will be ignored. Current value: lambda_l2=0.0001828134028632591\n",
            "[LightGBM] [Warning] bagging_fraction is set=0.45719971298676265, subsample=1.0 will be ignored. Current value: bagging_fraction=0.45719971298676265\n",
            "[LightGBM] [Warning] lambda_l1 is set=7.288426001933786e-06, reg_alpha=0.0 will be ignored. Current value: lambda_l1=7.288426001933786e-06\n",
            "[LightGBM] [Warning] feature_fraction is set=0.8363425712727285, colsample_bytree=1.0 will be ignored. Current value: feature_fraction=0.8363425712727285\n",
            "[LightGBM] [Warning] bagging_freq is set=4, subsample_freq=0 will be ignored. Current value: bagging_freq=4\n",
            "[LightGBM] [Warning] lambda_l2 is set=0.0001828134028632591, reg_lambda=0.0 will be ignored. Current value: lambda_l2=0.0001828134028632591\n",
            "[LightGBM] [Warning] bagging_fraction is set=0.45719971298676265, subsample=1.0 will be ignored. Current value: bagging_fraction=0.45719971298676265\n",
            "[LightGBM] [Warning] lambda_l1 is set=7.288426001933786e-06, reg_alpha=0.0 will be ignored. Current value: lambda_l1=7.288426001933786e-06\n",
            "[LightGBM] [Warning] feature_fraction is set=0.8363425712727285, colsample_bytree=1.0 will be ignored. Current value: feature_fraction=0.8363425712727285\n",
            "[LightGBM] [Warning] bagging_freq is set=4, subsample_freq=0 will be ignored. Current value: bagging_freq=4\n",
            "[LightGBM] [Warning] lambda_l2 is set=0.0001828134028632591, reg_lambda=0.0 will be ignored. Current value: lambda_l2=0.0001828134028632591\n",
            "[LightGBM] [Warning] bagging_fraction is set=0.45719971298676265, subsample=1.0 will be ignored. Current value: bagging_fraction=0.45719971298676265\n",
            "[LightGBM] [Warning] lambda_l1 is set=7.288426001933786e-06, reg_alpha=0.0 will be ignored. Current value: lambda_l1=7.288426001933786e-06\n",
            "[LightGBM] [Warning] feature_fraction is set=0.8363425712727285, colsample_bytree=1.0 will be ignored. Current value: feature_fraction=0.8363425712727285\n",
            "[LightGBM] [Warning] bagging_freq is set=4, subsample_freq=0 will be ignored. Current value: bagging_freq=4\n",
            "[LightGBM] [Warning] lambda_l2 is set=0.0001828134028632591, reg_lambda=0.0 will be ignored. Current value: lambda_l2=0.0001828134028632591\n",
            "[LightGBM] [Warning] bagging_fraction is set=0.45719971298676265, subsample=1.0 will be ignored. Current value: bagging_fraction=0.45719971298676265\n"
          ]
        },
        {
          "name": "stderr",
          "output_type": "stream",
          "text": [
            "[I 2023-07-02 18:22:29,401] Trial 29 finished with value: 0.838301282051282 and parameters: {'lambda_l1': 7.288426001933786e-06, 'lambda_l2': 0.0001828134028632591, 'num_leaves': 181, 'feature_fraction': 0.8363425712727285, 'bagging_fraction': 0.45719971298676265, 'bagging_freq': 4, 'min_child_samples': 86}. Best is trial 13 with value: 0.8414262820512819.\n"
          ]
        },
        {
          "name": "stdout",
          "output_type": "stream",
          "text": [
            "[LightGBM] [Warning] lambda_l1 is set=7.288426001933786e-06, reg_alpha=0.0 will be ignored. Current value: lambda_l1=7.288426001933786e-06\n",
            "[LightGBM] [Warning] feature_fraction is set=0.8363425712727285, colsample_bytree=1.0 will be ignored. Current value: feature_fraction=0.8363425712727285\n",
            "[LightGBM] [Warning] bagging_freq is set=4, subsample_freq=0 will be ignored. Current value: bagging_freq=4\n",
            "[LightGBM] [Warning] lambda_l2 is set=0.0001828134028632591, reg_lambda=0.0 will be ignored. Current value: lambda_l2=0.0001828134028632591\n",
            "[LightGBM] [Warning] bagging_fraction is set=0.45719971298676265, subsample=1.0 will be ignored. Current value: bagging_fraction=0.45719971298676265\n",
            "[LightGBM] [Warning] lambda_l1 is set=2.186647270996009e-06, reg_alpha=0.0 will be ignored. Current value: lambda_l1=2.186647270996009e-06\n",
            "[LightGBM] [Warning] feature_fraction is set=0.9195048801928385, colsample_bytree=1.0 will be ignored. Current value: feature_fraction=0.9195048801928385\n",
            "[LightGBM] [Warning] bagging_freq is set=7, subsample_freq=0 will be ignored. Current value: bagging_freq=7\n",
            "[LightGBM] [Warning] lambda_l2 is set=0.3330378090493565, reg_lambda=0.0 will be ignored. Current value: lambda_l2=0.3330378090493565\n",
            "[LightGBM] [Warning] bagging_fraction is set=0.5674313528404094, subsample=1.0 will be ignored. Current value: bagging_fraction=0.5674313528404094\n",
            "[LightGBM] [Warning] lambda_l1 is set=2.186647270996009e-06, reg_alpha=0.0 will be ignored. Current value: lambda_l1=2.186647270996009e-06\n",
            "[LightGBM] [Warning] feature_fraction is set=0.9195048801928385, colsample_bytree=1.0 will be ignored. Current value: feature_fraction=0.9195048801928385\n",
            "[LightGBM] [Warning] bagging_freq is set=7, subsample_freq=0 will be ignored. Current value: bagging_freq=7\n",
            "[LightGBM] [Warning] lambda_l2 is set=0.3330378090493565, reg_lambda=0.0 will be ignored. Current value: lambda_l2=0.3330378090493565\n",
            "[LightGBM] [Warning] bagging_fraction is set=0.5674313528404094, subsample=1.0 will be ignored. Current value: bagging_fraction=0.5674313528404094\n"
          ]
        },
        {
          "name": "stderr",
          "output_type": "stream",
          "text": [
            "[I 2023-07-02 18:22:29,762] Trial 30 finished with value: 0.8362980769230769 and parameters: {'lambda_l1': 2.186647270996009e-06, 'lambda_l2': 0.3330378090493565, 'num_leaves': 144, 'feature_fraction': 0.9195048801928385, 'bagging_fraction': 0.5674313528404094, 'bagging_freq': 7, 'min_child_samples': 92}. Best is trial 13 with value: 0.8414262820512819.\n"
          ]
        },
        {
          "name": "stdout",
          "output_type": "stream",
          "text": [
            "[LightGBM] [Warning] lambda_l1 is set=2.186647270996009e-06, reg_alpha=0.0 will be ignored. Current value: lambda_l1=2.186647270996009e-06\n",
            "[LightGBM] [Warning] feature_fraction is set=0.9195048801928385, colsample_bytree=1.0 will be ignored. Current value: feature_fraction=0.9195048801928385\n",
            "[LightGBM] [Warning] bagging_freq is set=7, subsample_freq=0 will be ignored. Current value: bagging_freq=7\n",
            "[LightGBM] [Warning] lambda_l2 is set=0.3330378090493565, reg_lambda=0.0 will be ignored. Current value: lambda_l2=0.3330378090493565\n",
            "[LightGBM] [Warning] bagging_fraction is set=0.5674313528404094, subsample=1.0 will be ignored. Current value: bagging_fraction=0.5674313528404094\n",
            "[LightGBM] [Warning] lambda_l1 is set=2.186647270996009e-06, reg_alpha=0.0 will be ignored. Current value: lambda_l1=2.186647270996009e-06\n",
            "[LightGBM] [Warning] feature_fraction is set=0.9195048801928385, colsample_bytree=1.0 will be ignored. Current value: feature_fraction=0.9195048801928385\n",
            "[LightGBM] [Warning] bagging_freq is set=7, subsample_freq=0 will be ignored. Current value: bagging_freq=7\n",
            "[LightGBM] [Warning] lambda_l2 is set=0.3330378090493565, reg_lambda=0.0 will be ignored. Current value: lambda_l2=0.3330378090493565\n",
            "[LightGBM] [Warning] bagging_fraction is set=0.5674313528404094, subsample=1.0 will be ignored. Current value: bagging_fraction=0.5674313528404094\n",
            "[LightGBM] [Warning] lambda_l1 is set=2.186647270996009e-06, reg_alpha=0.0 will be ignored. Current value: lambda_l1=2.186647270996009e-06\n",
            "[LightGBM] [Warning] feature_fraction is set=0.9195048801928385, colsample_bytree=1.0 will be ignored. Current value: feature_fraction=0.9195048801928385\n",
            "[LightGBM] [Warning] bagging_freq is set=7, subsample_freq=0 will be ignored. Current value: bagging_freq=7\n",
            "[LightGBM] [Warning] lambda_l2 is set=0.3330378090493565, reg_lambda=0.0 will be ignored. Current value: lambda_l2=0.3330378090493565\n",
            "[LightGBM] [Warning] bagging_fraction is set=0.5674313528404094, subsample=1.0 will be ignored. Current value: bagging_fraction=0.5674313528404094\n",
            "[LightGBM] [Warning] lambda_l1 is set=0.0009458753945140191, reg_alpha=0.0 will be ignored. Current value: lambda_l1=0.0009458753945140191\n",
            "[LightGBM] [Warning] feature_fraction is set=0.8852633382081532, colsample_bytree=1.0 will be ignored. Current value: feature_fraction=0.8852633382081532\n",
            "[LightGBM] [Warning] bagging_freq is set=6, subsample_freq=0 will be ignored. Current value: bagging_freq=6\n",
            "[LightGBM] [Warning] lambda_l2 is set=2.9217684480345176, reg_lambda=0.0 will be ignored. Current value: lambda_l2=2.9217684480345176\n",
            "[LightGBM] [Warning] bagging_fraction is set=0.40369258393108254, subsample=1.0 will be ignored. Current value: bagging_fraction=0.40369258393108254\n",
            "[LightGBM] [Warning] lambda_l1 is set=0.0009458753945140191, reg_alpha=0.0 will be ignored. Current value: lambda_l1=0.0009458753945140191\n",
            "[LightGBM] [Warning] feature_fraction is set=0.8852633382081532, colsample_bytree=1.0 will be ignored. Current value: feature_fraction=0.8852633382081532\n",
            "[LightGBM] [Warning] bagging_freq is set=6, subsample_freq=0 will be ignored. Current value: bagging_freq=6\n",
            "[LightGBM] [Warning] lambda_l2 is set=2.9217684480345176, reg_lambda=0.0 will be ignored. Current value: lambda_l2=2.9217684480345176\n",
            "[LightGBM] [Warning] bagging_fraction is set=0.40369258393108254, subsample=1.0 will be ignored. Current value: bagging_fraction=0.40369258393108254\n",
            "[LightGBM] [Warning] lambda_l1 is set=0.0009458753945140191, reg_alpha=0.0 will be ignored. Current value: lambda_l1=0.0009458753945140191\n",
            "[LightGBM] [Warning] feature_fraction is set=0.8852633382081532, colsample_bytree=1.0 will be ignored. Current value: feature_fraction=0.8852633382081532\n",
            "[LightGBM] [Warning] bagging_freq is set=6, subsample_freq=0 will be ignored. Current value: bagging_freq=6\n",
            "[LightGBM] [Warning] lambda_l2 is set=2.9217684480345176, reg_lambda=0.0 will be ignored. Current value: lambda_l2=2.9217684480345176\n",
            "[LightGBM] [Warning] bagging_fraction is set=0.40369258393108254, subsample=1.0 will be ignored. Current value: bagging_fraction=0.40369258393108254\n",
            "[LightGBM] [Warning] lambda_l1 is set=0.0009458753945140191, reg_alpha=0.0 will be ignored. Current value: lambda_l1=0.0009458753945140191\n",
            "[LightGBM] [Warning] feature_fraction is set=0.8852633382081532, colsample_bytree=1.0 will be ignored. Current value: feature_fraction=0.8852633382081532\n",
            "[LightGBM] [Warning] bagging_freq is set=6, subsample_freq=0 will be ignored. Current value: bagging_freq=6\n",
            "[LightGBM] [Warning] lambda_l2 is set=2.9217684480345176, reg_lambda=0.0 will be ignored. Current value: lambda_l2=2.9217684480345176\n",
            "[LightGBM] [Warning] bagging_fraction is set=0.40369258393108254, subsample=1.0 will be ignored. Current value: bagging_fraction=0.40369258393108254\n"
          ]
        },
        {
          "name": "stderr",
          "output_type": "stream",
          "text": [
            "[I 2023-07-02 18:22:30,072] Trial 31 finished with value: 0.8452724358974358 and parameters: {'lambda_l1': 0.0009458753945140191, 'lambda_l2': 2.9217684480345176, 'num_leaves': 173, 'feature_fraction': 0.8852633382081532, 'bagging_fraction': 0.40369258393108254, 'bagging_freq': 6, 'min_child_samples': 68}. Best is trial 31 with value: 0.8452724358974358.\n"
          ]
        },
        {
          "name": "stdout",
          "output_type": "stream",
          "text": [
            "[LightGBM] [Warning] lambda_l1 is set=0.0009458753945140191, reg_alpha=0.0 will be ignored. Current value: lambda_l1=0.0009458753945140191\n",
            "[LightGBM] [Warning] feature_fraction is set=0.8852633382081532, colsample_bytree=1.0 will be ignored. Current value: feature_fraction=0.8852633382081532\n",
            "[LightGBM] [Warning] bagging_freq is set=6, subsample_freq=0 will be ignored. Current value: bagging_freq=6\n",
            "[LightGBM] [Warning] lambda_l2 is set=2.9217684480345176, reg_lambda=0.0 will be ignored. Current value: lambda_l2=2.9217684480345176\n",
            "[LightGBM] [Warning] bagging_fraction is set=0.40369258393108254, subsample=1.0 will be ignored. Current value: bagging_fraction=0.40369258393108254\n",
            "[LightGBM] [Warning] lambda_l1 is set=0.0014077077699185766, reg_alpha=0.0 will be ignored. Current value: lambda_l1=0.0014077077699185766\n",
            "[LightGBM] [Warning] feature_fraction is set=0.9601360609631086, colsample_bytree=1.0 will be ignored. Current value: feature_fraction=0.9601360609631086\n",
            "[LightGBM] [Warning] bagging_freq is set=6, subsample_freq=0 will be ignored. Current value: bagging_freq=6\n",
            "[LightGBM] [Warning] lambda_l2 is set=2.5241023461442476, reg_lambda=0.0 will be ignored. Current value: lambda_l2=2.5241023461442476\n",
            "[LightGBM] [Warning] bagging_fraction is set=0.43126352650807576, subsample=1.0 will be ignored. Current value: bagging_fraction=0.43126352650807576\n",
            "[LightGBM] [Warning] lambda_l1 is set=0.0014077077699185766, reg_alpha=0.0 will be ignored. Current value: lambda_l1=0.0014077077699185766\n",
            "[LightGBM] [Warning] feature_fraction is set=0.9601360609631086, colsample_bytree=1.0 will be ignored. Current value: feature_fraction=0.9601360609631086\n",
            "[LightGBM] [Warning] bagging_freq is set=6, subsample_freq=0 will be ignored. Current value: bagging_freq=6\n",
            "[LightGBM] [Warning] lambda_l2 is set=2.5241023461442476, reg_lambda=0.0 will be ignored. Current value: lambda_l2=2.5241023461442476\n",
            "[LightGBM] [Warning] bagging_fraction is set=0.43126352650807576, subsample=1.0 will be ignored. Current value: bagging_fraction=0.43126352650807576\n"
          ]
        },
        {
          "name": "stderr",
          "output_type": "stream",
          "text": [
            "[I 2023-07-02 18:22:30,426] Trial 32 finished with value: 0.8423878205128206 and parameters: {'lambda_l1': 0.0014077077699185766, 'lambda_l2': 2.5241023461442476, 'num_leaves': 211, 'feature_fraction': 0.9601360609631086, 'bagging_fraction': 0.43126352650807576, 'bagging_freq': 6, 'min_child_samples': 78}. Best is trial 31 with value: 0.8452724358974358.\n"
          ]
        },
        {
          "name": "stdout",
          "output_type": "stream",
          "text": [
            "[LightGBM] [Warning] lambda_l1 is set=0.0014077077699185766, reg_alpha=0.0 will be ignored. Current value: lambda_l1=0.0014077077699185766\n",
            "[LightGBM] [Warning] feature_fraction is set=0.9601360609631086, colsample_bytree=1.0 will be ignored. Current value: feature_fraction=0.9601360609631086\n",
            "[LightGBM] [Warning] bagging_freq is set=6, subsample_freq=0 will be ignored. Current value: bagging_freq=6\n",
            "[LightGBM] [Warning] lambda_l2 is set=2.5241023461442476, reg_lambda=0.0 will be ignored. Current value: lambda_l2=2.5241023461442476\n",
            "[LightGBM] [Warning] bagging_fraction is set=0.43126352650807576, subsample=1.0 will be ignored. Current value: bagging_fraction=0.43126352650807576\n",
            "[LightGBM] [Warning] lambda_l1 is set=0.0014077077699185766, reg_alpha=0.0 will be ignored. Current value: lambda_l1=0.0014077077699185766\n",
            "[LightGBM] [Warning] feature_fraction is set=0.9601360609631086, colsample_bytree=1.0 will be ignored. Current value: feature_fraction=0.9601360609631086\n",
            "[LightGBM] [Warning] bagging_freq is set=6, subsample_freq=0 will be ignored. Current value: bagging_freq=6\n",
            "[LightGBM] [Warning] lambda_l2 is set=2.5241023461442476, reg_lambda=0.0 will be ignored. Current value: lambda_l2=2.5241023461442476\n",
            "[LightGBM] [Warning] bagging_fraction is set=0.43126352650807576, subsample=1.0 will be ignored. Current value: bagging_fraction=0.43126352650807576\n",
            "[LightGBM] [Warning] lambda_l1 is set=0.0014077077699185766, reg_alpha=0.0 will be ignored. Current value: lambda_l1=0.0014077077699185766\n",
            "[LightGBM] [Warning] feature_fraction is set=0.9601360609631086, colsample_bytree=1.0 will be ignored. Current value: feature_fraction=0.9601360609631086\n",
            "[LightGBM] [Warning] bagging_freq is set=6, subsample_freq=0 will be ignored. Current value: bagging_freq=6\n",
            "[LightGBM] [Warning] lambda_l2 is set=2.5241023461442476, reg_lambda=0.0 will be ignored. Current value: lambda_l2=2.5241023461442476\n",
            "[LightGBM] [Warning] bagging_fraction is set=0.43126352650807576, subsample=1.0 will be ignored. Current value: bagging_fraction=0.43126352650807576\n",
            "[LightGBM] [Warning] lambda_l1 is set=0.0013881703331041306, reg_alpha=0.0 will be ignored. Current value: lambda_l1=0.0013881703331041306\n",
            "[LightGBM] [Warning] feature_fraction is set=0.9499674595886036, colsample_bytree=1.0 will be ignored. Current value: feature_fraction=0.9499674595886036\n",
            "[LightGBM] [Warning] bagging_freq is set=6, subsample_freq=0 will be ignored. Current value: bagging_freq=6\n",
            "[LightGBM] [Warning] lambda_l2 is set=1.8660843565725849, reg_lambda=0.0 will be ignored. Current value: lambda_l2=1.8660843565725849\n",
            "[LightGBM] [Warning] bagging_fraction is set=0.44803418201433864, subsample=1.0 will be ignored. Current value: bagging_fraction=0.44803418201433864\n",
            "[LightGBM] [Warning] lambda_l1 is set=0.0013881703331041306, reg_alpha=0.0 will be ignored. Current value: lambda_l1=0.0013881703331041306\n",
            "[LightGBM] [Warning] feature_fraction is set=0.9499674595886036, colsample_bytree=1.0 will be ignored. Current value: feature_fraction=0.9499674595886036\n",
            "[LightGBM] [Warning] bagging_freq is set=6, subsample_freq=0 will be ignored. Current value: bagging_freq=6\n",
            "[LightGBM] [Warning] lambda_l2 is set=1.8660843565725849, reg_lambda=0.0 will be ignored. Current value: lambda_l2=1.8660843565725849\n",
            "[LightGBM] [Warning] bagging_fraction is set=0.44803418201433864, subsample=1.0 will be ignored. Current value: bagging_fraction=0.44803418201433864\n",
            "[LightGBM] [Warning] lambda_l1 is set=0.0013881703331041306, reg_alpha=0.0 will be ignored. Current value: lambda_l1=0.0013881703331041306\n",
            "[LightGBM] [Warning] feature_fraction is set=0.9499674595886036, colsample_bytree=1.0 will be ignored. Current value: feature_fraction=0.9499674595886036\n",
            "[LightGBM] [Warning] bagging_freq is set=6, subsample_freq=0 will be ignored. Current value: bagging_freq=6\n",
            "[LightGBM] [Warning] lambda_l2 is set=1.8660843565725849, reg_lambda=0.0 will be ignored. Current value: lambda_l2=1.8660843565725849\n",
            "[LightGBM] [Warning] bagging_fraction is set=0.44803418201433864, subsample=1.0 will be ignored. Current value: bagging_fraction=0.44803418201433864\n",
            "[LightGBM] [Warning] lambda_l1 is set=0.0013881703331041306, reg_alpha=0.0 will be ignored. Current value: lambda_l1=0.0013881703331041306\n",
            "[LightGBM] [Warning] feature_fraction is set=0.9499674595886036, colsample_bytree=1.0 will be ignored. Current value: feature_fraction=0.9499674595886036\n",
            "[LightGBM] [Warning] bagging_freq is set=6, subsample_freq=0 will be ignored. Current value: bagging_freq=6\n",
            "[LightGBM] [Warning] lambda_l2 is set=1.8660843565725849, reg_lambda=0.0 will be ignored. Current value: lambda_l2=1.8660843565725849\n",
            "[LightGBM] [Warning] bagging_fraction is set=0.44803418201433864, subsample=1.0 will be ignored. Current value: bagging_fraction=0.44803418201433864\n"
          ]
        },
        {
          "name": "stderr",
          "output_type": "stream",
          "text": [
            "[I 2023-07-02 18:22:30,756] Trial 33 finished with value: 0.8412660256410256 and parameters: {'lambda_l1': 0.0013881703331041306, 'lambda_l2': 1.8660843565725849, 'num_leaves': 217, 'feature_fraction': 0.9499674595886036, 'bagging_fraction': 0.44803418201433864, 'bagging_freq': 6, 'min_child_samples': 78}. Best is trial 31 with value: 0.8452724358974358.\n"
          ]
        },
        {
          "name": "stdout",
          "output_type": "stream",
          "text": [
            "[LightGBM] [Warning] lambda_l1 is set=0.0013881703331041306, reg_alpha=0.0 will be ignored. Current value: lambda_l1=0.0013881703331041306\n",
            "[LightGBM] [Warning] feature_fraction is set=0.9499674595886036, colsample_bytree=1.0 will be ignored. Current value: feature_fraction=0.9499674595886036\n",
            "[LightGBM] [Warning] bagging_freq is set=6, subsample_freq=0 will be ignored. Current value: bagging_freq=6\n",
            "[LightGBM] [Warning] lambda_l2 is set=1.8660843565725849, reg_lambda=0.0 will be ignored. Current value: lambda_l2=1.8660843565725849\n",
            "[LightGBM] [Warning] bagging_fraction is set=0.44803418201433864, subsample=1.0 will be ignored. Current value: bagging_fraction=0.44803418201433864\n",
            "[LightGBM] [Warning] lambda_l1 is set=0.0027750100906199196, reg_alpha=0.0 will be ignored. Current value: lambda_l1=0.0027750100906199196\n",
            "[LightGBM] [Warning] feature_fraction is set=0.9785040734865056, colsample_bytree=1.0 will be ignored. Current value: feature_fraction=0.9785040734865056\n",
            "[LightGBM] [Warning] bagging_freq is set=7, subsample_freq=0 will be ignored. Current value: bagging_freq=7\n",
            "[LightGBM] [Warning] lambda_l2 is set=2.3021741619836105, reg_lambda=0.0 will be ignored. Current value: lambda_l2=2.3021741619836105\n",
            "[LightGBM] [Warning] bagging_fraction is set=0.4981390613098301, subsample=1.0 will be ignored. Current value: bagging_fraction=0.4981390613098301\n",
            "[LightGBM] [Warning] lambda_l1 is set=0.0027750100906199196, reg_alpha=0.0 will be ignored. Current value: lambda_l1=0.0027750100906199196\n",
            "[LightGBM] [Warning] feature_fraction is set=0.9785040734865056, colsample_bytree=1.0 will be ignored. Current value: feature_fraction=0.9785040734865056\n",
            "[LightGBM] [Warning] bagging_freq is set=7, subsample_freq=0 will be ignored. Current value: bagging_freq=7\n",
            "[LightGBM] [Warning] lambda_l2 is set=2.3021741619836105, reg_lambda=0.0 will be ignored. Current value: lambda_l2=2.3021741619836105\n",
            "[LightGBM] [Warning] bagging_fraction is set=0.4981390613098301, subsample=1.0 will be ignored. Current value: bagging_fraction=0.4981390613098301\n"
          ]
        },
        {
          "name": "stderr",
          "output_type": "stream",
          "text": [
            "[I 2023-07-02 18:22:31,100] Trial 34 finished with value: 0.8403846153846153 and parameters: {'lambda_l1': 0.0027750100906199196, 'lambda_l2': 2.3021741619836105, 'num_leaves': 234, 'feature_fraction': 0.9785040734865056, 'bagging_fraction': 0.4981390613098301, 'bagging_freq': 7, 'min_child_samples': 66}. Best is trial 31 with value: 0.8452724358974358.\n"
          ]
        },
        {
          "name": "stdout",
          "output_type": "stream",
          "text": [
            "[LightGBM] [Warning] lambda_l1 is set=0.0027750100906199196, reg_alpha=0.0 will be ignored. Current value: lambda_l1=0.0027750100906199196\n",
            "[LightGBM] [Warning] feature_fraction is set=0.9785040734865056, colsample_bytree=1.0 will be ignored. Current value: feature_fraction=0.9785040734865056\n",
            "[LightGBM] [Warning] bagging_freq is set=7, subsample_freq=0 will be ignored. Current value: bagging_freq=7\n",
            "[LightGBM] [Warning] lambda_l2 is set=2.3021741619836105, reg_lambda=0.0 will be ignored. Current value: lambda_l2=2.3021741619836105\n",
            "[LightGBM] [Warning] bagging_fraction is set=0.4981390613098301, subsample=1.0 will be ignored. Current value: bagging_fraction=0.4981390613098301\n",
            "[LightGBM] [Warning] lambda_l1 is set=0.0027750100906199196, reg_alpha=0.0 will be ignored. Current value: lambda_l1=0.0027750100906199196\n",
            "[LightGBM] [Warning] feature_fraction is set=0.9785040734865056, colsample_bytree=1.0 will be ignored. Current value: feature_fraction=0.9785040734865056\n",
            "[LightGBM] [Warning] bagging_freq is set=7, subsample_freq=0 will be ignored. Current value: bagging_freq=7\n",
            "[LightGBM] [Warning] lambda_l2 is set=2.3021741619836105, reg_lambda=0.0 will be ignored. Current value: lambda_l2=2.3021741619836105\n",
            "[LightGBM] [Warning] bagging_fraction is set=0.4981390613098301, subsample=1.0 will be ignored. Current value: bagging_fraction=0.4981390613098301\n",
            "[LightGBM] [Warning] lambda_l1 is set=0.0027750100906199196, reg_alpha=0.0 will be ignored. Current value: lambda_l1=0.0027750100906199196\n",
            "[LightGBM] [Warning] feature_fraction is set=0.9785040734865056, colsample_bytree=1.0 will be ignored. Current value: feature_fraction=0.9785040734865056\n",
            "[LightGBM] [Warning] bagging_freq is set=7, subsample_freq=0 will be ignored. Current value: bagging_freq=7\n",
            "[LightGBM] [Warning] lambda_l2 is set=2.3021741619836105, reg_lambda=0.0 will be ignored. Current value: lambda_l2=2.3021741619836105\n",
            "[LightGBM] [Warning] bagging_fraction is set=0.4981390613098301, subsample=1.0 will be ignored. Current value: bagging_fraction=0.4981390613098301\n",
            "[LightGBM] [Warning] lambda_l1 is set=0.01923446340760606, reg_alpha=0.0 will be ignored. Current value: lambda_l1=0.01923446340760606\n",
            "[LightGBM] [Warning] feature_fraction is set=0.8069895953422113, colsample_bytree=1.0 will be ignored. Current value: feature_fraction=0.8069895953422113\n",
            "[LightGBM] [Warning] bagging_freq is set=6, subsample_freq=0 will be ignored. Current value: bagging_freq=6\n",
            "[LightGBM] [Warning] lambda_l2 is set=0.019388424082922368, reg_lambda=0.0 will be ignored. Current value: lambda_l2=0.019388424082922368\n",
            "[LightGBM] [Warning] bagging_fraction is set=0.4468950394748542, subsample=1.0 will be ignored. Current value: bagging_fraction=0.4468950394748542\n",
            "[LightGBM] [Warning] lambda_l1 is set=0.01923446340760606, reg_alpha=0.0 will be ignored. Current value: lambda_l1=0.01923446340760606\n",
            "[LightGBM] [Warning] feature_fraction is set=0.8069895953422113, colsample_bytree=1.0 will be ignored. Current value: feature_fraction=0.8069895953422113\n",
            "[LightGBM] [Warning] bagging_freq is set=6, subsample_freq=0 will be ignored. Current value: bagging_freq=6\n",
            "[LightGBM] [Warning] lambda_l2 is set=0.019388424082922368, reg_lambda=0.0 will be ignored. Current value: lambda_l2=0.019388424082922368\n",
            "[LightGBM] [Warning] bagging_fraction is set=0.4468950394748542, subsample=1.0 will be ignored. Current value: bagging_fraction=0.4468950394748542\n",
            "[LightGBM] [Warning] lambda_l1 is set=0.01923446340760606, reg_alpha=0.0 will be ignored. Current value: lambda_l1=0.01923446340760606\n",
            "[LightGBM] [Warning] feature_fraction is set=0.8069895953422113, colsample_bytree=1.0 will be ignored. Current value: feature_fraction=0.8069895953422113\n",
            "[LightGBM] [Warning] bagging_freq is set=6, subsample_freq=0 will be ignored. Current value: bagging_freq=6\n",
            "[LightGBM] [Warning] lambda_l2 is set=0.019388424082922368, reg_lambda=0.0 will be ignored. Current value: lambda_l2=0.019388424082922368\n",
            "[LightGBM] [Warning] bagging_fraction is set=0.4468950394748542, subsample=1.0 will be ignored. Current value: bagging_fraction=0.4468950394748542\n"
          ]
        },
        {
          "name": "stderr",
          "output_type": "stream",
          "text": [
            "[I 2023-07-02 18:22:31,545] Trial 35 finished with value: 0.8360576923076923 and parameters: {'lambda_l1': 0.01923446340760606, 'lambda_l2': 0.019388424082922368, 'num_leaves': 206, 'feature_fraction': 0.8069895953422113, 'bagging_fraction': 0.4468950394748542, 'bagging_freq': 6, 'min_child_samples': 80}. Best is trial 31 with value: 0.8452724358974358.\n"
          ]
        },
        {
          "name": "stdout",
          "output_type": "stream",
          "text": [
            "[LightGBM] [Warning] lambda_l1 is set=0.01923446340760606, reg_alpha=0.0 will be ignored. Current value: lambda_l1=0.01923446340760606\n",
            "[LightGBM] [Warning] feature_fraction is set=0.8069895953422113, colsample_bytree=1.0 will be ignored. Current value: feature_fraction=0.8069895953422113\n",
            "[LightGBM] [Warning] bagging_freq is set=6, subsample_freq=0 will be ignored. Current value: bagging_freq=6\n",
            "[LightGBM] [Warning] lambda_l2 is set=0.019388424082922368, reg_lambda=0.0 will be ignored. Current value: lambda_l2=0.019388424082922368\n",
            "[LightGBM] [Warning] bagging_fraction is set=0.4468950394748542, subsample=1.0 will be ignored. Current value: bagging_fraction=0.4468950394748542\n",
            "[LightGBM] [Warning] lambda_l1 is set=0.01923446340760606, reg_alpha=0.0 will be ignored. Current value: lambda_l1=0.01923446340760606\n",
            "[LightGBM] [Warning] feature_fraction is set=0.8069895953422113, colsample_bytree=1.0 will be ignored. Current value: feature_fraction=0.8069895953422113\n",
            "[LightGBM] [Warning] bagging_freq is set=6, subsample_freq=0 will be ignored. Current value: bagging_freq=6\n",
            "[LightGBM] [Warning] lambda_l2 is set=0.019388424082922368, reg_lambda=0.0 will be ignored. Current value: lambda_l2=0.019388424082922368\n",
            "[LightGBM] [Warning] bagging_fraction is set=0.4468950394748542, subsample=1.0 will be ignored. Current value: bagging_fraction=0.4468950394748542\n",
            "[LightGBM] [Warning] lambda_l1 is set=0.02705861819281889, reg_alpha=0.0 will be ignored. Current value: lambda_l1=0.02705861819281889\n",
            "[LightGBM] [Warning] feature_fraction is set=0.9628405748118931, colsample_bytree=1.0 will be ignored. Current value: feature_fraction=0.9628405748118931\n",
            "[LightGBM] [Warning] bagging_freq is set=6, subsample_freq=0 will be ignored. Current value: bagging_freq=6\n",
            "[LightGBM] [Warning] lambda_l2 is set=0.2472700417354713, reg_lambda=0.0 will be ignored. Current value: lambda_l2=0.2472700417354713\n",
            "[LightGBM] [Warning] bagging_fraction is set=0.5156951935134163, subsample=1.0 will be ignored. Current value: bagging_fraction=0.5156951935134163\n",
            "[LightGBM] [Warning] lambda_l1 is set=0.02705861819281889, reg_alpha=0.0 will be ignored. Current value: lambda_l1=0.02705861819281889\n",
            "[LightGBM] [Warning] feature_fraction is set=0.9628405748118931, colsample_bytree=1.0 will be ignored. Current value: feature_fraction=0.9628405748118931\n",
            "[LightGBM] [Warning] bagging_freq is set=6, subsample_freq=0 will be ignored. Current value: bagging_freq=6\n",
            "[LightGBM] [Warning] lambda_l2 is set=0.2472700417354713, reg_lambda=0.0 will be ignored. Current value: lambda_l2=0.2472700417354713\n",
            "[LightGBM] [Warning] bagging_fraction is set=0.5156951935134163, subsample=1.0 will be ignored. Current value: bagging_fraction=0.5156951935134163\n",
            "[LightGBM] [Warning] lambda_l1 is set=0.02705861819281889, reg_alpha=0.0 will be ignored. Current value: lambda_l1=0.02705861819281889\n",
            "[LightGBM] [Warning] feature_fraction is set=0.9628405748118931, colsample_bytree=1.0 will be ignored. Current value: feature_fraction=0.9628405748118931\n",
            "[LightGBM] [Warning] bagging_freq is set=6, subsample_freq=0 will be ignored. Current value: bagging_freq=6\n",
            "[LightGBM] [Warning] lambda_l2 is set=0.2472700417354713, reg_lambda=0.0 will be ignored. Current value: lambda_l2=0.2472700417354713\n",
            "[LightGBM] [Warning] bagging_fraction is set=0.5156951935134163, subsample=1.0 will be ignored. Current value: bagging_fraction=0.5156951935134163\n",
            "[LightGBM] [Warning] lambda_l1 is set=0.02705861819281889, reg_alpha=0.0 will be ignored. Current value: lambda_l1=0.02705861819281889\n",
            "[LightGBM] [Warning] feature_fraction is set=0.9628405748118931, colsample_bytree=1.0 will be ignored. Current value: feature_fraction=0.9628405748118931\n",
            "[LightGBM] [Warning] bagging_freq is set=6, subsample_freq=0 will be ignored. Current value: bagging_freq=6\n",
            "[LightGBM] [Warning] lambda_l2 is set=0.2472700417354713, reg_lambda=0.0 will be ignored. Current value: lambda_l2=0.2472700417354713\n",
            "[LightGBM] [Warning] bagging_fraction is set=0.5156951935134163, subsample=1.0 will be ignored. Current value: bagging_fraction=0.5156951935134163\n"
          ]
        },
        {
          "name": "stderr",
          "output_type": "stream",
          "text": [
            "[I 2023-07-02 18:22:31,956] Trial 36 finished with value: 0.8391025641025642 and parameters: {'lambda_l1': 0.02705861819281889, 'lambda_l2': 0.2472700417354713, 'num_leaves': 239, 'feature_fraction': 0.9628405748118931, 'bagging_fraction': 0.5156951935134163, 'bagging_freq': 6, 'min_child_samples': 68}. Best is trial 31 with value: 0.8452724358974358.\n"
          ]
        },
        {
          "name": "stdout",
          "output_type": "stream",
          "text": [
            "[LightGBM] [Warning] lambda_l1 is set=0.02705861819281889, reg_alpha=0.0 will be ignored. Current value: lambda_l1=0.02705861819281889\n",
            "[LightGBM] [Warning] feature_fraction is set=0.9628405748118931, colsample_bytree=1.0 will be ignored. Current value: feature_fraction=0.9628405748118931\n",
            "[LightGBM] [Warning] bagging_freq is set=6, subsample_freq=0 will be ignored. Current value: bagging_freq=6\n",
            "[LightGBM] [Warning] lambda_l2 is set=0.2472700417354713, reg_lambda=0.0 will be ignored. Current value: lambda_l2=0.2472700417354713\n",
            "[LightGBM] [Warning] bagging_fraction is set=0.5156951935134163, subsample=1.0 will be ignored. Current value: bagging_fraction=0.5156951935134163\n",
            "[LightGBM] [Warning] lambda_l1 is set=0.0008940657200824688, reg_alpha=0.0 will be ignored. Current value: lambda_l1=0.0008940657200824688\n",
            "[LightGBM] [Warning] feature_fraction is set=0.9996325362367464, colsample_bytree=1.0 will be ignored. Current value: feature_fraction=0.9996325362367464\n",
            "[LightGBM] [Warning] bagging_freq is set=5, subsample_freq=0 will be ignored. Current value: bagging_freq=5\n",
            "[LightGBM] [Warning] lambda_l2 is set=2.372830621766276, reg_lambda=0.0 will be ignored. Current value: lambda_l2=2.372830621766276\n",
            "[LightGBM] [Warning] bagging_fraction is set=0.5516440138973907, subsample=1.0 will be ignored. Current value: bagging_fraction=0.5516440138973907\n",
            "[LightGBM] [Warning] lambda_l1 is set=0.0008940657200824688, reg_alpha=0.0 will be ignored. Current value: lambda_l1=0.0008940657200824688\n",
            "[LightGBM] [Warning] feature_fraction is set=0.9996325362367464, colsample_bytree=1.0 will be ignored. Current value: feature_fraction=0.9996325362367464\n",
            "[LightGBM] [Warning] bagging_freq is set=5, subsample_freq=0 will be ignored. Current value: bagging_freq=5\n",
            "[LightGBM] [Warning] lambda_l2 is set=2.372830621766276, reg_lambda=0.0 will be ignored. Current value: lambda_l2=2.372830621766276\n",
            "[LightGBM] [Warning] bagging_fraction is set=0.5516440138973907, subsample=1.0 will be ignored. Current value: bagging_fraction=0.5516440138973907\n",
            "[LightGBM] [Warning] lambda_l1 is set=0.0008940657200824688, reg_alpha=0.0 will be ignored. Current value: lambda_l1=0.0008940657200824688\n",
            "[LightGBM] [Warning] feature_fraction is set=0.9996325362367464, colsample_bytree=1.0 will be ignored. Current value: feature_fraction=0.9996325362367464\n",
            "[LightGBM] [Warning] bagging_freq is set=5, subsample_freq=0 will be ignored. Current value: bagging_freq=5\n",
            "[LightGBM] [Warning] lambda_l2 is set=2.372830621766276, reg_lambda=0.0 will be ignored. Current value: lambda_l2=2.372830621766276\n",
            "[LightGBM] [Warning] bagging_fraction is set=0.5516440138973907, subsample=1.0 will be ignored. Current value: bagging_fraction=0.5516440138973907\n",
            "[LightGBM] [Warning] lambda_l1 is set=0.0008940657200824688, reg_alpha=0.0 will be ignored. Current value: lambda_l1=0.0008940657200824688\n",
            "[LightGBM] [Warning] feature_fraction is set=0.9996325362367464, colsample_bytree=1.0 will be ignored. Current value: feature_fraction=0.9996325362367464\n",
            "[LightGBM] [Warning] bagging_freq is set=5, subsample_freq=0 will be ignored. Current value: bagging_freq=5\n",
            "[LightGBM] [Warning] lambda_l2 is set=2.372830621766276, reg_lambda=0.0 will be ignored. Current value: lambda_l2=2.372830621766276\n",
            "[LightGBM] [Warning] bagging_fraction is set=0.5516440138973907, subsample=1.0 will be ignored. Current value: bagging_fraction=0.5516440138973907\n",
            "[LightGBM] [Warning] lambda_l1 is set=0.0008940657200824688, reg_alpha=0.0 will be ignored. Current value: lambda_l1=0.0008940657200824688\n",
            "[LightGBM] [Warning] feature_fraction is set=0.9996325362367464, colsample_bytree=1.0 will be ignored. Current value: feature_fraction=0.9996325362367464\n",
            "[LightGBM] [Warning] bagging_freq is set=5, subsample_freq=0 will be ignored. Current value: bagging_freq=5\n",
            "[LightGBM] [Warning] lambda_l2 is set=2.372830621766276, reg_lambda=0.0 will be ignored. Current value: lambda_l2=2.372830621766276\n",
            "[LightGBM] [Warning] bagging_fraction is set=0.5516440138973907, subsample=1.0 will be ignored. Current value: bagging_fraction=0.5516440138973907\n"
          ]
        },
        {
          "name": "stderr",
          "output_type": "stream",
          "text": [
            "[I 2023-07-02 18:22:32,363] Trial 37 finished with value: 0.8374198717948718 and parameters: {'lambda_l1': 0.0008940657200824688, 'lambda_l2': 2.372830621766276, 'num_leaves': 212, 'feature_fraction': 0.9996325362367464, 'bagging_fraction': 0.5516440138973907, 'bagging_freq': 5, 'min_child_samples': 79}. Best is trial 31 with value: 0.8452724358974358.\n"
          ]
        },
        {
          "name": "stdout",
          "output_type": "stream",
          "text": [
            "[LightGBM] [Warning] lambda_l1 is set=0.09637070516759122, reg_alpha=0.0 will be ignored. Current value: lambda_l1=0.09637070516759122\n",
            "[LightGBM] [Warning] feature_fraction is set=0.9241321145685856, colsample_bytree=1.0 will be ignored. Current value: feature_fraction=0.9241321145685856\n",
            "[LightGBM] [Warning] bagging_freq is set=7, subsample_freq=0 will be ignored. Current value: bagging_freq=7\n",
            "[LightGBM] [Warning] lambda_l2 is set=0.09091167564007412, reg_lambda=0.0 will be ignored. Current value: lambda_l2=0.09091167564007412\n",
            "[LightGBM] [Warning] bagging_fraction is set=0.4679409563707631, subsample=1.0 will be ignored. Current value: bagging_fraction=0.4679409563707631\n",
            "[LightGBM] [Warning] lambda_l1 is set=0.09637070516759122, reg_alpha=0.0 will be ignored. Current value: lambda_l1=0.09637070516759122\n",
            "[LightGBM] [Warning] feature_fraction is set=0.9241321145685856, colsample_bytree=1.0 will be ignored. Current value: feature_fraction=0.9241321145685856\n",
            "[LightGBM] [Warning] bagging_freq is set=7, subsample_freq=0 will be ignored. Current value: bagging_freq=7\n",
            "[LightGBM] [Warning] lambda_l2 is set=0.09091167564007412, reg_lambda=0.0 will be ignored. Current value: lambda_l2=0.09091167564007412\n",
            "[LightGBM] [Warning] bagging_fraction is set=0.4679409563707631, subsample=1.0 will be ignored. Current value: bagging_fraction=0.4679409563707631\n",
            "[LightGBM] [Warning] lambda_l1 is set=0.09637070516759122, reg_alpha=0.0 will be ignored. Current value: lambda_l1=0.09637070516759122\n",
            "[LightGBM] [Warning] feature_fraction is set=0.9241321145685856, colsample_bytree=1.0 will be ignored. Current value: feature_fraction=0.9241321145685856\n",
            "[LightGBM] [Warning] bagging_freq is set=7, subsample_freq=0 will be ignored. Current value: bagging_freq=7\n",
            "[LightGBM] [Warning] lambda_l2 is set=0.09091167564007412, reg_lambda=0.0 will be ignored. Current value: lambda_l2=0.09091167564007412\n",
            "[LightGBM] [Warning] bagging_fraction is set=0.4679409563707631, subsample=1.0 will be ignored. Current value: bagging_fraction=0.4679409563707631\n",
            "[LightGBM] [Warning] lambda_l1 is set=0.09637070516759122, reg_alpha=0.0 will be ignored. Current value: lambda_l1=0.09637070516759122\n",
            "[LightGBM] [Warning] feature_fraction is set=0.9241321145685856, colsample_bytree=1.0 will be ignored. Current value: feature_fraction=0.9241321145685856\n",
            "[LightGBM] [Warning] bagging_freq is set=7, subsample_freq=0 will be ignored. Current value: bagging_freq=7\n",
            "[LightGBM] [Warning] lambda_l2 is set=0.09091167564007412, reg_lambda=0.0 will be ignored. Current value: lambda_l2=0.09091167564007412\n",
            "[LightGBM] [Warning] bagging_fraction is set=0.4679409563707631, subsample=1.0 will be ignored. Current value: bagging_fraction=0.4679409563707631\n"
          ]
        },
        {
          "name": "stderr",
          "output_type": "stream",
          "text": [
            "[I 2023-07-02 18:22:32,709] Trial 38 finished with value: 0.8393429487179487 and parameters: {'lambda_l1': 0.09637070516759122, 'lambda_l2': 0.09091167564007412, 'num_leaves': 180, 'feature_fraction': 0.9241321145685856, 'bagging_fraction': 0.4679409563707631, 'bagging_freq': 7, 'min_child_samples': 92}. Best is trial 31 with value: 0.8452724358974358.\n"
          ]
        },
        {
          "name": "stdout",
          "output_type": "stream",
          "text": [
            "[LightGBM] [Warning] lambda_l1 is set=0.09637070516759122, reg_alpha=0.0 will be ignored. Current value: lambda_l1=0.09637070516759122\n",
            "[LightGBM] [Warning] feature_fraction is set=0.9241321145685856, colsample_bytree=1.0 will be ignored. Current value: feature_fraction=0.9241321145685856\n",
            "[LightGBM] [Warning] bagging_freq is set=7, subsample_freq=0 will be ignored. Current value: bagging_freq=7\n",
            "[LightGBM] [Warning] lambda_l2 is set=0.09091167564007412, reg_lambda=0.0 will be ignored. Current value: lambda_l2=0.09091167564007412\n",
            "[LightGBM] [Warning] bagging_fraction is set=0.4679409563707631, subsample=1.0 will be ignored. Current value: bagging_fraction=0.4679409563707631\n",
            "[LightGBM] [Warning] lambda_l1 is set=0.0042676119647380205, reg_alpha=0.0 will be ignored. Current value: lambda_l1=0.0042676119647380205\n",
            "[LightGBM] [Warning] feature_fraction is set=0.8797712423115982, colsample_bytree=1.0 will be ignored. Current value: feature_fraction=0.8797712423115982\n",
            "[LightGBM] [Warning] bagging_freq is set=6, subsample_freq=0 will be ignored. Current value: bagging_freq=6\n",
            "[LightGBM] [Warning] lambda_l2 is set=2.1897483750882545, reg_lambda=0.0 will be ignored. Current value: lambda_l2=2.1897483750882545\n",
            "[LightGBM] [Warning] bagging_fraction is set=0.6022327801995937, subsample=1.0 will be ignored. Current value: bagging_fraction=0.6022327801995937\n",
            "[LightGBM] [Warning] lambda_l1 is set=0.0042676119647380205, reg_alpha=0.0 will be ignored. Current value: lambda_l1=0.0042676119647380205\n",
            "[LightGBM] [Warning] feature_fraction is set=0.8797712423115982, colsample_bytree=1.0 will be ignored. Current value: feature_fraction=0.8797712423115982\n",
            "[LightGBM] [Warning] bagging_freq is set=6, subsample_freq=0 will be ignored. Current value: bagging_freq=6\n",
            "[LightGBM] [Warning] lambda_l2 is set=2.1897483750882545, reg_lambda=0.0 will be ignored. Current value: lambda_l2=2.1897483750882545\n",
            "[LightGBM] [Warning] bagging_fraction is set=0.6022327801995937, subsample=1.0 will be ignored. Current value: bagging_fraction=0.6022327801995937\n",
            "[LightGBM] [Warning] lambda_l1 is set=0.0042676119647380205, reg_alpha=0.0 will be ignored. Current value: lambda_l1=0.0042676119647380205\n",
            "[LightGBM] [Warning] feature_fraction is set=0.8797712423115982, colsample_bytree=1.0 will be ignored. Current value: feature_fraction=0.8797712423115982\n",
            "[LightGBM] [Warning] bagging_freq is set=6, subsample_freq=0 will be ignored. Current value: bagging_freq=6\n",
            "[LightGBM] [Warning] lambda_l2 is set=2.1897483750882545, reg_lambda=0.0 will be ignored. Current value: lambda_l2=2.1897483750882545\n",
            "[LightGBM] [Warning] bagging_fraction is set=0.6022327801995937, subsample=1.0 will be ignored. Current value: bagging_fraction=0.6022327801995937\n",
            "[LightGBM] [Warning] lambda_l1 is set=0.0042676119647380205, reg_alpha=0.0 will be ignored. Current value: lambda_l1=0.0042676119647380205\n",
            "[LightGBM] [Warning] feature_fraction is set=0.8797712423115982, colsample_bytree=1.0 will be ignored. Current value: feature_fraction=0.8797712423115982\n",
            "[LightGBM] [Warning] bagging_freq is set=6, subsample_freq=0 will be ignored. Current value: bagging_freq=6\n",
            "[LightGBM] [Warning] lambda_l2 is set=2.1897483750882545, reg_lambda=0.0 will be ignored. Current value: lambda_l2=2.1897483750882545\n",
            "[LightGBM] [Warning] bagging_fraction is set=0.6022327801995937, subsample=1.0 will be ignored. Current value: bagging_fraction=0.6022327801995937\n",
            "[LightGBM] [Warning] lambda_l1 is set=0.0042676119647380205, reg_alpha=0.0 will be ignored. Current value: lambda_l1=0.0042676119647380205\n",
            "[LightGBM] [Warning] feature_fraction is set=0.8797712423115982, colsample_bytree=1.0 will be ignored. Current value: feature_fraction=0.8797712423115982\n",
            "[LightGBM] [Warning] bagging_freq is set=6, subsample_freq=0 will be ignored. Current value: bagging_freq=6\n",
            "[LightGBM] [Warning] lambda_l2 is set=2.1897483750882545, reg_lambda=0.0 will be ignored. Current value: lambda_l2=2.1897483750882545\n",
            "[LightGBM] [Warning] bagging_fraction is set=0.6022327801995937, subsample=1.0 will be ignored. Current value: bagging_fraction=0.6022327801995937\n"
          ]
        },
        {
          "name": "stderr",
          "output_type": "stream",
          "text": [
            "[I 2023-07-02 18:22:33,112] Trial 39 finished with value: 0.8371794871794872 and parameters: {'lambda_l1': 0.0042676119647380205, 'lambda_l2': 2.1897483750882545, 'num_leaves': 244, 'feature_fraction': 0.8797712423115982, 'bagging_fraction': 0.6022327801995937, 'bagging_freq': 6, 'min_child_samples': 58}. Best is trial 31 with value: 0.8452724358974358.\n"
          ]
        },
        {
          "name": "stdout",
          "output_type": "stream",
          "text": [
            "[LightGBM] [Warning] lambda_l1 is set=0.06265480727726606, reg_alpha=0.0 will be ignored. Current value: lambda_l1=0.06265480727726606\n",
            "[LightGBM] [Warning] feature_fraction is set=0.9181270085295059, colsample_bytree=1.0 will be ignored. Current value: feature_fraction=0.9181270085295059\n",
            "[LightGBM] [Warning] bagging_freq is set=3, subsample_freq=0 will be ignored. Current value: bagging_freq=3\n",
            "[LightGBM] [Warning] lambda_l2 is set=0.4844609851167957, reg_lambda=0.0 will be ignored. Current value: lambda_l2=0.4844609851167957\n",
            "[LightGBM] [Warning] bagging_fraction is set=0.5342573906388091, subsample=1.0 will be ignored. Current value: bagging_fraction=0.5342573906388091\n",
            "[LightGBM] [Warning] lambda_l1 is set=0.06265480727726606, reg_alpha=0.0 will be ignored. Current value: lambda_l1=0.06265480727726606\n",
            "[LightGBM] [Warning] feature_fraction is set=0.9181270085295059, colsample_bytree=1.0 will be ignored. Current value: feature_fraction=0.9181270085295059\n",
            "[LightGBM] [Warning] bagging_freq is set=3, subsample_freq=0 will be ignored. Current value: bagging_freq=3\n",
            "[LightGBM] [Warning] lambda_l2 is set=0.4844609851167957, reg_lambda=0.0 will be ignored. Current value: lambda_l2=0.4844609851167957\n",
            "[LightGBM] [Warning] bagging_fraction is set=0.5342573906388091, subsample=1.0 will be ignored. Current value: bagging_fraction=0.5342573906388091\n",
            "[LightGBM] [Warning] lambda_l1 is set=0.06265480727726606, reg_alpha=0.0 will be ignored. Current value: lambda_l1=0.06265480727726606\n",
            "[LightGBM] [Warning] feature_fraction is set=0.9181270085295059, colsample_bytree=1.0 will be ignored. Current value: feature_fraction=0.9181270085295059\n",
            "[LightGBM] [Warning] bagging_freq is set=3, subsample_freq=0 will be ignored. Current value: bagging_freq=3\n",
            "[LightGBM] [Warning] lambda_l2 is set=0.4844609851167957, reg_lambda=0.0 will be ignored. Current value: lambda_l2=0.4844609851167957\n",
            "[LightGBM] [Warning] bagging_fraction is set=0.5342573906388091, subsample=1.0 will be ignored. Current value: bagging_fraction=0.5342573906388091\n"
          ]
        },
        {
          "name": "stderr",
          "output_type": "stream",
          "text": [
            "[I 2023-07-02 18:22:33,484] Trial 40 finished with value: 0.8349358974358975 and parameters: {'lambda_l1': 0.06265480727726606, 'lambda_l2': 0.4844609851167957, 'num_leaves': 213, 'feature_fraction': 0.9181270085295059, 'bagging_fraction': 0.5342573906388091, 'bagging_freq': 3, 'min_child_samples': 88}. Best is trial 31 with value: 0.8452724358974358.\n"
          ]
        },
        {
          "name": "stdout",
          "output_type": "stream",
          "text": [
            "[LightGBM] [Warning] lambda_l1 is set=0.06265480727726606, reg_alpha=0.0 will be ignored. Current value: lambda_l1=0.06265480727726606\n",
            "[LightGBM] [Warning] feature_fraction is set=0.9181270085295059, colsample_bytree=1.0 will be ignored. Current value: feature_fraction=0.9181270085295059\n",
            "[LightGBM] [Warning] bagging_freq is set=3, subsample_freq=0 will be ignored. Current value: bagging_freq=3\n",
            "[LightGBM] [Warning] lambda_l2 is set=0.4844609851167957, reg_lambda=0.0 will be ignored. Current value: lambda_l2=0.4844609851167957\n",
            "[LightGBM] [Warning] bagging_fraction is set=0.5342573906388091, subsample=1.0 will be ignored. Current value: bagging_fraction=0.5342573906388091\n",
            "[LightGBM] [Warning] lambda_l1 is set=0.06265480727726606, reg_alpha=0.0 will be ignored. Current value: lambda_l1=0.06265480727726606\n",
            "[LightGBM] [Warning] feature_fraction is set=0.9181270085295059, colsample_bytree=1.0 will be ignored. Current value: feature_fraction=0.9181270085295059\n",
            "[LightGBM] [Warning] bagging_freq is set=3, subsample_freq=0 will be ignored. Current value: bagging_freq=3\n",
            "[LightGBM] [Warning] lambda_l2 is set=0.4844609851167957, reg_lambda=0.0 will be ignored. Current value: lambda_l2=0.4844609851167957\n",
            "[LightGBM] [Warning] bagging_fraction is set=0.5342573906388091, subsample=1.0 will be ignored. Current value: bagging_fraction=0.5342573906388091\n",
            "[LightGBM] [Warning] lambda_l1 is set=0.0008471675568651601, reg_alpha=0.0 will be ignored. Current value: lambda_l1=0.0008471675568651601\n",
            "[LightGBM] [Warning] feature_fraction is set=0.9488896898544258, colsample_bytree=1.0 will be ignored. Current value: feature_fraction=0.9488896898544258\n",
            "[LightGBM] [Warning] bagging_freq is set=6, subsample_freq=0 will be ignored. Current value: bagging_freq=6\n",
            "[LightGBM] [Warning] lambda_l2 is set=0.9970152023764367, reg_lambda=0.0 will be ignored. Current value: lambda_l2=0.9970152023764367\n",
            "[LightGBM] [Warning] bagging_fraction is set=0.4297182178860485, subsample=1.0 will be ignored. Current value: bagging_fraction=0.4297182178860485\n",
            "[LightGBM] [Warning] lambda_l1 is set=0.0008471675568651601, reg_alpha=0.0 will be ignored. Current value: lambda_l1=0.0008471675568651601\n",
            "[LightGBM] [Warning] feature_fraction is set=0.9488896898544258, colsample_bytree=1.0 will be ignored. Current value: feature_fraction=0.9488896898544258\n",
            "[LightGBM] [Warning] bagging_freq is set=6, subsample_freq=0 will be ignored. Current value: bagging_freq=6\n",
            "[LightGBM] [Warning] lambda_l2 is set=0.9970152023764367, reg_lambda=0.0 will be ignored. Current value: lambda_l2=0.9970152023764367\n",
            "[LightGBM] [Warning] bagging_fraction is set=0.4297182178860485, subsample=1.0 will be ignored. Current value: bagging_fraction=0.4297182178860485\n",
            "[LightGBM] [Warning] lambda_l1 is set=0.0008471675568651601, reg_alpha=0.0 will be ignored. Current value: lambda_l1=0.0008471675568651601\n",
            "[LightGBM] [Warning] feature_fraction is set=0.9488896898544258, colsample_bytree=1.0 will be ignored. Current value: feature_fraction=0.9488896898544258\n",
            "[LightGBM] [Warning] bagging_freq is set=6, subsample_freq=0 will be ignored. Current value: bagging_freq=6\n",
            "[LightGBM] [Warning] lambda_l2 is set=0.9970152023764367, reg_lambda=0.0 will be ignored. Current value: lambda_l2=0.9970152023764367\n",
            "[LightGBM] [Warning] bagging_fraction is set=0.4297182178860485, subsample=1.0 will be ignored. Current value: bagging_fraction=0.4297182178860485\n",
            "[LightGBM] [Warning] lambda_l1 is set=0.0008471675568651601, reg_alpha=0.0 will be ignored. Current value: lambda_l1=0.0008471675568651601\n",
            "[LightGBM] [Warning] feature_fraction is set=0.9488896898544258, colsample_bytree=1.0 will be ignored. Current value: feature_fraction=0.9488896898544258\n",
            "[LightGBM] [Warning] bagging_freq is set=6, subsample_freq=0 will be ignored. Current value: bagging_freq=6\n",
            "[LightGBM] [Warning] lambda_l2 is set=0.9970152023764367, reg_lambda=0.0 will be ignored. Current value: lambda_l2=0.9970152023764367\n",
            "[LightGBM] [Warning] bagging_fraction is set=0.4297182178860485, subsample=1.0 will be ignored. Current value: bagging_fraction=0.4297182178860485\n",
            "[LightGBM] [Warning] lambda_l1 is set=0.0008471675568651601, reg_alpha=0.0 will be ignored. Current value: lambda_l1=0.0008471675568651601\n",
            "[LightGBM] [Warning] feature_fraction is set=0.9488896898544258, colsample_bytree=1.0 will be ignored. Current value: feature_fraction=0.9488896898544258\n",
            "[LightGBM] [Warning] bagging_freq is set=6, subsample_freq=0 will be ignored. Current value: bagging_freq=6\n",
            "[LightGBM] [Warning] lambda_l2 is set=0.9970152023764367, reg_lambda=0.0 will be ignored. Current value: lambda_l2=0.9970152023764367\n",
            "[LightGBM] [Warning] bagging_fraction is set=0.4297182178860485, subsample=1.0 will be ignored. Current value: bagging_fraction=0.4297182178860485\n"
          ]
        },
        {
          "name": "stderr",
          "output_type": "stream",
          "text": [
            "[I 2023-07-02 18:22:33,828] Trial 41 finished with value: 0.8400641025641027 and parameters: {'lambda_l1': 0.0008471675568651601, 'lambda_l2': 0.9970152023764367, 'num_leaves': 176, 'feature_fraction': 0.9488896898544258, 'bagging_fraction': 0.4297182178860485, 'bagging_freq': 6, 'min_child_samples': 74}. Best is trial 31 with value: 0.8452724358974358.\n"
          ]
        },
        {
          "name": "stdout",
          "output_type": "stream",
          "text": [
            "[LightGBM] [Warning] lambda_l1 is set=0.0007530368585628168, reg_alpha=0.0 will be ignored. Current value: lambda_l1=0.0007530368585628168\n",
            "[LightGBM] [Warning] feature_fraction is set=0.9547833710034044, colsample_bytree=1.0 will be ignored. Current value: feature_fraction=0.9547833710034044\n",
            "[LightGBM] [Warning] bagging_freq is set=5, subsample_freq=0 will be ignored. Current value: bagging_freq=5\n",
            "[LightGBM] [Warning] lambda_l2 is set=2.665779450080273, reg_lambda=0.0 will be ignored. Current value: lambda_l2=2.665779450080273\n",
            "[LightGBM] [Warning] bagging_fraction is set=0.43287978263082905, subsample=1.0 will be ignored. Current value: bagging_fraction=0.43287978263082905\n",
            "[LightGBM] [Warning] lambda_l1 is set=0.0007530368585628168, reg_alpha=0.0 will be ignored. Current value: lambda_l1=0.0007530368585628168\n",
            "[LightGBM] [Warning] feature_fraction is set=0.9547833710034044, colsample_bytree=1.0 will be ignored. Current value: feature_fraction=0.9547833710034044\n",
            "[LightGBM] [Warning] bagging_freq is set=5, subsample_freq=0 will be ignored. Current value: bagging_freq=5\n",
            "[LightGBM] [Warning] lambda_l2 is set=2.665779450080273, reg_lambda=0.0 will be ignored. Current value: lambda_l2=2.665779450080273\n",
            "[LightGBM] [Warning] bagging_fraction is set=0.43287978263082905, subsample=1.0 will be ignored. Current value: bagging_fraction=0.43287978263082905\n",
            "[LightGBM] [Warning] lambda_l1 is set=0.0007530368585628168, reg_alpha=0.0 will be ignored. Current value: lambda_l1=0.0007530368585628168\n",
            "[LightGBM] [Warning] feature_fraction is set=0.9547833710034044, colsample_bytree=1.0 will be ignored. Current value: feature_fraction=0.9547833710034044\n",
            "[LightGBM] [Warning] bagging_freq is set=5, subsample_freq=0 will be ignored. Current value: bagging_freq=5\n",
            "[LightGBM] [Warning] lambda_l2 is set=2.665779450080273, reg_lambda=0.0 will be ignored. Current value: lambda_l2=2.665779450080273\n",
            "[LightGBM] [Warning] bagging_fraction is set=0.43287978263082905, subsample=1.0 will be ignored. Current value: bagging_fraction=0.43287978263082905\n",
            "[LightGBM] [Warning] lambda_l1 is set=0.0007530368585628168, reg_alpha=0.0 will be ignored. Current value: lambda_l1=0.0007530368585628168\n",
            "[LightGBM] [Warning] feature_fraction is set=0.9547833710034044, colsample_bytree=1.0 will be ignored. Current value: feature_fraction=0.9547833710034044\n",
            "[LightGBM] [Warning] bagging_freq is set=5, subsample_freq=0 will be ignored. Current value: bagging_freq=5\n",
            "[LightGBM] [Warning] lambda_l2 is set=2.665779450080273, reg_lambda=0.0 will be ignored. Current value: lambda_l2=2.665779450080273\n",
            "[LightGBM] [Warning] bagging_fraction is set=0.43287978263082905, subsample=1.0 will be ignored. Current value: bagging_fraction=0.43287978263082905\n"
          ]
        },
        {
          "name": "stderr",
          "output_type": "stream",
          "text": [
            "[I 2023-07-02 18:22:34,147] Trial 42 finished with value: 0.8385416666666666 and parameters: {'lambda_l1': 0.0007530368585628168, 'lambda_l2': 2.665779450080273, 'num_leaves': 256, 'feature_fraction': 0.9547833710034044, 'bagging_fraction': 0.43287978263082905, 'bagging_freq': 5, 'min_child_samples': 79}. Best is trial 31 with value: 0.8452724358974358.\n"
          ]
        },
        {
          "name": "stdout",
          "output_type": "stream",
          "text": [
            "[LightGBM] [Warning] lambda_l1 is set=0.0007530368585628168, reg_alpha=0.0 will be ignored. Current value: lambda_l1=0.0007530368585628168\n",
            "[LightGBM] [Warning] feature_fraction is set=0.9547833710034044, colsample_bytree=1.0 will be ignored. Current value: feature_fraction=0.9547833710034044\n",
            "[LightGBM] [Warning] bagging_freq is set=5, subsample_freq=0 will be ignored. Current value: bagging_freq=5\n",
            "[LightGBM] [Warning] lambda_l2 is set=2.665779450080273, reg_lambda=0.0 will be ignored. Current value: lambda_l2=2.665779450080273\n",
            "[LightGBM] [Warning] bagging_fraction is set=0.43287978263082905, subsample=1.0 will be ignored. Current value: bagging_fraction=0.43287978263082905\n",
            "[LightGBM] [Warning] lambda_l1 is set=0.006316590723149101, reg_alpha=0.0 will be ignored. Current value: lambda_l1=0.006316590723149101\n",
            "[LightGBM] [Warning] feature_fraction is set=0.8847147080703345, colsample_bytree=1.0 will be ignored. Current value: feature_fraction=0.8847147080703345\n",
            "[LightGBM] [Warning] bagging_freq is set=6, subsample_freq=0 will be ignored. Current value: bagging_freq=6\n",
            "[LightGBM] [Warning] lambda_l2 is set=0.1818255014774264, reg_lambda=0.0 will be ignored. Current value: lambda_l2=0.1818255014774264\n",
            "[LightGBM] [Warning] bagging_fraction is set=0.4798914288678946, subsample=1.0 will be ignored. Current value: bagging_fraction=0.4798914288678946\n",
            "[LightGBM] [Warning] lambda_l1 is set=0.006316590723149101, reg_alpha=0.0 will be ignored. Current value: lambda_l1=0.006316590723149101\n",
            "[LightGBM] [Warning] feature_fraction is set=0.8847147080703345, colsample_bytree=1.0 will be ignored. Current value: feature_fraction=0.8847147080703345\n",
            "[LightGBM] [Warning] bagging_freq is set=6, subsample_freq=0 will be ignored. Current value: bagging_freq=6\n",
            "[LightGBM] [Warning] lambda_l2 is set=0.1818255014774264, reg_lambda=0.0 will be ignored. Current value: lambda_l2=0.1818255014774264\n",
            "[LightGBM] [Warning] bagging_fraction is set=0.4798914288678946, subsample=1.0 will be ignored. Current value: bagging_fraction=0.4798914288678946\n",
            "[LightGBM] [Warning] lambda_l1 is set=0.006316590723149101, reg_alpha=0.0 will be ignored. Current value: lambda_l1=0.006316590723149101\n",
            "[LightGBM] [Warning] feature_fraction is set=0.8847147080703345, colsample_bytree=1.0 will be ignored. Current value: feature_fraction=0.8847147080703345\n",
            "[LightGBM] [Warning] bagging_freq is set=6, subsample_freq=0 will be ignored. Current value: bagging_freq=6\n",
            "[LightGBM] [Warning] lambda_l2 is set=0.1818255014774264, reg_lambda=0.0 will be ignored. Current value: lambda_l2=0.1818255014774264\n",
            "[LightGBM] [Warning] bagging_fraction is set=0.4798914288678946, subsample=1.0 will be ignored. Current value: bagging_fraction=0.4798914288678946\n",
            "[LightGBM] [Warning] lambda_l1 is set=0.006316590723149101, reg_alpha=0.0 will be ignored. Current value: lambda_l1=0.006316590723149101\n",
            "[LightGBM] [Warning] feature_fraction is set=0.8847147080703345, colsample_bytree=1.0 will be ignored. Current value: feature_fraction=0.8847147080703345\n",
            "[LightGBM] [Warning] bagging_freq is set=6, subsample_freq=0 will be ignored. Current value: bagging_freq=6\n",
            "[LightGBM] [Warning] lambda_l2 is set=0.1818255014774264, reg_lambda=0.0 will be ignored. Current value: lambda_l2=0.1818255014774264\n",
            "[LightGBM] [Warning] bagging_fraction is set=0.4798914288678946, subsample=1.0 will be ignored. Current value: bagging_fraction=0.4798914288678946\n",
            "[LightGBM] [Warning] lambda_l1 is set=0.006316590723149101, reg_alpha=0.0 will be ignored. Current value: lambda_l1=0.006316590723149101\n",
            "[LightGBM] [Warning] feature_fraction is set=0.8847147080703345, colsample_bytree=1.0 will be ignored. Current value: feature_fraction=0.8847147080703345\n",
            "[LightGBM] [Warning] bagging_freq is set=6, subsample_freq=0 will be ignored. Current value: bagging_freq=6\n",
            "[LightGBM] [Warning] lambda_l2 is set=0.1818255014774264, reg_lambda=0.0 will be ignored. Current value: lambda_l2=0.1818255014774264\n",
            "[LightGBM] [Warning] bagging_fraction is set=0.4798914288678946, subsample=1.0 will be ignored. Current value: bagging_fraction=0.4798914288678946\n"
          ]
        },
        {
          "name": "stderr",
          "output_type": "stream",
          "text": [
            "[I 2023-07-02 18:22:34,580] Trial 43 finished with value: 0.8412660256410256 and parameters: {'lambda_l1': 0.006316590723149101, 'lambda_l2': 0.1818255014774264, 'num_leaves': 107, 'feature_fraction': 0.8847147080703345, 'bagging_fraction': 0.4798914288678946, 'bagging_freq': 6, 'min_child_samples': 63}. Best is trial 31 with value: 0.8452724358974358.\n"
          ]
        },
        {
          "name": "stdout",
          "output_type": "stream",
          "text": [
            "[LightGBM] [Warning] lambda_l1 is set=0.009669521908305993, reg_alpha=0.0 will be ignored. Current value: lambda_l1=0.009669521908305993\n",
            "[LightGBM] [Warning] feature_fraction is set=0.8277120673874339, colsample_bytree=1.0 will be ignored. Current value: feature_fraction=0.8277120673874339\n",
            "[LightGBM] [Warning] bagging_freq is set=7, subsample_freq=0 will be ignored. Current value: bagging_freq=7\n",
            "[LightGBM] [Warning] lambda_l2 is set=0.1866432487779882, reg_lambda=0.0 will be ignored. Current value: lambda_l2=0.1866432487779882\n",
            "[LightGBM] [Warning] bagging_fraction is set=0.4802868287957704, subsample=1.0 will be ignored. Current value: bagging_fraction=0.4802868287957704\n",
            "[LightGBM] [Warning] lambda_l1 is set=0.009669521908305993, reg_alpha=0.0 will be ignored. Current value: lambda_l1=0.009669521908305993\n",
            "[LightGBM] [Warning] feature_fraction is set=0.8277120673874339, colsample_bytree=1.0 will be ignored. Current value: feature_fraction=0.8277120673874339\n",
            "[LightGBM] [Warning] bagging_freq is set=7, subsample_freq=0 will be ignored. Current value: bagging_freq=7\n",
            "[LightGBM] [Warning] lambda_l2 is set=0.1866432487779882, reg_lambda=0.0 will be ignored. Current value: lambda_l2=0.1866432487779882\n",
            "[LightGBM] [Warning] bagging_fraction is set=0.4802868287957704, subsample=1.0 will be ignored. Current value: bagging_fraction=0.4802868287957704\n",
            "[LightGBM] [Warning] lambda_l1 is set=0.009669521908305993, reg_alpha=0.0 will be ignored. Current value: lambda_l1=0.009669521908305993\n",
            "[LightGBM] [Warning] feature_fraction is set=0.8277120673874339, colsample_bytree=1.0 will be ignored. Current value: feature_fraction=0.8277120673874339\n",
            "[LightGBM] [Warning] bagging_freq is set=7, subsample_freq=0 will be ignored. Current value: bagging_freq=7\n",
            "[LightGBM] [Warning] lambda_l2 is set=0.1866432487779882, reg_lambda=0.0 will be ignored. Current value: lambda_l2=0.1866432487779882\n",
            "[LightGBM] [Warning] bagging_fraction is set=0.4802868287957704, subsample=1.0 will be ignored. Current value: bagging_fraction=0.4802868287957704\n",
            "[LightGBM] [Warning] lambda_l1 is set=0.009669521908305993, reg_alpha=0.0 will be ignored. Current value: lambda_l1=0.009669521908305993\n",
            "[LightGBM] [Warning] feature_fraction is set=0.8277120673874339, colsample_bytree=1.0 will be ignored. Current value: feature_fraction=0.8277120673874339\n",
            "[LightGBM] [Warning] bagging_freq is set=7, subsample_freq=0 will be ignored. Current value: bagging_freq=7\n",
            "[LightGBM] [Warning] lambda_l2 is set=0.1866432487779882, reg_lambda=0.0 will be ignored. Current value: lambda_l2=0.1866432487779882\n",
            "[LightGBM] [Warning] bagging_fraction is set=0.4802868287957704, subsample=1.0 will be ignored. Current value: bagging_fraction=0.4802868287957704\n"
          ]
        },
        {
          "name": "stderr",
          "output_type": "stream",
          "text": [
            "[I 2023-07-02 18:22:34,956] Trial 44 finished with value: 0.8317307692307693 and parameters: {'lambda_l1': 0.009669521908305993, 'lambda_l2': 0.1866432487779882, 'num_leaves': 102, 'feature_fraction': 0.8277120673874339, 'bagging_fraction': 0.4802868287957704, 'bagging_freq': 7, 'min_child_samples': 63}. Best is trial 31 with value: 0.8452724358974358.\n"
          ]
        },
        {
          "name": "stdout",
          "output_type": "stream",
          "text": [
            "[LightGBM] [Warning] lambda_l1 is set=0.009669521908305993, reg_alpha=0.0 will be ignored. Current value: lambda_l1=0.009669521908305993\n",
            "[LightGBM] [Warning] feature_fraction is set=0.8277120673874339, colsample_bytree=1.0 will be ignored. Current value: feature_fraction=0.8277120673874339\n",
            "[LightGBM] [Warning] bagging_freq is set=7, subsample_freq=0 will be ignored. Current value: bagging_freq=7\n",
            "[LightGBM] [Warning] lambda_l2 is set=0.1866432487779882, reg_lambda=0.0 will be ignored. Current value: lambda_l2=0.1866432487779882\n",
            "[LightGBM] [Warning] bagging_fraction is set=0.4802868287957704, subsample=1.0 will be ignored. Current value: bagging_fraction=0.4802868287957704\n",
            "[LightGBM] [Warning] lambda_l1 is set=0.003419933914090879, reg_alpha=0.0 will be ignored. Current value: lambda_l1=0.003419933914090879\n",
            "[LightGBM] [Warning] feature_fraction is set=0.8910282986405634, colsample_bytree=1.0 will be ignored. Current value: feature_fraction=0.8910282986405634\n",
            "[LightGBM] [Warning] bagging_freq is set=6, subsample_freq=0 will be ignored. Current value: bagging_freq=6\n",
            "[LightGBM] [Warning] lambda_l2 is set=2.0826805965479522, reg_lambda=0.0 will be ignored. Current value: lambda_l2=2.0826805965479522\n",
            "[LightGBM] [Warning] bagging_fraction is set=0.5725852173440005, subsample=1.0 will be ignored. Current value: bagging_fraction=0.5725852173440005\n",
            "[LightGBM] [Warning] lambda_l1 is set=0.003419933914090879, reg_alpha=0.0 will be ignored. Current value: lambda_l1=0.003419933914090879\n",
            "[LightGBM] [Warning] feature_fraction is set=0.8910282986405634, colsample_bytree=1.0 will be ignored. Current value: feature_fraction=0.8910282986405634\n",
            "[LightGBM] [Warning] bagging_freq is set=6, subsample_freq=0 will be ignored. Current value: bagging_freq=6\n",
            "[LightGBM] [Warning] lambda_l2 is set=2.0826805965479522, reg_lambda=0.0 will be ignored. Current value: lambda_l2=2.0826805965479522\n",
            "[LightGBM] [Warning] bagging_fraction is set=0.5725852173440005, subsample=1.0 will be ignored. Current value: bagging_fraction=0.5725852173440005\n",
            "[LightGBM] [Warning] lambda_l1 is set=0.003419933914090879, reg_alpha=0.0 will be ignored. Current value: lambda_l1=0.003419933914090879\n",
            "[LightGBM] [Warning] feature_fraction is set=0.8910282986405634, colsample_bytree=1.0 will be ignored. Current value: feature_fraction=0.8910282986405634\n",
            "[LightGBM] [Warning] bagging_freq is set=6, subsample_freq=0 will be ignored. Current value: bagging_freq=6\n",
            "[LightGBM] [Warning] lambda_l2 is set=2.0826805965479522, reg_lambda=0.0 will be ignored. Current value: lambda_l2=2.0826805965479522\n",
            "[LightGBM] [Warning] bagging_fraction is set=0.5725852173440005, subsample=1.0 will be ignored. Current value: bagging_fraction=0.5725852173440005\n",
            "[LightGBM] [Warning] lambda_l1 is set=0.003419933914090879, reg_alpha=0.0 will be ignored. Current value: lambda_l1=0.003419933914090879\n",
            "[LightGBM] [Warning] feature_fraction is set=0.8910282986405634, colsample_bytree=1.0 will be ignored. Current value: feature_fraction=0.8910282986405634\n",
            "[LightGBM] [Warning] bagging_freq is set=6, subsample_freq=0 will be ignored. Current value: bagging_freq=6\n",
            "[LightGBM] [Warning] lambda_l2 is set=2.0826805965479522, reg_lambda=0.0 will be ignored. Current value: lambda_l2=2.0826805965479522\n",
            "[LightGBM] [Warning] bagging_fraction is set=0.5725852173440005, subsample=1.0 will be ignored. Current value: bagging_fraction=0.5725852173440005\n",
            "[LightGBM] [Warning] lambda_l1 is set=0.003419933914090879, reg_alpha=0.0 will be ignored. Current value: lambda_l1=0.003419933914090879\n",
            "[LightGBM] [Warning] feature_fraction is set=0.8910282986405634, colsample_bytree=1.0 will be ignored. Current value: feature_fraction=0.8910282986405634\n",
            "[LightGBM] [Warning] bagging_freq is set=6, subsample_freq=0 will be ignored. Current value: bagging_freq=6\n",
            "[LightGBM] [Warning] lambda_l2 is set=2.0826805965479522, reg_lambda=0.0 will be ignored. Current value: lambda_l2=2.0826805965479522\n",
            "[LightGBM] [Warning] bagging_fraction is set=0.5725852173440005, subsample=1.0 will be ignored. Current value: bagging_fraction=0.5725852173440005\n"
          ]
        },
        {
          "name": "stderr",
          "output_type": "stream",
          "text": [
            "[I 2023-07-02 18:22:35,364] Trial 45 finished with value: 0.8403044871794871 and parameters: {'lambda_l1': 0.003419933914090879, 'lambda_l2': 2.0826805965479522, 'num_leaves': 58, 'feature_fraction': 0.8910282986405634, 'bagging_fraction': 0.5725852173440005, 'bagging_freq': 6, 'min_child_samples': 67}. Best is trial 31 with value: 0.8452724358974358.\n"
          ]
        },
        {
          "name": "stdout",
          "output_type": "stream",
          "text": [
            "[LightGBM] [Warning] lambda_l1 is set=0.0002161983329190687, reg_alpha=0.0 will be ignored. Current value: lambda_l1=0.0002161983329190687\n",
            "[LightGBM] [Warning] feature_fraction is set=0.9662938274597557, colsample_bytree=1.0 will be ignored. Current value: feature_fraction=0.9662938274597557\n",
            "[LightGBM] [Warning] bagging_freq is set=5, subsample_freq=0 will be ignored. Current value: bagging_freq=5\n",
            "[LightGBM] [Warning] lambda_l2 is set=0.3930685648887168, reg_lambda=0.0 will be ignored. Current value: lambda_l2=0.3930685648887168\n",
            "[LightGBM] [Warning] bagging_fraction is set=0.6409799423804821, subsample=1.0 will be ignored. Current value: bagging_fraction=0.6409799423804821\n",
            "[LightGBM] [Warning] lambda_l1 is set=0.0002161983329190687, reg_alpha=0.0 will be ignored. Current value: lambda_l1=0.0002161983329190687\n",
            "[LightGBM] [Warning] feature_fraction is set=0.9662938274597557, colsample_bytree=1.0 will be ignored. Current value: feature_fraction=0.9662938274597557\n",
            "[LightGBM] [Warning] bagging_freq is set=5, subsample_freq=0 will be ignored. Current value: bagging_freq=5\n",
            "[LightGBM] [Warning] lambda_l2 is set=0.3930685648887168, reg_lambda=0.0 will be ignored. Current value: lambda_l2=0.3930685648887168\n",
            "[LightGBM] [Warning] bagging_fraction is set=0.6409799423804821, subsample=1.0 will be ignored. Current value: bagging_fraction=0.6409799423804821\n",
            "[LightGBM] [Warning] lambda_l1 is set=0.0002161983329190687, reg_alpha=0.0 will be ignored. Current value: lambda_l1=0.0002161983329190687\n",
            "[LightGBM] [Warning] feature_fraction is set=0.9662938274597557, colsample_bytree=1.0 will be ignored. Current value: feature_fraction=0.9662938274597557\n",
            "[LightGBM] [Warning] bagging_freq is set=5, subsample_freq=0 will be ignored. Current value: bagging_freq=5\n",
            "[LightGBM] [Warning] lambda_l2 is set=0.3930685648887168, reg_lambda=0.0 will be ignored. Current value: lambda_l2=0.3930685648887168\n",
            "[LightGBM] [Warning] bagging_fraction is set=0.6409799423804821, subsample=1.0 will be ignored. Current value: bagging_fraction=0.6409799423804821\n",
            "[LightGBM] [Warning] lambda_l1 is set=0.0002161983329190687, reg_alpha=0.0 will be ignored. Current value: lambda_l1=0.0002161983329190687\n",
            "[LightGBM] [Warning] feature_fraction is set=0.9662938274597557, colsample_bytree=1.0 will be ignored. Current value: feature_fraction=0.9662938274597557\n",
            "[LightGBM] [Warning] bagging_freq is set=5, subsample_freq=0 will be ignored. Current value: bagging_freq=5\n",
            "[LightGBM] [Warning] lambda_l2 is set=0.3930685648887168, reg_lambda=0.0 will be ignored. Current value: lambda_l2=0.3930685648887168\n",
            "[LightGBM] [Warning] bagging_fraction is set=0.6409799423804821, subsample=1.0 will be ignored. Current value: bagging_fraction=0.6409799423804821\n"
          ]
        },
        {
          "name": "stderr",
          "output_type": "stream",
          "text": [
            "[I 2023-07-02 18:22:35,728] Trial 46 finished with value: 0.8384615384615384 and parameters: {'lambda_l1': 0.0002161983329190687, 'lambda_l2': 0.3930685648887168, 'num_leaves': 154, 'feature_fraction': 0.9662938274597557, 'bagging_fraction': 0.6409799423804821, 'bagging_freq': 5, 'min_child_samples': 95}. Best is trial 31 with value: 0.8452724358974358.\n"
          ]
        },
        {
          "name": "stdout",
          "output_type": "stream",
          "text": [
            "[LightGBM] [Warning] lambda_l1 is set=0.0002161983329190687, reg_alpha=0.0 will be ignored. Current value: lambda_l1=0.0002161983329190687\n",
            "[LightGBM] [Warning] feature_fraction is set=0.9662938274597557, colsample_bytree=1.0 will be ignored. Current value: feature_fraction=0.9662938274597557\n",
            "[LightGBM] [Warning] bagging_freq is set=5, subsample_freq=0 will be ignored. Current value: bagging_freq=5\n",
            "[LightGBM] [Warning] lambda_l2 is set=0.3930685648887168, reg_lambda=0.0 will be ignored. Current value: lambda_l2=0.3930685648887168\n",
            "[LightGBM] [Warning] bagging_fraction is set=0.6409799423804821, subsample=1.0 will be ignored. Current value: bagging_fraction=0.6409799423804821\n",
            "[LightGBM] [Warning] lambda_l1 is set=0.0019319679213466133, reg_alpha=0.0 will be ignored. Current value: lambda_l1=0.0019319679213466133\n",
            "[LightGBM] [Warning] feature_fraction is set=0.7851897368984722, colsample_bytree=1.0 will be ignored. Current value: feature_fraction=0.7851897368984722\n",
            "[LightGBM] [Warning] bagging_freq is set=2, subsample_freq=0 will be ignored. Current value: bagging_freq=2\n",
            "[LightGBM] [Warning] lambda_l2 is set=4.114013252367312, reg_lambda=0.0 will be ignored. Current value: lambda_l2=4.114013252367312\n",
            "[LightGBM] [Warning] bagging_fraction is set=0.5028378600943973, subsample=1.0 will be ignored. Current value: bagging_fraction=0.5028378600943973\n",
            "[LightGBM] [Warning] lambda_l1 is set=0.0019319679213466133, reg_alpha=0.0 will be ignored. Current value: lambda_l1=0.0019319679213466133\n",
            "[LightGBM] [Warning] feature_fraction is set=0.7851897368984722, colsample_bytree=1.0 will be ignored. Current value: feature_fraction=0.7851897368984722\n",
            "[LightGBM] [Warning] bagging_freq is set=2, subsample_freq=0 will be ignored. Current value: bagging_freq=2\n",
            "[LightGBM] [Warning] lambda_l2 is set=4.114013252367312, reg_lambda=0.0 will be ignored. Current value: lambda_l2=4.114013252367312\n",
            "[LightGBM] [Warning] bagging_fraction is set=0.5028378600943973, subsample=1.0 will be ignored. Current value: bagging_fraction=0.5028378600943973\n"
          ]
        },
        {
          "name": "stderr",
          "output_type": "stream",
          "text": [
            "[I 2023-07-02 18:22:36,051] Trial 47 finished with value: 0.838701923076923 and parameters: {'lambda_l1': 0.0019319679213466133, 'lambda_l2': 4.114013252367312, 'num_leaves': 122, 'feature_fraction': 0.7851897368984722, 'bagging_fraction': 0.5028378600943973, 'bagging_freq': 2, 'min_child_samples': 71}. Best is trial 31 with value: 0.8452724358974358.\n"
          ]
        },
        {
          "name": "stdout",
          "output_type": "stream",
          "text": [
            "[LightGBM] [Warning] lambda_l1 is set=0.0019319679213466133, reg_alpha=0.0 will be ignored. Current value: lambda_l1=0.0019319679213466133\n",
            "[LightGBM] [Warning] feature_fraction is set=0.7851897368984722, colsample_bytree=1.0 will be ignored. Current value: feature_fraction=0.7851897368984722\n",
            "[LightGBM] [Warning] bagging_freq is set=2, subsample_freq=0 will be ignored. Current value: bagging_freq=2\n",
            "[LightGBM] [Warning] lambda_l2 is set=4.114013252367312, reg_lambda=0.0 will be ignored. Current value: lambda_l2=4.114013252367312\n",
            "[LightGBM] [Warning] bagging_fraction is set=0.5028378600943973, subsample=1.0 will be ignored. Current value: bagging_fraction=0.5028378600943973\n",
            "[LightGBM] [Warning] lambda_l1 is set=0.0019319679213466133, reg_alpha=0.0 will be ignored. Current value: lambda_l1=0.0019319679213466133\n",
            "[LightGBM] [Warning] feature_fraction is set=0.7851897368984722, colsample_bytree=1.0 will be ignored. Current value: feature_fraction=0.7851897368984722\n",
            "[LightGBM] [Warning] bagging_freq is set=2, subsample_freq=0 will be ignored. Current value: bagging_freq=2\n",
            "[LightGBM] [Warning] lambda_l2 is set=4.114013252367312, reg_lambda=0.0 will be ignored. Current value: lambda_l2=4.114013252367312\n",
            "[LightGBM] [Warning] bagging_fraction is set=0.5028378600943973, subsample=1.0 will be ignored. Current value: bagging_fraction=0.5028378600943973\n",
            "[LightGBM] [Warning] lambda_l1 is set=0.0019319679213466133, reg_alpha=0.0 will be ignored. Current value: lambda_l1=0.0019319679213466133\n",
            "[LightGBM] [Warning] feature_fraction is set=0.7851897368984722, colsample_bytree=1.0 will be ignored. Current value: feature_fraction=0.7851897368984722\n",
            "[LightGBM] [Warning] bagging_freq is set=2, subsample_freq=0 will be ignored. Current value: bagging_freq=2\n",
            "[LightGBM] [Warning] lambda_l2 is set=4.114013252367312, reg_lambda=0.0 will be ignored. Current value: lambda_l2=4.114013252367312\n",
            "[LightGBM] [Warning] bagging_fraction is set=0.5028378600943973, subsample=1.0 will be ignored. Current value: bagging_fraction=0.5028378600943973\n",
            "[LightGBM] [Warning] lambda_l1 is set=0.007507966359982857, reg_alpha=0.0 will be ignored. Current value: lambda_l1=0.007507966359982857\n",
            "[LightGBM] [Warning] feature_fraction is set=0.8824037448667421, colsample_bytree=1.0 will be ignored. Current value: feature_fraction=0.8824037448667421\n",
            "[LightGBM] [Warning] bagging_freq is set=6, subsample_freq=0 will be ignored. Current value: bagging_freq=6\n",
            "[LightGBM] [Warning] lambda_l2 is set=0.1168976684825741, reg_lambda=0.0 will be ignored. Current value: lambda_l2=0.1168976684825741\n",
            "[LightGBM] [Warning] bagging_fraction is set=0.46484916924759195, subsample=1.0 will be ignored. Current value: bagging_fraction=0.46484916924759195\n",
            "[LightGBM] [Warning] lambda_l1 is set=0.007507966359982857, reg_alpha=0.0 will be ignored. Current value: lambda_l1=0.007507966359982857\n",
            "[LightGBM] [Warning] feature_fraction is set=0.8824037448667421, colsample_bytree=1.0 will be ignored. Current value: feature_fraction=0.8824037448667421\n",
            "[LightGBM] [Warning] bagging_freq is set=6, subsample_freq=0 will be ignored. Current value: bagging_freq=6\n",
            "[LightGBM] [Warning] lambda_l2 is set=0.1168976684825741, reg_lambda=0.0 will be ignored. Current value: lambda_l2=0.1168976684825741\n",
            "[LightGBM] [Warning] bagging_fraction is set=0.46484916924759195, subsample=1.0 will be ignored. Current value: bagging_fraction=0.46484916924759195\n",
            "[LightGBM] [Warning] lambda_l1 is set=0.007507966359982857, reg_alpha=0.0 will be ignored. Current value: lambda_l1=0.007507966359982857\n",
            "[LightGBM] [Warning] feature_fraction is set=0.8824037448667421, colsample_bytree=1.0 will be ignored. Current value: feature_fraction=0.8824037448667421\n",
            "[LightGBM] [Warning] bagging_freq is set=6, subsample_freq=0 will be ignored. Current value: bagging_freq=6\n",
            "[LightGBM] [Warning] lambda_l2 is set=0.1168976684825741, reg_lambda=0.0 will be ignored. Current value: lambda_l2=0.1168976684825741\n",
            "[LightGBM] [Warning] bagging_fraction is set=0.46484916924759195, subsample=1.0 will be ignored. Current value: bagging_fraction=0.46484916924759195\n",
            "[LightGBM] [Warning] lambda_l1 is set=0.007507966359982857, reg_alpha=0.0 will be ignored. Current value: lambda_l1=0.007507966359982857\n",
            "[LightGBM] [Warning] feature_fraction is set=0.8824037448667421, colsample_bytree=1.0 will be ignored. Current value: feature_fraction=0.8824037448667421\n",
            "[LightGBM] [Warning] bagging_freq is set=6, subsample_freq=0 will be ignored. Current value: bagging_freq=6\n",
            "[LightGBM] [Warning] lambda_l2 is set=0.1168976684825741, reg_lambda=0.0 will be ignored. Current value: lambda_l2=0.1168976684825741\n",
            "[LightGBM] [Warning] bagging_fraction is set=0.46484916924759195, subsample=1.0 will be ignored. Current value: bagging_fraction=0.46484916924759195\n"
          ]
        },
        {
          "name": "stderr",
          "output_type": "stream",
          "text": [
            "[I 2023-07-02 18:22:36,447] Trial 48 finished with value: 0.8425480769230769 and parameters: {'lambda_l1': 0.007507966359982857, 'lambda_l2': 0.1168976684825741, 'num_leaves': 230, 'feature_fraction': 0.8824037448667421, 'bagging_fraction': 0.46484916924759195, 'bagging_freq': 6, 'min_child_samples': 82}. Best is trial 31 with value: 0.8452724358974358.\n"
          ]
        },
        {
          "name": "stdout",
          "output_type": "stream",
          "text": [
            "[LightGBM] [Warning] lambda_l1 is set=0.007507966359982857, reg_alpha=0.0 will be ignored. Current value: lambda_l1=0.007507966359982857\n",
            "[LightGBM] [Warning] feature_fraction is set=0.8824037448667421, colsample_bytree=1.0 will be ignored. Current value: feature_fraction=0.8824037448667421\n",
            "[LightGBM] [Warning] bagging_freq is set=6, subsample_freq=0 will be ignored. Current value: bagging_freq=6\n",
            "[LightGBM] [Warning] lambda_l2 is set=0.1168976684825741, reg_lambda=0.0 will be ignored. Current value: lambda_l2=0.1168976684825741\n",
            "[LightGBM] [Warning] bagging_fraction is set=0.46484916924759195, subsample=1.0 will be ignored. Current value: bagging_fraction=0.46484916924759195\n",
            "[LightGBM] [Warning] lambda_l1 is set=0.01698880646726337, reg_alpha=0.0 will be ignored. Current value: lambda_l1=0.01698880646726337\n",
            "[LightGBM] [Warning] feature_fraction is set=0.9215373670549581, colsample_bytree=1.0 will be ignored. Current value: feature_fraction=0.9215373670549581\n",
            "[LightGBM] [Warning] bagging_freq is set=5, subsample_freq=0 will be ignored. Current value: bagging_freq=5\n",
            "[LightGBM] [Warning] lambda_l2 is set=3.7456435067113882, reg_lambda=0.0 will be ignored. Current value: lambda_l2=3.7456435067113882\n",
            "[LightGBM] [Warning] bagging_fraction is set=0.42720353635699804, subsample=1.0 will be ignored. Current value: bagging_fraction=0.42720353635699804\n",
            "[LightGBM] [Warning] lambda_l1 is set=0.01698880646726337, reg_alpha=0.0 will be ignored. Current value: lambda_l1=0.01698880646726337\n",
            "[LightGBM] [Warning] feature_fraction is set=0.9215373670549581, colsample_bytree=1.0 will be ignored. Current value: feature_fraction=0.9215373670549581\n",
            "[LightGBM] [Warning] bagging_freq is set=5, subsample_freq=0 will be ignored. Current value: bagging_freq=5\n",
            "[LightGBM] [Warning] lambda_l2 is set=3.7456435067113882, reg_lambda=0.0 will be ignored. Current value: lambda_l2=3.7456435067113882\n",
            "[LightGBM] [Warning] bagging_fraction is set=0.42720353635699804, subsample=1.0 will be ignored. Current value: bagging_fraction=0.42720353635699804\n"
          ]
        },
        {
          "name": "stderr",
          "output_type": "stream",
          "text": [
            "[I 2023-07-02 18:22:36,748] Trial 49 finished with value: 0.8395032051282051 and parameters: {'lambda_l1': 0.01698880646726337, 'lambda_l2': 3.7456435067113882, 'num_leaves': 226, 'feature_fraction': 0.9215373670549581, 'bagging_fraction': 0.42720353635699804, 'bagging_freq': 5, 'min_child_samples': 83}. Best is trial 31 with value: 0.8452724358974358.\n"
          ]
        },
        {
          "name": "stdout",
          "output_type": "stream",
          "text": [
            "[LightGBM] [Warning] lambda_l1 is set=0.01698880646726337, reg_alpha=0.0 will be ignored. Current value: lambda_l1=0.01698880646726337\n",
            "[LightGBM] [Warning] feature_fraction is set=0.9215373670549581, colsample_bytree=1.0 will be ignored. Current value: feature_fraction=0.9215373670549581\n",
            "[LightGBM] [Warning] bagging_freq is set=5, subsample_freq=0 will be ignored. Current value: bagging_freq=5\n",
            "[LightGBM] [Warning] lambda_l2 is set=3.7456435067113882, reg_lambda=0.0 will be ignored. Current value: lambda_l2=3.7456435067113882\n",
            "[LightGBM] [Warning] bagging_fraction is set=0.42720353635699804, subsample=1.0 will be ignored. Current value: bagging_fraction=0.42720353635699804\n",
            "[LightGBM] [Warning] lambda_l1 is set=0.01698880646726337, reg_alpha=0.0 will be ignored. Current value: lambda_l1=0.01698880646726337\n",
            "[LightGBM] [Warning] feature_fraction is set=0.9215373670549581, colsample_bytree=1.0 will be ignored. Current value: feature_fraction=0.9215373670549581\n",
            "[LightGBM] [Warning] bagging_freq is set=5, subsample_freq=0 will be ignored. Current value: bagging_freq=5\n",
            "[LightGBM] [Warning] lambda_l2 is set=3.7456435067113882, reg_lambda=0.0 will be ignored. Current value: lambda_l2=3.7456435067113882\n",
            "[LightGBM] [Warning] bagging_fraction is set=0.42720353635699804, subsample=1.0 will be ignored. Current value: bagging_fraction=0.42720353635699804\n",
            "[LightGBM] [Warning] lambda_l1 is set=0.01698880646726337, reg_alpha=0.0 will be ignored. Current value: lambda_l1=0.01698880646726337\n",
            "[LightGBM] [Warning] feature_fraction is set=0.9215373670549581, colsample_bytree=1.0 will be ignored. Current value: feature_fraction=0.9215373670549581\n",
            "[LightGBM] [Warning] bagging_freq is set=5, subsample_freq=0 will be ignored. Current value: bagging_freq=5\n",
            "[LightGBM] [Warning] lambda_l2 is set=3.7456435067113882, reg_lambda=0.0 will be ignored. Current value: lambda_l2=3.7456435067113882\n",
            "[LightGBM] [Warning] bagging_fraction is set=0.42720353635699804, subsample=1.0 will be ignored. Current value: bagging_fraction=0.42720353635699804\n"
          ]
        }
      ],
      "source": [
        "import optuna\n",
        "\n",
        "\n",
        "def find_oof_score(oof, y_val):\n",
        "    predictions = oof.argmax(axis=1)\n",
        "    return roc_auc_score(y_val, predictions, average=\"macro\")\n",
        "\n",
        "\n",
        "def fit_cb(trial, xtr, ytr, xval, yval):\n",
        "    params = {\n",
        "        \"boosting_type\": \"dart\",\n",
        "        \"lambda_l1\": trial.suggest_float(\"lambda_l1\", 1e-8, 10.0, log=True),\n",
        "        \"lambda_l2\": trial.suggest_float(\"lambda_l2\", 1e-8, 10.0, log=True),\n",
        "        \"num_leaves\": trial.suggest_int(\"num_leaves\", 2, 256),\n",
        "        \"feature_fraction\": trial.suggest_float(\"feature_fraction\", 0.4, 1.0),\n",
        "        \"bagging_fraction\": trial.suggest_float(\"bagging_fraction\", 0.4, 1.0),\n",
        "        \"bagging_freq\": trial.suggest_int(\"bagging_freq\", 1, 7),\n",
        "        \"min_child_samples\": trial.suggest_int(\"min_child_samples\", 5, 100),\n",
        "    }\n",
        "    model = LGBMClassifier(**params)\n",
        "\n",
        "    model.fit(xtr, ytr)\n",
        "\n",
        "    y_val_pred = model.predict_proba(xval)[:, 1]\n",
        "\n",
        "    log = {\n",
        "        \"train ROC_AUC\": roc_auc_score(ytr, model.predict_proba(xtr)[:, 1]),\n",
        "        \"valid ROC_AUC\": roc_auc_score(yval, model.predict_proba(xval)[:, 1]),\n",
        "    }\n",
        "\n",
        "    return model, y_val_pred, log\n",
        "\n",
        "\n",
        "def objective(trial):\n",
        "    oof = np.zeros((x_full.shape[0], 2))\n",
        "\n",
        "    for train_index, val_index in skf.split(x_full, y_full):\n",
        "        x_train, x_val = x_full.iloc[train_index], x_full.iloc[val_index]\n",
        "        y_train, y_val = y_full.iloc[train_index], y_full.iloc[val_index]\n",
        "        m, y_val_pred, log = fit_cb(trial, x_train, y_train, x_val, y_val)\n",
        "\n",
        "        oof = m.predict_proba(x_val)\n",
        "\n",
        "    return find_oof_score(oof, y_val)\n",
        "\n",
        "\n",
        "study = optuna.create_study(direction=\"maximize\")\n",
        "study.optimize(objective, n_trials=50)"
      ]
    },
    {
      "cell_type": "code",
      "execution_count": 20,
      "metadata": {
        "colab": {
          "base_uri": "https://localhost:8080/"
        },
        "id": "SB7B2ccb9XyJ",
        "outputId": "c874e8ca-cfe7-4c86-cde5-bf967315b6a0"
      },
      "outputs": [
        {
          "data": {
            "text/plain": [
              "{'lambda_l1': 0.0009458753945140191,\n",
              " 'lambda_l2': 2.9217684480345176,\n",
              " 'num_leaves': 173,\n",
              " 'feature_fraction': 0.8852633382081532,\n",
              " 'bagging_fraction': 0.40369258393108254,\n",
              " 'bagging_freq': 6,\n",
              " 'min_child_samples': 68}"
            ]
          },
          "execution_count": 20,
          "metadata": {},
          "output_type": "execute_result"
        }
      ],
      "source": [
        "study.best_params"
      ]
    },
    {
      "cell_type": "code",
      "execution_count": 21,
      "metadata": {},
      "outputs": [
        {
          "name": "stdout",
          "output_type": "stream",
          "text": [
            "(4000, 3) (1000, 3)\n"
          ]
        }
      ],
      "source": [
        "from sklearn.model_selection import train_test_split\n",
        "\n",
        "\n",
        "def data_split(df, target, test_size):\n",
        "    X, Y = df.drop([\"Area\", target], axis=1), df[target]\n",
        "    x_train, x_test, y_train, y_test = train_test_split(\n",
        "        X, Y, random_state=0, test_size=test_size\n",
        "    )\n",
        "    train = pd.concat([x_train, y_train], axis=1)\n",
        "    test = pd.concat([x_test, y_test], axis=1)\n",
        "    print(x_train.shape, x_test.shape)\n",
        "    return x_train, x_test, y_train, y_test\n",
        "\n",
        "\n",
        "x_train, x_test, y_train, y_test = data_split(df, \"Fire Occurrence\", 0.2)"
      ]
    },
    {
      "cell_type": "code",
      "execution_count": 23,
      "metadata": {},
      "outputs": [
        {
          "name": "stdout",
          "output_type": "stream",
          "text": [
            "[LightGBM] [Warning] lambda_l1 is set=0.0009458753945140191, reg_alpha=0.0 will be ignored. Current value: lambda_l1=0.0009458753945140191\n",
            "[LightGBM] [Warning] feature_fraction is set=0.8852633382081532, colsample_bytree=1.0 will be ignored. Current value: feature_fraction=0.8852633382081532\n",
            "[LightGBM] [Warning] bagging_freq is set=6, subsample_freq=0 will be ignored. Current value: bagging_freq=6\n",
            "[LightGBM] [Warning] lambda_l2 is set=2.9217684480345176, reg_lambda=0.0 will be ignored. Current value: lambda_l2=2.9217684480345176\n",
            "[LightGBM] [Warning] bagging_fraction is set=0.40369258393108254, subsample=1.0 will be ignored. Current value: bagging_fraction=0.40369258393108254\n"
          ]
        },
        {
          "data": {
            "text/html": [
              "<style>#sk-container-id-1 {color: black;background-color: white;}#sk-container-id-1 pre{padding: 0;}#sk-container-id-1 div.sk-toggleable {background-color: white;}#sk-container-id-1 label.sk-toggleable__label {cursor: pointer;display: block;width: 100%;margin-bottom: 0;padding: 0.3em;box-sizing: border-box;text-align: center;}#sk-container-id-1 label.sk-toggleable__label-arrow:before {content: \"▸\";float: left;margin-right: 0.25em;color: #696969;}#sk-container-id-1 label.sk-toggleable__label-arrow:hover:before {color: black;}#sk-container-id-1 div.sk-estimator:hover label.sk-toggleable__label-arrow:before {color: black;}#sk-container-id-1 div.sk-toggleable__content {max-height: 0;max-width: 0;overflow: hidden;text-align: left;background-color: #f0f8ff;}#sk-container-id-1 div.sk-toggleable__content pre {margin: 0.2em;color: black;border-radius: 0.25em;background-color: #f0f8ff;}#sk-container-id-1 input.sk-toggleable__control:checked~div.sk-toggleable__content {max-height: 200px;max-width: 100%;overflow: auto;}#sk-container-id-1 input.sk-toggleable__control:checked~label.sk-toggleable__label-arrow:before {content: \"▾\";}#sk-container-id-1 div.sk-estimator input.sk-toggleable__control:checked~label.sk-toggleable__label {background-color: #d4ebff;}#sk-container-id-1 div.sk-label input.sk-toggleable__control:checked~label.sk-toggleable__label {background-color: #d4ebff;}#sk-container-id-1 input.sk-hidden--visually {border: 0;clip: rect(1px 1px 1px 1px);clip: rect(1px, 1px, 1px, 1px);height: 1px;margin: -1px;overflow: hidden;padding: 0;position: absolute;width: 1px;}#sk-container-id-1 div.sk-estimator {font-family: monospace;background-color: #f0f8ff;border: 1px dotted black;border-radius: 0.25em;box-sizing: border-box;margin-bottom: 0.5em;}#sk-container-id-1 div.sk-estimator:hover {background-color: #d4ebff;}#sk-container-id-1 div.sk-parallel-item::after {content: \"\";width: 100%;border-bottom: 1px solid gray;flex-grow: 1;}#sk-container-id-1 div.sk-label:hover label.sk-toggleable__label {background-color: #d4ebff;}#sk-container-id-1 div.sk-serial::before {content: \"\";position: absolute;border-left: 1px solid gray;box-sizing: border-box;top: 0;bottom: 0;left: 50%;z-index: 0;}#sk-container-id-1 div.sk-serial {display: flex;flex-direction: column;align-items: center;background-color: white;padding-right: 0.2em;padding-left: 0.2em;position: relative;}#sk-container-id-1 div.sk-item {position: relative;z-index: 1;}#sk-container-id-1 div.sk-parallel {display: flex;align-items: stretch;justify-content: center;background-color: white;position: relative;}#sk-container-id-1 div.sk-item::before, #sk-container-id-1 div.sk-parallel-item::before {content: \"\";position: absolute;border-left: 1px solid gray;box-sizing: border-box;top: 0;bottom: 0;left: 50%;z-index: -1;}#sk-container-id-1 div.sk-parallel-item {display: flex;flex-direction: column;z-index: 1;position: relative;background-color: white;}#sk-container-id-1 div.sk-parallel-item:first-child::after {align-self: flex-end;width: 50%;}#sk-container-id-1 div.sk-parallel-item:last-child::after {align-self: flex-start;width: 50%;}#sk-container-id-1 div.sk-parallel-item:only-child::after {width: 0;}#sk-container-id-1 div.sk-dashed-wrapped {border: 1px dashed gray;margin: 0 0.4em 0.5em 0.4em;box-sizing: border-box;padding-bottom: 0.4em;background-color: white;}#sk-container-id-1 div.sk-label label {font-family: monospace;font-weight: bold;display: inline-block;line-height: 1.2em;}#sk-container-id-1 div.sk-label-container {text-align: center;}#sk-container-id-1 div.sk-container {/* jupyter's `normalize.less` sets `[hidden] { display: none; }` but bootstrap.min.css set `[hidden] { display: none !important; }` so we also need the `!important` here to be able to override the default hidden behavior on the sphinx rendered scikit-learn.org. See: https://github.com/scikit-learn/scikit-learn/issues/21755 */display: inline-block !important;position: relative;}#sk-container-id-1 div.sk-text-repr-fallback {display: none;}</style><div id=\"sk-container-id-1\" class=\"sk-top-container\"><div class=\"sk-text-repr-fallback\"><pre>LGBMClassifier(bagging_fraction=0.40369258393108254, bagging_freq=6,\n",
              "               feature_fraction=0.8852633382081532,\n",
              "               lambda_l1=0.0009458753945140191, lambda_l2=2.9217684480345176,\n",
              "               min_child_samples=68, num_leaves=173)</pre><b>In a Jupyter environment, please rerun this cell to show the HTML representation or trust the notebook. <br />On GitHub, the HTML representation is unable to render, please try loading this page with nbviewer.org.</b></div><div class=\"sk-container\" hidden><div class=\"sk-item\"><div class=\"sk-estimator sk-toggleable\"><input class=\"sk-toggleable__control sk-hidden--visually\" id=\"sk-estimator-id-1\" type=\"checkbox\" checked><label for=\"sk-estimator-id-1\" class=\"sk-toggleable__label sk-toggleable__label-arrow\">LGBMClassifier</label><div class=\"sk-toggleable__content\"><pre>LGBMClassifier(bagging_fraction=0.40369258393108254, bagging_freq=6,\n",
              "               feature_fraction=0.8852633382081532,\n",
              "               lambda_l1=0.0009458753945140191, lambda_l2=2.9217684480345176,\n",
              "               min_child_samples=68, num_leaves=173)</pre></div></div></div></div></div>"
            ],
            "text/plain": [
              "LGBMClassifier(bagging_fraction=0.40369258393108254, bagging_freq=6,\n",
              "               feature_fraction=0.8852633382081532,\n",
              "               lambda_l1=0.0009458753945140191, lambda_l2=2.9217684480345176,\n",
              "               min_child_samples=68, num_leaves=173)"
            ]
          },
          "execution_count": 23,
          "metadata": {},
          "output_type": "execute_result"
        }
      ],
      "source": [
        "best_model = LGBMClassifier(**study.best_params)\n",
        "best_model.fit(x_train, y_train)"
      ]
    },
    {
      "cell_type": "code",
      "execution_count": 24,
      "metadata": {
        "colab": {
          "base_uri": "https://localhost:8080/"
        },
        "id": "A1ThhMCK9mGP",
        "outputId": "7cec13e7-1698-4100-d36c-3268e9eff055"
      },
      "outputs": [
        {
          "name": "stdout",
          "output_type": "stream",
          "text": [
            "\t\tTRAIN:\n",
            "\n",
            "Accuracy: 0.842\n",
            "\n",
            "Classification report: \n",
            "               precision    recall  f1-score   support\n",
            "\n",
            "           0       0.85      0.85      0.85      2089\n",
            "           1       0.83      0.83      0.83      1911\n",
            "\n",
            "    accuracy                           0.84      4000\n",
            "   macro avg       0.84      0.84      0.84      4000\n",
            "weighted avg       0.84      0.84      0.84      4000\n",
            "\n",
            "Confusion matrix: \n",
            " [[1773  316]\n",
            " [ 316 1595]]\n"
          ]
        }
      ],
      "source": [
        "from sklearn.metrics import (\n",
        "    accuracy_score,\n",
        "    classification_report,\n",
        "    confusion_matrix,\n",
        ")\n",
        "\n",
        "train_pred = best_model.predict(x_train)\n",
        "print(\"\\t\\tTRAIN:\\n\")\n",
        "print(f\"Accuracy: {accuracy_score(y_train, train_pred)}\\n\")\n",
        "print(f\"Classification report: \\n {classification_report(y_train, train_pred)}\")\n",
        "train_cm = confusion_matrix(y_train, train_pred)\n",
        "print(f\"Confusion matrix: \\n {confusion_matrix(y_train, train_pred)}\")"
      ]
    },
    {
      "cell_type": "code",
      "execution_count": 25,
      "metadata": {
        "colab": {
          "base_uri": "https://localhost:8080/",
          "height": 472
        },
        "id": "7wnmuT3d9siH",
        "outputId": "54c057e1-a311-4b4b-c295-b3d6058a1633"
      },
      "outputs": [
        {
          "data": {
            "image/png": "[encoded data removed]",
            "text/plain": [
              "<Figure size 640x480 with 2 Axes>"
            ]
          },
          "metadata": {},
          "output_type": "display_data"
        }
      ],
      "source": [
        "import seaborn as sns\n",
        "import matplotlib.pyplot as plt\n",
        "\n",
        "sns.heatmap(train_cm, annot=True, cmap=\"Blues\", fmt=\"d\")\n",
        "\n",
        "plt.xlabel(\"Predicted Labels\")\n",
        "plt.ylabel(\"True Labels\")\n",
        "plt.title(\"Confusion Matrix\")\n",
        "\n",
        "class_labels = [\"Fire\", \"Non Fire\"]\n",
        "ticks = np.arange(len(class_labels)) + 0.5\n",
        "plt.xticks(ticks, class_labels)\n",
        "plt.yticks(ticks, class_labels)\n",
        "plt.show()"
      ]
    },
    {
      "cell_type": "code",
      "execution_count": 26,
      "metadata": {
        "colab": {
          "base_uri": "https://localhost:8080/"
        },
        "id": "swV6BS0N9zGV",
        "outputId": "7acd0f91-7498-43ff-cc6d-277018f0b6b6"
      },
      "outputs": [
        {
          "name": "stdout",
          "output_type": "stream",
          "text": [
            "\t\tTEST:\n",
            "\n",
            "Accuracy: 0.835\n",
            "\n",
            "Classification report: \n",
            "               precision    recall  f1-score   support\n",
            "\n",
            "           0       0.84      0.83      0.84       509\n",
            "           1       0.83      0.84      0.83       491\n",
            "\n",
            "    accuracy                           0.83      1000\n",
            "   macro avg       0.83      0.84      0.83      1000\n",
            "weighted avg       0.84      0.83      0.84      1000\n",
            "\n",
            "Confusion matrix: \n",
            " [[425  84]\n",
            " [ 81 410]]\n"
          ]
        }
      ],
      "source": [
        "test_pred = best_model.predict(x_test)\n",
        "print(\"\\t\\tTEST:\\n\")\n",
        "print(f\"Accuracy: {accuracy_score(y_test, test_pred)}\\n\")\n",
        "print(f\"Classification report: \\n {classification_report(y_test, test_pred)}\")\n",
        "test_cm = confusion_matrix(y_test, test_pred)\n",
        "print(f\"Confusion matrix: \\n {test_cm}\")"
      ]
    },
    {
      "cell_type": "code",
      "execution_count": 27,
      "metadata": {
        "colab": {
          "base_uri": "https://localhost:8080/",
          "height": 472
        },
        "id": "LvWbCPq597YS",
        "outputId": "903e8693-760b-4a2e-ecb2-772dae8ddd3b"
      },
      "outputs": [
        {
          "data": {
            "image/png": "[encoded data removed]",
            "text/plain": [
              "<Figure size 640x480 with 2 Axes>"
            ]
          },
          "metadata": {},
          "output_type": "display_data"
        }
      ],
      "source": [
        "sns.heatmap(test_cm, annot=True, cmap=\"Blues\", fmt=\"d\")\n",
        "\n",
        "plt.xlabel(\"Predicted Labels\")\n",
        "plt.ylabel(\"True Labels\")\n",
        "plt.title(\"Confusion Matrix\")\n",
        "\n",
        "class_labels = [\"Fire\", \"Non Fire\"]\n",
        "ticks = np.arange(len(class_labels)) + 0.5\n",
        "plt.xticks(ticks, class_labels)\n",
        "plt.yticks(ticks, class_labels)\n",
        "plt.show()"
      ]
    },
    {
      "cell_type": "code",
      "execution_count": 29,
      "metadata": {
        "id": "AnDTY4Tf-Dji"
      },
      "outputs": [],
      "source": [
        "import pickle\n",
        "\n",
        "file_name = \"LGBMClassifier.pkl\"\n",
        "with open(file_name, \"wb\") as f:\n",
        "    pickle.dump(best_model, f)"
      ]
    },
    {
      "cell_type": "code",
      "execution_count": null,
      "metadata": {
        "id": "HTSkfHiz-KL3"
      },
      "outputs": [],
      "source": []
    },
    {
      "cell_type": "code",
      "execution_count": null,
      "metadata": {},
      "outputs": [],
      "source": []
    }
  ],
  "metadata": {
    "colab": {
      "provenance": []
    },
    "kernelspec": {
      "display_name": "Python 3",
      "name": "python3"
    },
    "language_info": {
      "codemirror_mode": {
        "name": "ipython",
        "version": 3
      },
      "file_extension": ".py",
      "mimetype": "text/x-python",
      "name": "python",
      "nbconvert_exporter": "python",
      "pygments_lexer": "ipython3",
      "version": "3.9.16"
    }
  },
  "nbformat": 4,
  "nbformat_minor": 0
}
